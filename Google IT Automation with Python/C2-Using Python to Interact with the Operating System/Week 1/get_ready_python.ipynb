{
 "cells": [
  {
   "cell_type": "markdown",
   "metadata": {},
   "source": [
    "# Week 1\n",
    "## Using Python to Interact with the Operating System\n",
    "\n",
    "### Learning more about operating systems\n",
    "We’ve talked briefly about what an operating system is and what we'll need to know about operating systems for this course. If you want to learn some additional operating system concepts, check out the videos on this subject in the [Technical Support Fundamentals course](https://www.coursera.org/lecture/technical-support-fundamentals/module-introduction-I3n9l). If you want to dive deeper onto how to manage Windows and Linux, check out the [Operating Systems and You: Becoming a Power User](https://www.coursera.org/learn/os-power-user) course.\n",
    "\n",
    "If you want to discover more about the history of Unix, you can read all the details on the Unix [Wikipedia page]().\n",
    "\n",
    "### Installing Python and additional modules\n",
    "If you don't have Python installed yet, we recommend that you visit the [official Python website](https://www.python.org/) and download the installer that corresponds to your operating system.\n",
    "\n",
    " There’s a bunch of guides out there for installing Python and they all follow a similar process to the one we described in the videos. This [guide from Real Python](https://realpython.com/installing-python/) includes instructions on how to install python on a range of different operating systems and distributions.\n",
    "\n",
    " Once you have Python installed on your operating system, it's a good idea to familiarize yourself with pip and the associated tools. You can find more info about these [here](https://packaging.python.org/en/latest/guides/installing-using-pip-and-virtual-environments/).\n",
    "\n",
    "### Using package management systems\n",
    "Package management systems help you better manage the software installed on your machine. These management systems vary a lot from operating system to operating system. So, you need to pick the one that works for the OS you’re using. Check out these guides for help with this: \n",
    "\n",
    "- [Installing Python 3 on Windows 10 with Chocolatey](https://www.digitalocean.com/community/tutorials/how-to-install-python-3-and-set-up-a-local-programming-environment-on-windows-10)\n",
    "\n",
    "- [Installing Python 3 on MacOS with Homebrew](https://pyladies.com/blog/Get-Your-Mac-Ready-for-Python-Programming/)\n",
    "\n",
    "- [Package management basics on Linux](https://www.digitalocean.com/community/tutorials/package-management-basics-apt-yum-dnf-pkg)\n",
    "\n",
    "### Other information\n",
    "- [Python in the Microsoft Store for Windows 10](https://devblogs.microsoft.com/python/python-in-the-windows-10-may-2019-update/)"
   ]
  }
 ],
 "metadata": {
  "language_info": {
   "name": "python"
  },
  "orig_nbformat": 4
 },
 "nbformat": 4,
 "nbformat_minor": 2
}
