{
 "cells": [
  {
   "cell_type": "markdown",
   "metadata": {},
   "source": [
    "# Week 1\n",
    "## Setting up Your Environment\n",
    "\n",
    "After you’ve installed Python and checked that it works, the next step to set up your developer environment is to choose your main code editor.\n",
    "\n",
    "These are some of the common editors for Python, available for all platforms:\n",
    "\n",
    "- [Atom](https://atom.io/)\n",
    "\n",
    "- [Eclipse](https://www.eclipse.org/)\n",
    "\n",
    "- [PyCharm](https://www.jetbrains.com/pycharm/)\n",
    "\n",
    "- [Sublime Text](http://www.sublimetext.com/)\n",
    "\n",
    "- [Visual Studio Code](https://code.visualstudio.com/)\n",
    "\n",
    "You can read more about these editors, and others, in these overview comparatives:\n",
    "\n",
    "- [Python IDEs and Code Editors (Guide)](https://realpython.com/python-ides-code-editors-guide/#pycharm)\n",
    "\n",
    "- [Best Python IDEs and Code Editors](https://www.softwaretestinghelp.com/python-ide-code-editors/)\n",
    "\n",
    "- [Top 5 Python IDEs for Data Science](https://www.datacamp.com/community/tutorials/data-science-python-ide)\n",
    "\n",
    "We encourage you to try out these editors and pick your favorite. Then, install it on your computer and experiment with writing and executing Python scripts locally."
   ]
  }
 ],
 "metadata": {
  "language_info": {
   "name": "python"
  },
  "orig_nbformat": 4
 },
 "nbformat": 4,
 "nbformat_minor": 2
}
