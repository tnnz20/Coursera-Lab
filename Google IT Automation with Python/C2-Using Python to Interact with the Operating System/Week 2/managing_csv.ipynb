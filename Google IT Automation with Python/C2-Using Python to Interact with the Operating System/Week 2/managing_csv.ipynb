{
 "cells": [
  {
   "cell_type": "markdown",
   "metadata": {},
   "source": [
    "# Week 2\n",
    "\n",
    "## CSV Files Cheat Sheet\n",
    "Check out the following links for more information:\n",
    "- https://docs.python.org/3/library/csv.html\n",
    "\n",
    "- https://realpython.com/python-csv/"
   ]
  }
 ],
 "metadata": {
  "language_info": {
   "name": "python"
  },
  "orig_nbformat": 4
 },
 "nbformat": 4,
 "nbformat_minor": 2
}
