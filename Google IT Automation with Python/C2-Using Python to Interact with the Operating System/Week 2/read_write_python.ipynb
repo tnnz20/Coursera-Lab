{
 "cells": [
  {
   "cell_type": "markdown",
   "metadata": {},
   "source": [
    "# Week 2\n",
    "## Reading and Writing Files Cheat-Sheet\n"
   ]
  },
  {
   "cell_type": "markdown",
   "metadata": {},
   "source": [
    "|Character|Meaning\n",
    "|:---:|---\n",
    "|'r'| open for reading (default)\n",
    "|'w'| open for writing, truncating the file first\n",
    "|'x'| open for exclusive creation, failing if the file already exists\n",
    "|'a'| open for writing, appending to the end of file if it exists\n",
    "|'b'| binary mode\n",
    "|'t'| text mode (default)\n",
    "|'+'| open for updating (reading and writing)\n",
    "\n",
    "The default mode is 'r' (open for reading text, a synonym of 'rt'). Modes 'w+' and 'w+b' open and truncate the file. Modes 'r+' and 'r+b' open the file with no truncation.\n",
    "\n",
    "Example\n",
    "```\n",
    "with open('novel.txt', 'w') as file:\n",
    "    (file.write('end of novel.'))\n",
    "```\n",
    "\n",
    "or \n",
    "\n",
    "```\n",
    "file = open('novel.txt', 'r')\n",
    "print(file.read())\n",
    "```"
   ]
  }
 ],
 "metadata": {
  "language_info": {
   "name": "python"
  },
  "orig_nbformat": 4
 },
 "nbformat": 4,
 "nbformat_minor": 2
}
