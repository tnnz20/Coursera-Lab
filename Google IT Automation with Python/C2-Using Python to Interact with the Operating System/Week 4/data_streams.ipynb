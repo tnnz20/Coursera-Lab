{
 "cells": [
  {
   "cell_type": "markdown",
   "metadata": {},
   "source": [
    "# Week 4\n",
    "## Data Streams"
   ]
  },
  {
   "cell_type": "markdown",
   "metadata": {},
   "source": [
    "Terminology Data Streams\n",
    "- `STDIN` = STANDARD INPUT\n",
    "- `STDOUT` = STANDARD OUTPUT\n",
    "- `STDERR` = STANDARD ERROR"
   ]
  },
  {
   "cell_type": "markdown",
   "metadata": {},
   "source": [
    "### Reading Data interactively\n",
    "using `input()` methods"
   ]
  },
  {
   "cell_type": "code",
   "execution_count": 1,
   "metadata": {},
   "outputs": [
    {
     "data": {
      "text/plain": [
       "'Hello bro'"
      ]
     },
     "execution_count": 1,
     "metadata": {},
     "output_type": "execute_result"
    }
   ],
   "source": [
    "def greeting(text):\n",
    "    return 'Hello ' + text\n",
    "\n",
    "text = input('Masukan nama : ')\n",
    "greeting(text)"
   ]
  },
  {
   "cell_type": "code",
   "execution_count": 4,
   "metadata": {},
   "outputs": [
    {
     "name": "stdout",
     "output_type": "stream",
     "text": [
      "Welcome to this time converter\n",
      "That 18182 seconnds.\n",
      "\n",
      "Thanks you\n"
     ]
    }
   ],
   "source": [
    "def to_second(hours, minutes, seconds):\n",
    "    return hours*3600+minutes*60+seconds\n",
    "\n",
    "print('Welcome to this time converter')\n",
    "chose = 'y'\n",
    "while chose.lower() == 'y':\n",
    "    hours = int(input('Enter the number of Hours: '))\n",
    "    minutes = int(input('Enter the number of Minutes: '))\n",
    "    seconds = int(input('Enter the number of Seconds: '))\n",
    "    \n",
    "    print(f'That {to_second(hours, minutes, seconds)} seconnds.\\n')\n",
    "    chose = input('Do you want to do another [y to continue, n to stop the program] : ')\n",
    "print('Thanks you')"
   ]
  },
  {
   "cell_type": "markdown",
   "metadata": {},
   "source": [
    "### Standard Streams"
   ]
  },
  {
   "cell_type": "code",
   "execution_count": 5,
   "metadata": {},
   "outputs": [
    {
     "name": "stdout",
     "output_type": "stream",
     "text": [
      "Now we write it to STDOUT : 23\n"
     ]
    },
    {
     "ename": "TypeError",
     "evalue": "can only concatenate str (not \"int\") to str",
     "output_type": "error",
     "traceback": [
      "\u001b[1;31m---------------------------------------------------------------------------\u001b[0m",
      "\u001b[1;31mTypeError\u001b[0m                                 Traceback (most recent call last)",
      "\u001b[1;32m~\\AppData\\Local\\Temp/ipykernel_13408/3397378856.py\u001b[0m in \u001b[0;36m<module>\u001b[1;34m\u001b[0m\n\u001b[0;32m      1\u001b[0m \u001b[0mdata\u001b[0m \u001b[1;33m=\u001b[0m \u001b[0minput\u001b[0m\u001b[1;33m(\u001b[0m\u001b[1;34m'This will come from STDIN: '\u001b[0m\u001b[1;33m)\u001b[0m\u001b[1;33m\u001b[0m\u001b[1;33m\u001b[0m\u001b[0m\n\u001b[0;32m      2\u001b[0m \u001b[0mprint\u001b[0m\u001b[1;33m(\u001b[0m\u001b[1;34m'Now we write it to STDOUT : '\u001b[0m \u001b[1;33m+\u001b[0m \u001b[0mdata\u001b[0m\u001b[1;33m)\u001b[0m\u001b[1;33m\u001b[0m\u001b[1;33m\u001b[0m\u001b[0m\n\u001b[1;32m----> 3\u001b[1;33m \u001b[0mprint\u001b[0m\u001b[1;33m(\u001b[0m\u001b[1;34m'Now we generate an error to STDERR: '\u001b[0m \u001b[1;33m+\u001b[0m \u001b[0mdata\u001b[0m \u001b[1;33m+\u001b[0m \u001b[1;36m1\u001b[0m\u001b[1;33m)\u001b[0m\u001b[1;33m\u001b[0m\u001b[1;33m\u001b[0m\u001b[0m\n\u001b[0m",
      "\u001b[1;31mTypeError\u001b[0m: can only concatenate str (not \"int\") to str"
     ]
    }
   ],
   "source": [
    "data = input('This will come from STDIN: ')\n",
    "print('Now we write it to STDOUT : ' + data)\n",
    "print('Now we generate an error to STDERR: ' + data + 1)"
   ]
  },
  {
   "cell_type": "markdown",
   "metadata": {},
   "source": [
    "### Enivornment Variables\n",
    "get PATH the file"
   ]
  },
  {
   "cell_type": "code",
   "execution_count": null,
   "metadata": {},
   "outputs": [],
   "source": [
    "import os\n",
    "\n",
    "print('Home : ' + os.environ.get('HOME', ''))\n",
    "print('SHELL : ' + os.environ.get('SHELL', ''))\n",
    "print('FRUIT : ' + os.environ.get('FRUIT', ''))"
   ]
  },
  {
   "cell_type": "markdown",
   "metadata": {},
   "source": [
    "### Command-Line Arguments and Exit status"
   ]
  },
  {
   "cell_type": "code",
   "execution_count": 6,
   "metadata": {},
   "outputs": [
    {
     "name": "stdout",
     "output_type": "stream",
     "text": [
      "['C:\\\\Users\\\\USER\\\\AppData\\\\Local\\\\Programs\\\\Python\\\\Python39\\\\lib\\\\site-packages\\\\ipykernel_launcher.py', '--ip=127.0.0.1', '--stdin=9019', '--control=9017', '--hb=9016', '--Session.signature_scheme=\"hmac-sha256\"', '--Session.key=b\"c534fa50-2b61-4c9c-b64d-081b14658fbc\"', '--shell=9018', '--transport=\"tcp\"', '--iopub=9020', '--f=C:\\\\Users\\\\USER\\\\AppData\\\\Local\\\\Temp\\\\tmp-20408LYwaFEUk5Wyg.json']\n"
     ]
    }
   ],
   "source": [
    "import sys\n",
    "print(sys.argv)"
   ]
  },
  {
   "cell_type": "markdown",
   "metadata": {},
   "source": [
    "When we call the program which has print(sys.argv)\n",
    "```\n",
    "./namefile.py one two three\n",
    "\n",
    "output : ['./namafile.py', 'one', 'two', 'three']\n",
    "```"
   ]
  },
  {
   "cell_type": "markdown",
   "metadata": {},
   "source": [
    "## More About Input Functions\n",
    "\n",
    "Now, you may have noticed that most of the Python code samples we've used include the line \n",
    "\n",
    "`#!/usr/bin/env python3`\n",
    "\n",
    "Now, this is important, because it sets the Python version to Python 3.\n",
    "\n",
    "There are some subtle differences in how data streams are handled in Python 3 and older versions, such as Python 2. Let’s just focus on input() and raw_input(), because they work differently in Python 2 and 3, and you would want to use one or the other depending on the Python version.\n",
    "\n",
    "**In Python 2**\n",
    "Taking an input from a user, raw_input should be used:\n",
    "```\n",
    ">>> my_number = raw_input('Please Enter a Number: \\n')\n",
    "Please Enter a Number: \n",
    "1337\n",
    ">>> print(my_number)\n",
    "1337\n",
    ">>>\n",
    "```\n",
    "Now, this is important, because, raw_input does not evaluate an otherwise valid Python expression. In simple terms, raw_input will just get a string from a user, where input will actually perform basic maths and the like. See below:\n",
    "```\n",
    ">>> my_raw_input = raw_input('Please Enter a Number: \\n')\n",
    "Please Enter a Number: \n",
    "123 + 1  # This is treated like a raw string.\n",
    ">>> my_input = input('Please Enter a Number: \\n')\n",
    "Please Enter a Number: \n",
    "123 + 1 # This is treated like an expression.\n",
    ">>> print(my_raw_input)\n",
    "123 + 1\n",
    ">>> print(my_input)\n",
    "124 # See that the expression was evaluated!\n",
    "```\n",
    "In Python 2 input(x) is just eval(raw_input(x)). eval() will just evaluate a generic string as if it were a Python expression.\n",
    "\n",
    "**In Python 3**\n",
    "Taking an input from a user, input should be used. See the below sample:\n",
    "```\n",
    ">>> my_number = input('Please Enter a Number: \\n')\n",
    "Please Enter a Number: \n",
    "123 + 1\n",
    ">>> print(my_number)\n",
    "123 + 1\n",
    ">>> type(my_number)\n",
    "<class 'str'>\n",
    "```\n",
    "Notice that the expression is treated just like a string. It is not evaluated. If we want to, we can call eval() and that will actually execute the string as an expression:\n",
    "```\n",
    ">>> my_number = input('Please Enter a Number: \\n')\n",
    "Please Enter a Number: \n",
    "123 + 1\n",
    ">>> print(my_number)\n",
    "123 + 1\n",
    ">>> eval(my_number)\n",
    "124\n",
    "```\n",
    "\n",
    "Finally, it’s worth noting, raw_input doesn’t natively exist in Python 3, but there are some tricky ways to force the interpreter to evaluate raw_input in backwards compatible ways. This can be useful for modernizing legacy Python code without rewriting large portions of it. Research on this topic is better left to the reader, as there are lots of fun (and sometimes scary) ways of doing this.\n",
    "\n",
    "### Summary\n",
    "Python 2 and Python 3 handle input and raw_input differently.\n",
    "\n",
    "In Python 2\n",
    "\n",
    "- input(x) is roughly the same as eval(raw_input(x))\n",
    "\n",
    "- raw_input() is preferred, unless the author wants to support evaluating string expressions.\n",
    "\n",
    "- eval() is used to evaluate string expressions.\n",
    "\n",
    "Standard Library Docs:\n",
    "\n",
    "- https://docs.python.org/2/library/functions.html#input\n",
    "\n",
    "- https://docs.python.org/2/library/functions.html#raw_input\n",
    "\n",
    "- https://docs.python.org/2/library/functions.html#eval\n",
    "\n",
    "In Python 3\n",
    "\n",
    "- Input handles string as a generic string. It does not evaluate the string as a string expression.\n",
    "\n",
    "- raw_input doesn’t exist, but with some tricky techniques, it can be supported.\n",
    "\n",
    "- eval() can be used the same as Python 2.\n",
    "\n",
    "Standard Library Docs: \n",
    "\n",
    "- https://docs.python.org/3/library/functions.html#input\n",
    "\n",
    "- https://docs.python.org/3/library/functions.html#eval"
   ]
  }
 ],
 "metadata": {
  "interpreter": {
   "hash": "23300995598eec4bcf6bd89cf02d1c3675e8b2616661418dbbf5580aa901878d"
  },
  "kernelspec": {
   "display_name": "Python 3.9.5 64-bit",
   "language": "python",
   "name": "python3"
  },
  "language_info": {
   "codemirror_mode": {
    "name": "ipython",
    "version": 3
   },
   "file_extension": ".py",
   "mimetype": "text/x-python",
   "name": "python",
   "nbconvert_exporter": "python",
   "pygments_lexer": "ipython3",
   "version": "3.9.5"
  },
  "orig_nbformat": 4
 },
 "nbformat": 4,
 "nbformat_minor": 2
}
