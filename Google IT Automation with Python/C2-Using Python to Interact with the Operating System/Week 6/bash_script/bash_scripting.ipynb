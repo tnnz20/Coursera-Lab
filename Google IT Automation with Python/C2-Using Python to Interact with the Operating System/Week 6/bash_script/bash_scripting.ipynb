{
 "cells": [
  {
   "cell_type": "markdown",
   "metadata": {},
   "source": [
    "# Week 6\n",
    "## Bash Scripting Resources\n",
    "Check out the following links for more information:\n",
    "\n",
    "- https://ryanstutorials.net/bash-scripting-tutorial/\n",
    "\n",
    "- https://linuxconfig.org/bash-scripting-tutorial-for-beginners\n",
    "\n",
    "- https://www.shellscript.sh"
   ]
  }
 ],
 "metadata": {
  "language_info": {
   "name": "python"
  },
  "orig_nbformat": 4
 },
 "nbformat": 4,
 "nbformat_minor": 2
}
