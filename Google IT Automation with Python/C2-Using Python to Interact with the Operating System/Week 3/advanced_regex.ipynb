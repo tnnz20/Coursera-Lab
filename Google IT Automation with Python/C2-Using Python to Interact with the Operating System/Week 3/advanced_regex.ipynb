{
 "cells": [
  {
   "cell_type": "markdown",
   "metadata": {},
   "source": [
    "# Week 3\n",
    "## Advanced Regular Expressions\n",
    "\n",
    "### Advanced Regular Expressions Cheat-Sheet\n",
    "Check out the following link for more information:\n",
    "\n",
    "- https://regexcrossword.com/"
   ]
  },
  {
   "cell_type": "markdown",
   "metadata": {},
   "source": [
    "### Capturing Groups\n",
    "\n",
    "`( )` to match specific information in the text"
   ]
  },
  {
   "cell_type": "markdown",
   "metadata": {},
   "source": [
    "> Pop Quiz\n",
    "\n",
    "Fix the regular expression used in the rearrange_name function so that it can match middle names, middle initials, as well as double surnames."
   ]
  },
  {
   "cell_type": "code",
   "execution_count": 16,
   "metadata": {},
   "outputs": [
    {
     "name": "stdout",
     "output_type": "stream",
     "text": [
      "John F. Kennedy\n"
     ]
    }
   ],
   "source": [
    "import re\n",
    "def rearrange_name(name):\n",
    "  result = re.search(r\"^([\\w \\.-]*), ([\\w \\.-]*)$\", name)\n",
    "  if result == None:\n",
    "    return name\n",
    "  return \"{} {}\".format(result[2], result[1])\n",
    "\n",
    "name=rearrange_name(\"Kennedy, John F.\")\n",
    "print(name)"
   ]
  },
  {
   "cell_type": "markdown",
   "metadata": {},
   "source": [
    "### Match on Repetition Qualifers\n",
    "\n",
    "`{ }` to indicate length"
   ]
  },
  {
   "cell_type": "code",
   "execution_count": 17,
   "metadata": {},
   "outputs": [
    {
     "name": "stdout",
     "output_type": "stream",
     "text": [
      "<re.Match object; span=(2, 7), match='ghost'>\n",
      "<re.Match object; span=(2, 7), match='scary'>\n",
      "['scary', 'ghost', 'appre']\n",
      "['scary', 'ghost']\n",
      "['really', 'strawberri']\n",
      "['really', 'strawberries']\n",
      "<re.Match object; span=(14, 26), match='strawberries'>\n"
     ]
    }
   ],
   "source": [
    "print(re.search(r'[a-zA-Z]{5}', 'a ghost'))\n",
    "\n",
    "print(re.search(r'[a-zA-Z]{5}', 'a scary ghost appread'))\n",
    "\n",
    "print(re.findall(r'[a-zA-Z]{5}', 'a scary ghost appread'))\n",
    "\n",
    "print(re.findall(r'\\b[a-zA-Z]{5}\\b', 'a scary ghost appread'))\n",
    "\n",
    "print(re.findall(r'\\w{5,10}', 'I really like strawberries'))\n",
    "\n",
    "print(re.findall(r'\\w{5,}', 'I really like strawberries'))\n",
    "\n",
    "print(re.search(r's\\w{,20}', 'I really like strawberries'))"
   ]
  },
  {
   "cell_type": "markdown",
   "metadata": {},
   "source": [
    "> Pop Quiz\n",
    "\n",
    "The long_words function returns all words that are at least 7 characters. Fill in the regular expression to complete this function."
   ]
  },
  {
   "cell_type": "code",
   "execution_count": 18,
   "metadata": {},
   "outputs": [
    {
     "name": "stdout",
     "output_type": "stream",
     "text": [
      "['morning']\n",
      "['chocolate', 'afternoon']\n",
      "[]\n"
     ]
    }
   ],
   "source": [
    "import re\n",
    "def long_words(text):\n",
    "  pattern = r'\\w{7,}'\n",
    "  result = re.findall(pattern, text)\n",
    "  return result\n",
    "\n",
    "print(long_words(\"I like to drink coffee in the morning.\")) # ['morning']\n",
    "print(long_words(\"I also have a taste for hot chocolate in the afternoon.\")) # ['chocolate', 'afternoon']\n",
    "print(long_words(\"I never drink tea late at night.\")) # []"
   ]
  },
  {
   "cell_type": "markdown",
   "metadata": {},
   "source": [
    "### PID Process ID"
   ]
  },
  {
   "cell_type": "code",
   "execution_count": 19,
   "metadata": {},
   "outputs": [
    {
     "name": "stdout",
     "output_type": "stream",
     "text": [
      "23451\n",
      "\n"
     ]
    }
   ],
   "source": [
    "def extract_pid(log_line):\n",
    "    regex = r'\\[(\\d+)\\]'\n",
    "    result = re.search(regex, log_line)\n",
    "    if result is None:\n",
    "        return ''\n",
    "    return result[1]\n",
    "\n",
    "\n",
    "print(extract_pid('this gonna be use log time[23451]'))\n",
    "\n",
    "print(extract_pid('eror code return empty [string]'))"
   ]
  },
  {
   "cell_type": "markdown",
   "metadata": {},
   "source": [
    ">Pop Quiz\n",
    "\n",
    "Add to the regular expression used in the extract_pid function, to return the uppercase message in parenthesis, after the process id."
   ]
  },
  {
   "cell_type": "code",
   "execution_count": 20,
   "metadata": {},
   "outputs": [
    {
     "name": "stdout",
     "output_type": "stream",
     "text": [
      "12345 (ERROR)\n",
      "None\n",
      "None\n",
      "67890 (RUNNING)\n"
     ]
    }
   ],
   "source": [
    "import re\n",
    "def extract_pid(log_line):\n",
    "    regex = r\"\\[(\\d+)\\]:\\s([A-Z]+)\"\n",
    "    result = re.search(regex, log_line)\n",
    "    if result is None:\n",
    "        return None\n",
    "    return \"{} ({})\".format(result[1], result[2])\n",
    "\n",
    "print(extract_pid(\"July 31 07:51:48 mycomputer bad_process[12345]: ERROR Performing package upgrade\")) # 12345 (ERROR)\n",
    "print(extract_pid(\"99 elephants in a [cage]\")) # None\n",
    "print(extract_pid(\"A string that also has numbers [34567] but no uppercase message\")) # None\n",
    "print(extract_pid(\"July 31 08:08:08 mycomputer new_process[67890]: RUNNING Performing backup\")) # 67890 (RUNNING)"
   ]
  },
  {
   "cell_type": "markdown",
   "metadata": {},
   "source": [
    "### Splitting and Replacing"
   ]
  },
  {
   "cell_type": "code",
   "execution_count": 21,
   "metadata": {},
   "outputs": [
    {
     "name": "stdout",
     "output_type": "stream",
     "text": [
      "['One sentence', ' Another one', ' And the last one', '']\n",
      "['One sentence', '.', ' Another one', '?', ' And the last one', '!', '']\n"
     ]
    }
   ],
   "source": [
    "print(re.split(r'[.?!]', 'One sentence. Another one? And the last one!'))\n",
    "\n",
    "print(re.split(r'([.?!])', 'One sentence. Another one? And the last one!'))"
   ]
  },
  {
   "cell_type": "code",
   "execution_count": 22,
   "metadata": {},
   "outputs": [
    {
     "name": "stdout",
     "output_type": "stream",
     "text": [
      "Received an email for [REDACTED]\n",
      "Ada Lovelace\n"
     ]
    }
   ],
   "source": [
    "print(re.sub(r'[\\w.%+-]+@[\\w.-]+', '[REDACTED]', 'Received an email for go_nuts95@my.example.com'))\n",
    "\n",
    "print(re.sub(r'^([\\w .-]*), ([\\w .-]*)$', r'\\2 \\1', \"Lovelace, Ada\"))"
   ]
  },
  {
   "cell_type": "markdown",
   "metadata": {},
   "source": [
    "> Pop Quiz\n",
    "\n",
    "We want to split a piece of text by either the word \"a\" or \"the\", as implemented in the following code. What is the resulting split list?"
   ]
  },
  {
   "cell_type": "code",
   "execution_count": 23,
   "metadata": {},
   "outputs": [
    {
     "data": {
      "text/plain": [
       "['One sentence. Ano', 'r one? And ', ' l', 'st one!']"
      ]
     },
     "execution_count": 23,
     "metadata": {},
     "output_type": "execute_result"
    }
   ],
   "source": [
    "re.split(r\"the|a\", \"One sentence. Another one? And the last one!\")"
   ]
  },
  {
   "cell_type": "markdown",
   "metadata": {},
   "source": [
    "## Practice Quiz"
   ]
  },
  {
   "cell_type": "markdown",
   "metadata": {},
   "source": [
    "We're working with a CSV file, which contains employee information. Each record has a name field, followed by a phone number field, and a role field. The phone number field contains U.S. phone numbers, and needs to be modified to the international format, with \"+1-\" in front of the phone number. Fill in the regular expression, using groups, to use the transform_record function to do that."
   ]
  },
  {
   "cell_type": "code",
   "execution_count": 24,
   "metadata": {},
   "outputs": [
    {
     "name": "stdout",
     "output_type": "stream",
     "text": [
      "Sabrina Green,+1-802-867-5309,System Administrator\n",
      "Eli Jones,+1-684-3481127,IT specialist\n",
      "Melody Daniels,+1-846-687-7436,Programmer\n",
      "Charlie Rivera,+1-698-746-3357,Web Developer\n"
     ]
    }
   ],
   "source": [
    "import re\n",
    "def transform_record(record):\n",
    "  new_record = re.sub(r'([\\d-]+)', r'+1-\\1', record)\n",
    "  return new_record\n",
    "\n",
    "print(transform_record(\"Sabrina Green,802-867-5309,System Administrator\")) \n",
    "# Sabrina Green,+1-802-867-5309,System Administrator\n",
    "\n",
    "print(transform_record(\"Eli Jones,684-3481127,IT specialist\")) \n",
    "# Eli Jones,+1-684-3481127,IT specialist\n",
    "\n",
    "print(transform_record(\"Melody Daniels,846-687-7436,Programmer\")) \n",
    "# Melody Daniels,+1-846-687-7436,Programmer\n",
    "\n",
    "print(transform_record(\"Charlie Rivera,698-746-3357,Web Developer\")) \n",
    "# Charlie Rivera,+1-698-746-3357,Web Developer"
   ]
  },
  {
   "cell_type": "markdown",
   "metadata": {},
   "source": [
    "The multi_vowel_words function returns all words with 3 or more consecutive vowels (a, e, i, o, u). Fill in the regular expression to do that."
   ]
  },
  {
   "cell_type": "code",
   "execution_count": 25,
   "metadata": {},
   "outputs": [
    {
     "name": "stdout",
     "output_type": "stream",
     "text": [
      "['beautiful']\n",
      "['Obviously', 'queen', 'courageous', 'gracious']\n",
      "['rambunctious', 'quietly', 'delicious']\n",
      "['queue']\n",
      "[]\n"
     ]
    }
   ],
   "source": [
    "import re\n",
    "def multi_vowel_words(text):\n",
    "  pattern = r'(\\w*[aeiou]{3,}\\w+)'\n",
    "  result = re.findall(pattern, text)\n",
    "  return result\n",
    "\n",
    "print(multi_vowel_words(\"Life is beautiful\")) \n",
    "# ['beautiful']\n",
    "\n",
    "print(multi_vowel_words(\"Obviously, the queen is courageous and gracious.\")) \n",
    "# ['Obviously', 'queen', 'courageous', 'gracious']\n",
    "\n",
    "print(multi_vowel_words(\"The rambunctious children had to sit quietly and await their delicious dinner.\")) \n",
    "# ['rambunctious', 'quietly', 'delicious']\n",
    "\n",
    "print(multi_vowel_words(\"The order of a data queue is First In First Out (FIFO)\")) \n",
    "# ['queue']\n",
    "\n",
    "print(multi_vowel_words(\"Hello world!\")) \n",
    "# []"
   ]
  },
  {
   "cell_type": "markdown",
   "metadata": {},
   "source": [
    "The transform_comments function converts comments in a Python script into those usable by a C compiler. This means looking for text that begins with a hash mark (#) and replacing it with double slashes (//), which is the C single-line comment indicator. For the purpose of this exercise, we'll ignore the possibility of a hash mark embedded inside of a Python command, and assume that it's only used to indicate a comment. We also want to treat repetitive hash marks (##), (###), etc., as a single comment indicator, to be replaced with just (//) and not (#//) or (//#). Fill in the parameters of the substitution method to complete this function: "
   ]
  },
  {
   "cell_type": "code",
   "execution_count": 26,
   "metadata": {},
   "outputs": [
    {
     "name": "stdout",
     "output_type": "stream",
     "text": [
      "// Start of program\n",
      "  number = 0   // Initialize the variable\n",
      "  number += 1   // Increment the variable\n",
      "  return(number)\n"
     ]
    }
   ],
   "source": [
    "import re\n",
    "def transform_comments(line_of_code):\n",
    "  result = re.sub(r'#{1,}', r'//', line_of_code)\n",
    "  return result\n",
    "\n",
    "print(transform_comments(\"### Start of program\")) \n",
    "# Should be \"// Start of program\"\n",
    "print(transform_comments(\"  number = 0   ## Initialize the variable\")) \n",
    "# Should be \"  number = 0   // Initialize the variable\"\n",
    "print(transform_comments(\"  number += 1   # Increment the variable\")) \n",
    "# Should be \"  number += 1   // Increment the variable\"\n",
    "print(transform_comments(\"  return(number)\")) \n",
    "# Should be \"  return(number)\""
   ]
  },
  {
   "cell_type": "markdown",
   "metadata": {},
   "source": [
    "The convert_phone_number function checks for a U.S. phone number format: XXX-XXX-XXXX (3 digits followed by a dash, 3 more digits followed by a dash, and 4 digits), and converts it to a more formal format that looks like this: (XXX) XXX-XXXX. Fill in the regular expression to complete this function."
   ]
  },
  {
   "cell_type": "code",
   "execution_count": 27,
   "metadata": {},
   "outputs": [
    {
     "name": "stdout",
     "output_type": "stream",
     "text": [
      "My number is (212) 345-9999.\n",
      "Please call (888) 555-1234\n",
      "123-123-12345\n",
      "Phone number of Buckingham Palace is +44 303 123 7300\n"
     ]
    }
   ],
   "source": [
    "import re\n",
    "def convert_phone_number(phone):\n",
    "  result = re.sub(r'\\b\\s(\\d{3})-(\\d{3}-)(\\d{4})', r' (\\1) \\2\\3', phone)\n",
    "  return result\n",
    "\n",
    "print(convert_phone_number(\"My number is 212-345-9999.\")) # My number is (212) 345-9999.\n",
    "print(convert_phone_number(\"Please call 888-555-1234\")) # Please call (888) 555-1234\n",
    "print(convert_phone_number(\"123-123-12345\")) # 123-123-12345\n",
    "print(convert_phone_number(\"Phone number of Buckingham Palace is +44 303 123 7300\")) # Phone number of Buckingham Palace is +44 303 123 7300"
   ]
  }
 ],
 "metadata": {
  "interpreter": {
   "hash": "23300995598eec4bcf6bd89cf02d1c3675e8b2616661418dbbf5580aa901878d"
  },
  "kernelspec": {
   "display_name": "Python 3.9.5 64-bit",
   "language": "python",
   "name": "python3"
  },
  "language_info": {
   "codemirror_mode": {
    "name": "ipython",
    "version": 3
   },
   "file_extension": ".py",
   "mimetype": "text/x-python",
   "name": "python",
   "nbconvert_exporter": "python",
   "pygments_lexer": "ipython3",
   "version": "3.9.5"
  },
  "orig_nbformat": 4
 },
 "nbformat": 4,
 "nbformat_minor": 2
}
