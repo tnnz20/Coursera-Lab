{
 "cells": [
  {
   "cell_type": "markdown",
   "metadata": {},
   "source": [
    "# Week 3\n",
    "## Regular Expressions\n",
    "Check out the following links for more information:\n",
    "\n",
    "- https://docs.python.org/3/howto/regex.html\n",
    "\n",
    "- https://docs.python.org/3/library/re.html\n",
    "\n",
    "- https://docs.python.org/3/howto/regex.html#greedy-versus-non-greedy\n",
    "\n",
    "Shout out to [regex101.com](https://regex101.com/), which will explain each stage of a regex. \n",
    "\n",
    "### Predefined sets of characters\n",
    "- `\\b` word boundery, marks a start of a word (also works as start of string)\n",
    "- `\\w+` means alphanumeric characters [a-zA-Z0-9_] (one or more)\n",
    "- `\\s+` one or more whitespaces\n",
    "- `\\w+` next alphanumeric characters (1+)\n",
    "- `\\b` word boundery (works at string end too)\n",
    "\n",
    "### Cheat sheet for brackets\n",
    "- `^[A-Z]+` : One or more capital letters at the start of the string\n",
    "- `[a-z]+` : One or more small letters after the capital letters\n",
    "- `[\\s]+` : One or more whitespaces after the small letters\n",
    "- `[a-z]+` : One or more small letters after the spaces\n",
    "- `[\\.!\\?]+$` : One or more of the punctuations (., !, or ?) after the second run of small letters, and then the string ends."
   ]
  },
  {
   "cell_type": "markdown",
   "metadata": {},
   "source": [
    "### Example"
   ]
  },
  {
   "cell_type": "code",
   "execution_count": 71,
   "metadata": {},
   "outputs": [],
   "source": [
    "import re"
   ]
  },
  {
   "cell_type": "code",
   "execution_count": 72,
   "metadata": {},
   "outputs": [
    {
     "name": "stdout",
     "output_type": "stream",
     "text": [
      "<re.Match object; span=(2, 5), match='aza'>\n"
     ]
    }
   ],
   "source": [
    "result = re.search(r'aza', 'plaza')\n",
    "print(result)"
   ]
  },
  {
   "cell_type": "code",
   "execution_count": 73,
   "metadata": {},
   "outputs": [
    {
     "name": "stdout",
     "output_type": "stream",
     "text": [
      "<re.Match object; span=(1, 4), match='aza'>\n"
     ]
    }
   ],
   "source": [
    "result = re.search(r'aza', 'bazaar')\n",
    "print(result)"
   ]
  },
  {
   "cell_type": "code",
   "execution_count": 74,
   "metadata": {},
   "outputs": [
    {
     "name": "stdout",
     "output_type": "stream",
     "text": [
      "None\n"
     ]
    }
   ],
   "source": [
    "result = re.search(r'bax', 'bazaar')\n",
    "print(result)"
   ]
  },
  {
   "cell_type": "markdown",
   "metadata": {},
   "source": [
    "#### Special Characters"
   ]
  },
  {
   "cell_type": "markdown",
   "metadata": {},
   "source": [
    "> `^` Circumflex search from first characters"
   ]
  },
  {
   "cell_type": "code",
   "execution_count": 75,
   "metadata": {},
   "outputs": [
    {
     "name": "stdout",
     "output_type": "stream",
     "text": [
      "<re.Match object; span=(0, 1), match='x'>\n"
     ]
    }
   ],
   "source": [
    "result = re.search(r'^x', 'xenon')\n",
    "print(result)"
   ]
  },
  {
   "cell_type": "markdown",
   "metadata": {},
   "source": [
    "> `$` Dollar sign search from last characters"
   ]
  },
  {
   "cell_type": "code",
   "execution_count": 76,
   "metadata": {},
   "outputs": [
    {
     "name": "stdout",
     "output_type": "stream",
     "text": [
      "<re.Match object; span=(14, 18), match='cats'>\n"
     ]
    }
   ],
   "source": [
    "result = re.search(r'cats$', 'anyone have a cats')\n",
    "print(result)"
   ]
  },
  {
   "cell_type": "markdown",
   "metadata": {},
   "source": [
    "> `.` subtitute all alphabets"
   ]
  },
  {
   "cell_type": "code",
   "execution_count": 77,
   "metadata": {},
   "outputs": [
    {
     "name": "stdout",
     "output_type": "stream",
     "text": [
      "<re.Match object; span=(0, 4), match='peng'>\n",
      "<re.Match object; span=(0, 4), match='ping'>\n",
      "<re.Match object; span=(1, 5), match='pong'>\n"
     ]
    }
   ],
   "source": [
    "result = re.search(r'p.ng', 'penguin')\n",
    "print(result)\n",
    "\n",
    "result = re.search(r'p.ng', 'ping')\n",
    "print(result)\n",
    "\n",
    "result = re.search(r'p.ng', 'sponge')\n",
    "print(result)"
   ]
  },
  {
   "cell_type": "markdown",
   "metadata": {},
   "source": [
    "> Ignore case sensitive"
   ]
  },
  {
   "cell_type": "code",
   "execution_count": 78,
   "metadata": {},
   "outputs": [
    {
     "name": "stdout",
     "output_type": "stream",
     "text": [
      "<re.Match object; span=(0, 4), match='PEnG'>\n"
     ]
    }
   ],
   "source": [
    "result = re.search(r'p.ng', 'PEnGae', re.IGNORECASE)\n",
    "print(result)"
   ]
  },
  {
   "cell_type": "markdown",
   "metadata": {},
   "source": [
    "> Pop Quiz\n",
    "\n",
    "Fill in the code to check if the text passed contains the vowels a, e and i, with exactly one occurrence of any other character in between."
   ]
  },
  {
   "cell_type": "code",
   "execution_count": 79,
   "metadata": {},
   "outputs": [
    {
     "name": "stdout",
     "output_type": "stream",
     "text": [
      "True\n",
      "False\n",
      "True\n"
     ]
    }
   ],
   "source": [
    "import re\n",
    "def check_aei (text):\n",
    "  result = re.search(r'a.e.i', text)\n",
    "  return result != None\n",
    "\n",
    "print(check_aei(\"academia\")) # True\n",
    "print(check_aei(\"aerial\")) # False\n",
    "print(check_aei(\"paramedic\")) # True"
   ]
  },
  {
   "cell_type": "markdown",
   "metadata": {},
   "source": [
    "#### Wildcards and Character Classes"
   ]
  },
  {
   "cell_type": "code",
   "execution_count": 80,
   "metadata": {},
   "outputs": [
    {
     "name": "stdout",
     "output_type": "stream",
     "text": [
      "<re.Match object; span=(0, 6), match='Python'>\n",
      "<re.Match object; span=(0, 6), match='python'>\n"
     ]
    }
   ],
   "source": [
    "result = re.search(r'[Pp]ython', 'Python')\n",
    "print(result)\n",
    "\n",
    "result = re.search(r'[Pp]ython', 'python')\n",
    "print(result)"
   ]
  },
  {
   "cell_type": "markdown",
   "metadata": {},
   "source": [
    "> `[ ]` Include all in brackets"
   ]
  },
  {
   "cell_type": "code",
   "execution_count": 81,
   "metadata": {},
   "outputs": [
    {
     "name": "stdout",
     "output_type": "stream",
     "text": [
      "<re.Match object; span=(18, 22), match='hway'>\n",
      "None\n",
      "<re.Match object; span=(0, 6), match='cloudy'>\n",
      "<re.Match object; span=(0, 6), match='cloud0'>\n",
      "<re.Match object; span=(0, 6), match='cloudD'>\n"
     ]
    }
   ],
   "source": [
    "result = re.search(r'[a-z]way', 'The end of the highway')\n",
    "print(result)\n",
    "\n",
    "result = re.search(r'[a-z]way', 'What a way to go')\n",
    "print(result)\n",
    "\n",
    "result = re.search(r'cloud[a-zA-Z0-9]', 'cloudy')\n",
    "print(result)\n",
    "\n",
    "result = re.search(r'cloud[a-zA-Z0-9]', 'cloud0')\n",
    "print(result)\n",
    "\n",
    "result = re.search(r'cloud[a-zA-Z0-9]', 'cloudD')\n",
    "print(result)"
   ]
  },
  {
   "cell_type": "markdown",
   "metadata": {},
   "source": [
    "> `|` Or Match"
   ]
  },
  {
   "cell_type": "code",
   "execution_count": 82,
   "metadata": {},
   "outputs": [
    {
     "name": "stdout",
     "output_type": "stream",
     "text": [
      "<re.Match object; span=(7, 11), match='cats'>\n",
      "<re.Match object; span=(7, 11), match='dogs'>\n",
      "<re.Match object; span=(7, 11), match='cats'>\n",
      "['cats', 'dogs']\n"
     ]
    }
   ],
   "source": [
    "result = re.search(r'cats|dogs', 'I like cats')\n",
    "print(result)\n",
    "\n",
    "result = re.search(r'cats|dogs', 'I like dogs')\n",
    "print(result)\n",
    "\n",
    "result = re.search(r'cats|dogs', 'I like cats both dogs')\n",
    "print(result)\n",
    "\n",
    "result = re.findall(r'cats|dogs', 'I like cats both dogs')\n",
    "print(result)"
   ]
  },
  {
   "cell_type": "markdown",
   "metadata": {},
   "source": [
    "> Pop Quiz\n",
    "\n",
    "Fill in the code to check if the text passed contains punctuation symbols: commas, periods, colons, semicolons, question marks, and exclamation points."
   ]
  },
  {
   "cell_type": "code",
   "execution_count": 83,
   "metadata": {},
   "outputs": [
    {
     "name": "stdout",
     "output_type": "stream",
     "text": [
      "True\n",
      "False\n",
      "True\n",
      "True\n",
      "False\n"
     ]
    }
   ],
   "source": [
    "import re\n",
    "def check_punctuation (text):\n",
    "  result = re.search(r\"[^a-zA-Z ]\", text) # match not a letter and white space\n",
    "  return result != None\n",
    "\n",
    "print(check_punctuation(\"This is a sentence that ends with a period.\")) # True\n",
    "print(check_punctuation(\"This is a sentence fragment without a period\")) # False\n",
    "print(check_punctuation(\"Aren't regular expressions awesome?\")) # True\n",
    "print(check_punctuation(\"Wow! We're really picking up some steam now!\")) # True\n",
    "print(check_punctuation(\"End of the line\")) # False"
   ]
  },
  {
   "cell_type": "markdown",
   "metadata": {},
   "source": [
    "### Repetition Qualifiers"
   ]
  },
  {
   "cell_type": "markdown",
   "metadata": {},
   "source": [
    "> `*` Match Twice Characters"
   ]
  },
  {
   "cell_type": "code",
   "execution_count": 84,
   "metadata": {},
   "outputs": [
    {
     "name": "stdout",
     "output_type": "stream",
     "text": [
      "<re.Match object; span=(0, 10), match='Pygmaliion'>\n",
      "<re.Match object; span=(0, 15), match='Python Programm'>\n",
      "<re.Match object; span=(0, 6), match='Python'>\n"
     ]
    }
   ],
   "source": [
    "print(re.search(r'Py.*n', 'Pygmaliion'))\n",
    "\n",
    "print(re.search(r'Py.*m', 'Python Programming'))\n",
    "\n",
    "print(re.search(r'Py[a-z]*n', 'Python Programming'))"
   ]
  },
  {
   "cell_type": "markdown",
   "metadata": {},
   "source": [
    "> Pop Quiz\n",
    "\n",
    "The repeating_letter_a function checks if the text passed includes the letter \"a\" (lowercase or uppercase) at least twice. For example, repeating_letter_a(\"banana\") is True, while repeating_letter_a(\"pineapple\") is False. Fill in the code to make this work. "
   ]
  },
  {
   "cell_type": "code",
   "execution_count": 85,
   "metadata": {},
   "outputs": [
    {
     "name": "stdout",
     "output_type": "stream",
     "text": [
      "True\n",
      "False\n",
      "True\n",
      "True\n"
     ]
    }
   ],
   "source": [
    "import re\n",
    "def repeating_letter_a(text):\n",
    "  result = re.search(r\"[aA].*[aA]\", text)\n",
    "  return result != None\n",
    "\"\"\n",
    "print(repeating_letter_a(\"banana\")) # True\n",
    "print(repeating_letter_a(\"pineapple\")) # False\n",
    "print(repeating_letter_a(\"Animal Kingdom\")) # True\n",
    "print(repeating_letter_a(\"A is for apple\")) # True"
   ]
  },
  {
   "cell_type": "markdown",
   "metadata": {},
   "source": [
    "> `+` Match After "
   ]
  },
  {
   "cell_type": "code",
   "execution_count": 86,
   "metadata": {},
   "outputs": [
    {
     "name": "stdout",
     "output_type": "stream",
     "text": [
      "<re.Match object; span=(1, 5), match='ooll'>\n",
      "None\n"
     ]
    }
   ],
   "source": [
    "print(re.search(r'o+l+', 'Doolly'))\n",
    "\n",
    "print(re.search(r'o+l', 'Dexl'))"
   ]
  },
  {
   "cell_type": "markdown",
   "metadata": {},
   "source": [
    "> `?` Match optional"
   ]
  },
  {
   "cell_type": "code",
   "execution_count": 87,
   "metadata": {},
   "outputs": [
    {
     "name": "stdout",
     "output_type": "stream",
     "text": [
      "<re.Match object; span=(3, 7), match='each'>\n",
      "<re.Match object; span=(7, 12), match='peach'>\n"
     ]
    }
   ],
   "source": [
    "print(re.search(r'p?each', 'To each their own'))\n",
    "\n",
    "print(re.search(r'p?each', 'I like peaches'))"
   ]
  },
  {
   "cell_type": "markdown",
   "metadata": {},
   "source": [
    "### Escaping Characters"
   ]
  },
  {
   "cell_type": "code",
   "execution_count": 88,
   "metadata": {},
   "outputs": [
    {
     "name": "stdout",
     "output_type": "stream",
     "text": [
      "None\n",
      "<re.Match object; span=(6, 10), match='.com'>\n"
     ]
    }
   ],
   "source": [
    "print(re.search(r'\\.com', 'Welcome'))\n",
    "\n",
    "print(re.search(r'\\.com', 'domain.com'))"
   ]
  },
  {
   "cell_type": "markdown",
   "metadata": {},
   "source": [
    "> `\\w` Match all except white space"
   ]
  },
  {
   "cell_type": "code",
   "execution_count": 89,
   "metadata": {},
   "outputs": [
    {
     "name": "stdout",
     "output_type": "stream",
     "text": [
      "<re.Match object; span=(0, 7), match='Welcome'>\n",
      "<re.Match object; span=(0, 20), match='Welcome_1to_the_home'>\n"
     ]
    }
   ],
   "source": [
    "print(re.search(r'\\w*', 'Welcome to the home'))\n",
    "\n",
    "print(re.search(r'\\w*', 'Welcome_1to_the_home'))"
   ]
  },
  {
   "cell_type": "markdown",
   "metadata": {},
   "source": [
    "> Pop Quiz\n",
    "\n",
    "Fill in the code to check if the text passed has at least 2 groups of alphanumeric characters (including letters, numbers, and underscores) separated by one or more whitespace characters."
   ]
  },
  {
   "cell_type": "code",
   "execution_count": 90,
   "metadata": {},
   "outputs": [
    {
     "name": "stdout",
     "output_type": "stream",
     "text": [
      "False\n",
      "True\n",
      "True\n",
      "False\n"
     ]
    }
   ],
   "source": [
    "import re\n",
    "def check_character_groups(text):\n",
    "  result = re.search(r\"\\w+\\s\", text)\n",
    "  return result != None\n",
    "\n",
    "print(check_character_groups(\"One\")) # False\n",
    "print(check_character_groups(\"123  Ready Set GO\")) # True\n",
    "print(check_character_groups(\"username user_01\")) # True\n",
    "print(check_character_groups(\"shopping_list: milk, bread, eggs.\")) # False"
   ]
  },
  {
   "cell_type": "markdown",
   "metadata": {},
   "source": [
    "### Study Cases with regex\n"
   ]
  },
  {
   "cell_type": "markdown",
   "metadata": {},
   "source": [
    "find a countries start from A and end with a"
   ]
  },
  {
   "cell_type": "code",
   "execution_count": 91,
   "metadata": {},
   "outputs": [
    {
     "name": "stdout",
     "output_type": "stream",
     "text": [
      "<re.Match object; span=(0, 9), match='Argentina'>\n",
      "<re.Match object; span=(0, 9), match='Azerbaija'>\n",
      "None\n",
      "<re.Match object; span=(0, 9), match='Australia'>\n"
     ]
    }
   ],
   "source": [
    "# Bad solution\n",
    "print(re.search(r'A.*a', 'Argentina'))\n",
    "print(re.search(r'A.*a', 'Azerbaijan'))\n",
    "\n",
    "# Good solution\n",
    "print(re.search(r'^A.*a$', 'Azerbaijan'))\n",
    "print(re.search(r'^A.*a$', 'Australia'))"
   ]
  },
  {
   "cell_type": "code",
   "execution_count": 92,
   "metadata": {},
   "outputs": [
    {
     "name": "stdout",
     "output_type": "stream",
     "text": [
      "<re.Match object; span=(0, 25), match='_this_is_a_valid_variable'>\n",
      "None\n",
      "<re.Match object; span=(0, 12), match='my_variable1'>\n",
      "None\n"
     ]
    }
   ],
   "source": [
    "pattern = r'^[a-zA-Z_][a-zA-Z0-9_]*$'\n",
    "print(re.search(pattern, '_this_is_a_valid_variable'))\n",
    "print(re.search(pattern, \"this isn't a valid variable\"))\n",
    "print(re.search(pattern, 'my_variable1'))\n",
    "print(re.search(pattern, '2my_variable1'))"
   ]
  },
  {
   "cell_type": "markdown",
   "metadata": {},
   "source": [
    "> Pop quiz\n",
    "\n",
    "Fill in the code to check if the text passed looks like a standard sentence, meaning that it starts with an uppercase letter, followed by at least some lowercase letters or a space, and ends with a period, question mark, or exclamation point. "
   ]
  },
  {
   "cell_type": "code",
   "execution_count": 93,
   "metadata": {},
   "outputs": [
    {
     "name": "stdout",
     "output_type": "stream",
     "text": [
      "True\n",
      "False\n",
      "False\n",
      "False\n",
      "True\n"
     ]
    }
   ],
   "source": [
    "import re\n",
    "def check_sentence(text):\n",
    "  result = re.search(r\"^[A-Z][a-z\\s]*[\\.!\\?]$\", text)\n",
    "  return result != None\n",
    "\n",
    "print(check_sentence(\"Is this is a sentence?\")) # True\n",
    "print(check_sentence(\"is this is a sentence?\")) # False\n",
    "print(check_sentence(\"Hello\")) # False\n",
    "print(check_sentence(\"1-2-3-GO!\")) # False\n",
    "print(check_sentence(\"A star is born.\")) # True"
   ]
  },
  {
   "cell_type": "markdown",
   "metadata": {},
   "source": [
    "## Practice Quiz"
   ]
  },
  {
   "cell_type": "markdown",
   "metadata": {},
   "source": [
    "The check_web_address function checks if the text passed qualifies as a top-level web address, meaning that it contains alphanumeric characters (which includes letters, numbers, and underscores), as well as periods, dashes, and a plus sign, followed by a period and a character-only top-level domain such as \".com\", \".info\", \".edu\", etc. Fill in the regular expression to do that, using escape characters, wildcards, repetition qualifiers, beginning and end-of-line characters, and character classes."
   ]
  },
  {
   "cell_type": "code",
   "execution_count": 94,
   "metadata": {},
   "outputs": [
    {
     "name": "stdout",
     "output_type": "stream",
     "text": [
      "True\n",
      "False\n",
      "True\n",
      "False\n",
      "True\n"
     ]
    }
   ],
   "source": [
    "import re\n",
    "def check_web_address(text):\n",
    "  pattern = r'^[\\w\\-+.]+\\.[a-zA-Z]+$'\n",
    "  result = re.search(pattern, text)\n",
    "  return result != None\n",
    "\n",
    "print(check_web_address(\"gmail.com\")) # True\n",
    "print(check_web_address(\"www@google\")) # False\n",
    "print(check_web_address(\"www.Coursera.org\")) # True\n",
    "print(check_web_address(\"web-address.com/homepage\")) # False\n",
    "print(check_web_address(\"My_Favorite-Blog.US\")) # True"
   ]
  },
  {
   "cell_type": "markdown",
   "metadata": {},
   "source": [
    "The check_time function checks for the time format of a 12-hour clock, as follows: the hour is between 1 and 12, with no leading zero, followed by a colon, then minutes between 00 and 59, then an optional space, and then AM or PM, in upper or lower case. Fill in the regular expression to do that. How many of the concepts that you just learned can you use here?"
   ]
  },
  {
   "cell_type": "code",
   "execution_count": 95,
   "metadata": {},
   "outputs": [
    {
     "name": "stdout",
     "output_type": "stream",
     "text": [
      "True\n",
      "True\n",
      "False\n",
      "False\n"
     ]
    }
   ],
   "source": [
    "import re\n",
    "def check_time(text):\n",
    "  pattern = r'^1[0-2]|[1-9]:[0-5][0-9](\\s?[APap][Mm])$'\n",
    "  result = re.search(pattern, text)\n",
    "  return result != None\n",
    "\n",
    "print(check_time(\"12:45pm\")) # True\n",
    "print(check_time(\"9:59 AM\")) # True\n",
    "print(check_time(\"6:60am\")) # False\n",
    "print(check_time(\"five o'clock\")) # False"
   ]
  },
  {
   "cell_type": "markdown",
   "metadata": {},
   "source": [
    "The contains_acronym function checks the text for the presence of 2 or more characters or digits surrounded by parentheses, with at least the first character in uppercase (if it's a letter), returning True if the condition is met, or False otherwise. For example, \"Instant messaging (IM) is a set of communication technologies used for text-based communication\" should return True since (IM) satisfies the match conditions.\" Fill in the regular expression in this function: "
   ]
  },
  {
   "cell_type": "code",
   "execution_count": 96,
   "metadata": {},
   "outputs": [
    {
     "name": "stdout",
     "output_type": "stream",
     "text": [
      "True\n",
      "True\n",
      "False\n",
      "True\n",
      "True\n"
     ]
    }
   ],
   "source": [
    "import re\n",
    "def contains_acronym(text):\n",
    "  pattern = r'\\([A-Z0-9].*\\)'\n",
    "  result = re.search(pattern, text)\n",
    "  return result != None\n",
    "\n",
    "print(contains_acronym(\"Instant messaging (IM) is a set of communication technologies used for text-based communication\")) # True\n",
    "print(contains_acronym(\"American Standard Code for Information Interchange (ASCII) is a character encoding standard for electronic communication\")) # True\n",
    "print(contains_acronym(\"Please do NOT enter without permission!\")) # False\n",
    "print(contains_acronym(\"PostScript is a fourth-generation programming language (4GL)\")) # True\n",
    "print(contains_acronym(\"Have fun using a self-contained underwater breathing apparatus (Scuba)!\")) # True"
   ]
  },
  {
   "cell_type": "markdown",
   "metadata": {},
   "source": [
    "Fill in the code to check if the text passed includes a possible U.S. zip code, formatted as follows: exactly 5 digits, and sometimes, but not always, followed by a dash with 4 more digits. The zip code needs to be preceded by at least one space, and cannot be at the start of the text."
   ]
  },
  {
   "cell_type": "code",
   "execution_count": 97,
   "metadata": {},
   "outputs": [
    {
     "name": "stdout",
     "output_type": "stream",
     "text": [
      "True\n",
      "False\n",
      "True\n",
      "False\n"
     ]
    }
   ],
   "source": [
    "import re\n",
    "def check_zip_code (text):\n",
    "  result = re.search(r\"(?!\\A)\\b\\d{5}(?:-\\d{4})?\\b\", text)\n",
    "  return result != None\n",
    "\n",
    "print(check_zip_code(\"The zip codes for New York are 10001 thru 11104.\")) # True\n",
    "print(check_zip_code(\"90210 is a TV show\")) # False\n",
    "print(check_zip_code(\"Their address is: 123 Main Street, Anytown, AZ 85258-0001.\")) # True\n",
    "print(check_zip_code(\"The Parliament of Canada is at 111 Wellington St, Ottawa, ON K1A0A9.\")) # False"
   ]
  }
 ],
 "metadata": {
  "interpreter": {
   "hash": "23300995598eec4bcf6bd89cf02d1c3675e8b2616661418dbbf5580aa901878d"
  },
  "kernelspec": {
   "display_name": "Python 3.9.5 64-bit",
   "language": "python",
   "name": "python3"
  },
  "language_info": {
   "codemirror_mode": {
    "name": "ipython",
    "version": 3
   },
   "file_extension": ".py",
   "mimetype": "text/x-python",
   "name": "python",
   "nbconvert_exporter": "python",
   "pygments_lexer": "ipython3",
   "version": "3.9.5"
  },
  "orig_nbformat": 4
 },
 "nbformat": 4,
 "nbformat_minor": 2
}
