{
 "cells": [
  {
   "cell_type": "markdown",
   "metadata": {},
   "source": [
    "# Week 5\n",
    "## Errors and Exceptions\n",
    "\n",
    "### Handling Errors Cheat-Sheet\n",
    "Raise allows you to throw an exception at any time.\n",
    "\n",
    "- https://docs.python.org/3/tutorial/errors.html#raising-exceptions\n",
    "\n",
    "Assert enables you to verify if a certain condition is met and throw an exception if it isn’t.\n",
    "\n",
    "- https://docs.python.org/3/reference/simple_stmts.html#the-assert-statement\n",
    "\n",
    "- https://stackoverflow.com/questions/5142418/what-is-the-use-of-assert-in-python\n",
    "\n",
    "The standard library documentation is kind of unclear. Basically `assert <something false>` will raise AssertionError, which the caller may need to handle.\n",
    "\n",
    "In the try clause, all statements are executed until an exception is encountered.\n",
    "\n",
    "- https://docs.python.org/3/tutorial/errors.html#handling-exceptions\n",
    "\n",
    "Except is used to catch and handle the exception(s) that are encountered in the try clause.\n",
    "\n",
    "- https://docs.python.org/3/library/exceptions.html#bltin-exceptions\n",
    "\n",
    "Other interesting Exception handling readings:\n",
    "\n",
    "- https://doughellmann.com/posts/python-exception-handling-techniques/"
   ]
  }
 ],
 "metadata": {
  "interpreter": {
   "hash": "23300995598eec4bcf6bd89cf02d1c3675e8b2616661418dbbf5580aa901878d"
  },
  "kernelspec": {
   "display_name": "Python 3.9.5 64-bit",
   "language": "python",
   "name": "python3"
  },
  "language_info": {
   "codemirror_mode": {
    "name": "ipython",
    "version": 3
   },
   "file_extension": ".py",
   "mimetype": "text/x-python",
   "name": "python",
   "nbconvert_exporter": "python",
   "pygments_lexer": "ipython3",
   "version": "3.9.5"
  },
  "orig_nbformat": 4
 },
 "nbformat": 4,
 "nbformat_minor": 2
}
