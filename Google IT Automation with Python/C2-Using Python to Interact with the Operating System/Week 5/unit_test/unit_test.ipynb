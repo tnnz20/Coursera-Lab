{
 "cells": [
  {
   "cell_type": "markdown",
   "metadata": {},
   "source": [
    "# Week 5\n",
    "## Unit Test\n",
    "### Unit Test Cheat-Sheet\n",
    "Frankly, the unit testing library for Python is fairly well documented, but it can be a bit of a dry read. Instead, we suggest covering the core module concepts, and then reading in more detail later.\n",
    "\n",
    "**Best of Unit Testing Standard Library Module**\n",
    "Understand a Basic Example:\n",
    "\n",
    "- https://docs.python.org/3/library/unittest.html#basic-example\n",
    "\n",
    "Understand how to run the tests using the Command Line:\n",
    "\n",
    "- https://docs.python.org/3/library/unittest.html#command-line-interface\n",
    "\n",
    "Understand various Unit Test Design Patterns:\n",
    "\n",
    "- https://docs.python.org/3/library/unittest.html#organizing-test-code\n",
    "\n",
    "- Understand the uses of setUp, tearDown; setUpModule and tearDownModule\n",
    "\n",
    "Understand basic assertions:\n",
    "|         Method         |      Checks that     |\n",
    "|----------------------|:--------------------:|\n",
    "| assertEqual(a, b)      | a == b               |\n",
    "| assertNotEqual(a, b)   | a != b               |\n",
    "| assertTrue(x)          | bool(x) is True      |\n",
    "| assertFalse(x)         | bool(x) is False     |\n",
    "| assertIs(a, b)         | a is b               |\n",
    "| assertIsNot(a, b)      | a is not b           |\n",
    "| assertIsNone(x)        | x is None            |\n",
    "| assertIsNotNone(x)     | x is not None        |\n",
    "| assertIn(a, b)         | a in b               |\n",
    "| assertNotIn(a, b)      | a not in b           |\n",
    "| assertIsInstance(a, b) | isinstance(a, b)     |\n",
    "| assertIsInstance(a, b) | not isinstance(a, b) |\n",
    "\n",
    "Understand more specific assertions such as assertRaises\n",
    "\n",
    "- https://docs.python.org/3/library/unittest.html#unittest.TestCase.assertRaises"
   ]
  }
 ],
 "metadata": {
  "language_info": {
   "name": "python"
  },
  "orig_nbformat": 4
 },
 "nbformat": 4,
 "nbformat_minor": 2
}
