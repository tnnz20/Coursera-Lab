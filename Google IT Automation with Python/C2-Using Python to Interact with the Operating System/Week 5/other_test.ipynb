{
 "cells": [
  {
   "cell_type": "markdown",
   "metadata": {},
   "source": [
    "# Week 5\n",
    "## Other Test Consepts\n",
    "### More About Tests\n",
    "Check out the following links for more information:\n",
    "\n",
    "- https://landing.google.com/sre/sre-book/chapters/monitoring-distributed-systems/\n",
    "\n",
    "- https://landing.google.com/sre/sre-book/chapters/testing-reliability/\n",
    "\n",
    "- https://testing.googleblog.com/2007/10/performance-testing.html\n",
    "\n",
    "- https://www.guru99.com/smoke-testing.html\n",
    "\n",
    "- https://www.guru99.com/exploratory-testing.html\n",
    "\n",
    "- https://testing.googleblog.com/2008/09/test-first-is-fun_08.html"
   ]
  }
 ],
 "metadata": {
  "language_info": {
   "name": "python"
  },
  "orig_nbformat": 4
 },
 "nbformat": 4,
 "nbformat_minor": 2
}
