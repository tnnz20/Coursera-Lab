{
 "cells": [
  {
   "cell_type": "markdown",
   "metadata": {},
   "source": [
    "# Week 3\n",
    "## Managing Instances in the Cloud\n",
    "\n",
    "### Managing VMs in GCP\n",
    "Over the last few videos we learned how to create and use virtual machines running on GCP. We then explored how we can use one VM as a template for creating many more VMs with the same setup. You can find a lot more information about this in the following tutorials:\n",
    "\n",
    "- https://cloud.google.com/compute/docs/quickstart-linux\n",
    "\n",
    "- https://cloud.google.com/compute/docs/instances/create-vm-from-instance-template\n",
    "\n",
    "- https://cloud.google.com/sdk/docs"
   ]
  }
 ],
 "metadata": {
  "language_info": {
   "name": "python"
  },
  "orig_nbformat": 4
 },
 "nbformat": 4,
 "nbformat_minor": 2
}
