{
 "cells": [
  {
   "cell_type": "markdown",
   "metadata": {},
   "source": [
    "# Week 3\n",
    "## Automating Cloud Deployments\n",
    "\n",
    "### More About Cloud & GCP\n",
    "Check out the following links for more information:\n",
    "\n",
    "- [Getting started on GCP with Terraform](https://cloud.google.com/community/tutorials/getting-started-on-gcp-with-terraform)\n",
    "\n",
    "- [Creating groups of unmanaged instances](https://cloud.google.com/compute/docs/instance-groups/creating-groups-of-unmanaged-instances)\n",
    "\n",
    "- Official documentation is here: https://cloud.google.com/load-balancing/docs/https/\n",
    "\n",
    "- https://geekflare.com/gcp-load-balancer/\n",
    "\n",
    "Interesting articles about hybrid setups:\n",
    "\n",
    "- https://blog.inkubate.io/create-a-centos-7-terraform-template-for-vmware-vsphere/\n",
    "\n",
    "- https://www.terraform.io/docs/enterprise/before-installing/reference-architecture/gcp.html\n",
    "\n",
    "- https://www.hashicorp.com/resources/terraform-on-premises-hybrid-cloud-wayfair"
   ]
  }
 ],
 "metadata": {
  "language_info": {
   "name": "python"
  },
  "orig_nbformat": 4
 },
 "nbformat": 4,
 "nbformat_minor": 2
}
