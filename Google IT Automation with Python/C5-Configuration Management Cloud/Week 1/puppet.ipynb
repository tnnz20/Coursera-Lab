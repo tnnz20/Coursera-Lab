{
 "cells": [
  {
   "cell_type": "markdown",
   "metadata": {},
   "source": [
    "# Week 1\n",
    "## Introduction to Puppet\n",
    "\n",
    "### Puppet Resources\n",
    "Check out the following links for more information:\n",
    "\n",
    "- https://puppet.com/docs/puppet/latest/lang_resources.html\n",
    "\n",
    "- https://puppet.com/blog/deploy-packages-across-your-windows-estate-with-bolt-and-chocolatey/"
   ]
  }
 ],
 "metadata": {
  "language_info": {
   "name": "python"
  },
  "orig_nbformat": 4
 },
 "nbformat": 4,
 "nbformat_minor": 2
}
