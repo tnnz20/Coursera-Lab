{
 "cells": [
  {
   "cell_type": "markdown",
   "metadata": {},
   "source": [
    "# Week 1\n",
    "## The Building Blocks of Configuration Management\n",
    "\n",
    "### More Information About Configuration Management\n",
    "Check out the following links for more information:\n",
    "\n",
    "- https://en.wikipedia.org/wiki/Domain-specific_language\n",
    "\n",
    "- http://radar.oreilly.com/2015/04/the-puppet-design-philosophy.html"
   ]
  }
 ],
 "metadata": {
  "language_info": {
   "name": "python"
  },
  "orig_nbformat": 4
 },
 "nbformat": 4,
 "nbformat_minor": 2
}
