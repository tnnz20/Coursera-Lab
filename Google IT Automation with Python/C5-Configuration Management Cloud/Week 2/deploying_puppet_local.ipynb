{
 "cells": [
  {
   "cell_type": "markdown",
   "metadata": {},
   "source": [
    "# Week 2\n",
    "## Deplyoing Puppet Locally\n",
    "\n",
    "### More Information About Deploying Puppet Locally\n",
    "Check out the following links for more information:\n",
    "\n",
    "- https://puppet.com/docs/puppet/latest/style_guide.html\n",
    "\n",
    "- https://puppet.com/docs/puppetserver/latest/install_from_packages.html"
   ]
  }
 ],
 "metadata": {
  "language_info": {
   "name": "python"
  },
  "orig_nbformat": 4
 },
 "nbformat": 4,
 "nbformat_minor": 2
}
