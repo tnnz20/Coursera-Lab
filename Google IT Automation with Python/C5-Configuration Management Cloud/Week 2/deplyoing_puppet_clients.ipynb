{
 "cells": [
  {
   "cell_type": "markdown",
   "metadata": {},
   "source": [
    "# Week 2\n",
    "## Deplyoing Puppet to Clients\n",
    "\n",
    "### More Information about Deploying Puppet to Clients\n",
    "Check out the following link for more information:\n",
    "\n",
    "- http://www.masterzen.fr/2010/11/14/puppet-ssl-explained/"
   ]
  }
 ],
 "metadata": {
  "language_info": {
   "name": "python"
  },
  "orig_nbformat": 4
 },
 "nbformat": 4,
 "nbformat_minor": 2
}
