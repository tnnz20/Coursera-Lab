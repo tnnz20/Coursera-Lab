{
 "cells": [
  {
   "cell_type": "markdown",
   "metadata": {},
   "source": [
    "# Week 4\n",
    "## Troubleshooting and Debugging\n",
    "\n",
    "### Reading: Debugging Problems on the Cloud\n",
    "Check out the following links for more information:\n",
    "\n",
    "- https://cloud.google.com/compute/docs/troubleshooting/troubleshooting-instances\n",
    "\n",
    "- https://docs.microsoft.com/en-us/azure/virtual-machines/troubleshooting/\n",
    "\n",
    "- https://docs.aws.amazon.com/AWSEC2/latest/UserGuide/ec2-instance-troubleshoot.htm\n",
    "\n"
   ]
  }
 ],
 "metadata": {
  "language_info": {
   "name": "python"
  },
  "orig_nbformat": 4
 },
 "nbformat": 4,
 "nbformat_minor": 2
}
