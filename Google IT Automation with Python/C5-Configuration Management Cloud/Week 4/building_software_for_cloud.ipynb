{
 "cells": [
  {
   "cell_type": "markdown",
   "metadata": {},
   "source": [
    "# Week 4\n",
    "## Bulding Software For the Cloud\n",
    "\n",
    "### More About Cloud Providers\n",
    "Here are some links to some common Quotas you’ll find in various cloud providers\n",
    "\n",
    "- https://cloud.google.com/compute/quotas#understanding_vm_cpu_and_ip_address_quotas\n",
    "\n",
    "- https://docs.aws.amazon.com/general/latest/gr/aws_service_limits.html\n",
    "\n",
    "- https://docs.microsoft.com/en-us/azure/azure-subscription-service-limits#service-specific-limits\n"
   ]
  }
 ],
 "metadata": {
  "language_info": {
   "name": "python"
  },
  "orig_nbformat": 4
 },
 "nbformat": 4,
 "nbformat_minor": 2
}
