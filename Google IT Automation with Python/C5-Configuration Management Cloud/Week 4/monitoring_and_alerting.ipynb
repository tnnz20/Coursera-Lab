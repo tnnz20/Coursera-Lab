{
 "cells": [
  {
   "cell_type": "markdown",
   "metadata": {},
   "source": [
    "# Week 4\n",
    "## Monitoring and Alerting\n",
    "\n",
    "### More Information on Monitoring and Alerting\n",
    "Check out the following links for more information:\n",
    "\n",
    "- https://www.datadoghq.com/blog/monitoring-101-collecting-data/\n",
    "\n",
    "- https://www.digitalocean.com/community/tutorials/an-introduction-to-metrics-monitoring-and-alerting\n",
    "\n",
    "- https://en.wikipedia.org/wiki/High_availability\n",
    "\n",
    "- https://landing.google.com/sre/books/"
   ]
  }
 ],
 "metadata": {
  "language_info": {
   "name": "python"
  },
  "orig_nbformat": 4
 },
 "nbformat": 4,
 "nbformat_minor": 2
}
