{
 "cells": [
  {
   "cell_type": "markdown",
   "metadata": {},
   "source": [
    "# Week 1\n",
    "## Using Git\n",
    "\n",
    "### Initial Git Cheat Sheet\n",
    "Check out the following links for more information:\n",
    "\n",
    "The [Linux kernel documentation](https://git.kernel.org/pub/scm/linux/kernel/git/torvalds/linux.git/tree/Documentation/process/submitting-patches.rst?id=HEAD) itself, as well as [impassioned](https://commit.style/) opinions from other [developers](https://thoughtbot.com/blog/5-useful-tips-for-a-better-commit-message). \n",
    "\n",
    "You can check out [\"Setting your email in Git\"](https://docs.github.com/en/account-and-profile/setting-up-and-managing-your-github-user-account/managing-email-preferences/setting-your-commit-email-address) and [\"Keeping your email address private\"](https://docs.github.com/en/account-and-profile/setting-up-and-managing-your-github-user-account/managing-email-preferences/setting-your-commit-email-address) on the GitHub help site for how to do this.  "
   ]
  }
 ],
 "metadata": {
  "language_info": {
   "name": "python"
  },
  "orig_nbformat": 4
 },
 "nbformat": 4,
 "nbformat_minor": 2
}
