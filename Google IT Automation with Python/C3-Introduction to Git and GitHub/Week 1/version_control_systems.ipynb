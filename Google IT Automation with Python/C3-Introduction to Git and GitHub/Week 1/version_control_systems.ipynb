{
 "cells": [
  {
   "cell_type": "markdown",
   "metadata": {},
   "source": [
    "# Week 1\n",
    "## Version Control Systems\n",
    "\n",
    "### More Information About Git\n",
    "Check out the following links for more information:\n",
    "\n",
    "- https://git-scm.com/doc\n",
    "\n",
    "- https://www.mercurial-scm.org/\n",
    "\n",
    "- https://subversion.apache.org/\n",
    "\n",
    "- https://en.wikipedia.org/wiki/Version_control"
   ]
  },
  {
   "cell_type": "markdown",
   "metadata": {},
   "source": [
    "## Installing Git\n",
    "The first step on the way to using Git is to install it! The directions found in the Git documentation below are pretty thorough and helpful, check them out for the best method of getting Git onto your platform of choice.\n",
    "\n",
    "Git download page\n",
    "\n",
    "Git installation instructions for each platform"
   ]
  }
 ],
 "metadata": {
  "language_info": {
   "name": "python"
  },
  "orig_nbformat": 4
 },
 "nbformat": 4,
 "nbformat_minor": 2
}
