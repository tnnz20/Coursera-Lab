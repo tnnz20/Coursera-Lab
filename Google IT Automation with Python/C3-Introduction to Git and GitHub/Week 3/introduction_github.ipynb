{
 "cells": [
  {
   "cell_type": "markdown",
   "metadata": {},
   "source": [
    "# Week 3\n",
    "## Introduction to Github\n",
    "\n",
    "### Basic Interaction with GitHub Cheat-Sheet\n",
    "There are various remote repository hosting sites:\n",
    "\n",
    "- [GitHub](https://github.com/)\n",
    "\n",
    "- [BitBucket](https://bitbucket.org/product)\n",
    "\n",
    "- [Gitlab.](https://about.gitlab.com/)\n",
    "\n",
    "Follow the workflow at https://github.com/join to set up a free account, username, and password. After that, [these steps](https://docs.github.com/en/get-started/quickstart/create-a-repo) will help you create a brand new repository on GitHub.\n",
    "\n",
    "Some useful commands for getting started:\n",
    "\n",
    "|Command| Explanation & Link\n",
    "|---|---\n",
    "|git clone <\\URL> | [Git clone is used to clone a remote repository into a local workspace](https://git-scm.com/docs/git-clone)\n",
    "|git push | [Git push is used to push commits from your local repo to a remote repo](https://git-scm.com/docs/git-push)\n",
    "|git pull | [Git pull is used to fetch the newest updates from a remote repository](https://git-scm.com/docs/git-pull)\n",
    "\n",
    "This can be useful for keeping your local workspace up to date.\n",
    "\n",
    "- https://help.github.com/en/articles/caching-your-github-password-in-git\n",
    "\n",
    "- https://help.github.com/en/articles/generating-an-ssh-key  "
   ]
  }
 ],
 "metadata": {
  "language_info": {
   "name": "python"
  },
  "orig_nbformat": 4
 },
 "nbformat": 4,
 "nbformat_minor": 2
}
