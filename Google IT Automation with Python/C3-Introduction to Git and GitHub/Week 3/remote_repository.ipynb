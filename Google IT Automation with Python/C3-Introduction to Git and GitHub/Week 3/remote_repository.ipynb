{
 "cells": [
  {
   "cell_type": "markdown",
   "metadata": {},
   "source": [
    "# Week 3\n",
    "## Using a Remote Repository\n",
    "\n",
    "### Git Remotes Cheat-Sheet\n",
    "\n",
    "|Command| Explanation & Link\n",
    "|---|---\n",
    "|git remote | [Lists remote repos](https://git-scm.com/docs/git-remote)\n",
    "|git remote -v | [List remote repos verbosely](https://git-scm.com/docs/git-remote#Documentation/git-remote.txt--v)\n",
    "|git remote show <\\name> | [Describes a single remote repo](https://git-scm.com/docs/git-remote#Documentation/git-remote.txt-emshowem)\n",
    "|git remote update | [Fetches the most up-to-date objects](https://git-scm.com/docs/git-remote#Documentation/git-remote.txt-emupdateem)\n",
    "|git fetch | [Downloads specific objects](https://git-scm.com/docs/git-fetch)\n",
    "|git branch -r | [Lists remote branches](https://git-scm.com/docs/git-branch#Documentation/git-branch.txt--r) ; can be combined with other branch arguments to manage remote branches\n",
    "\n",
    "You can also see more in the video [Cryptography in Action](https://www.coursera.org/learn/it-security/item/P1I8z) from the course [IT Security: Defense against the digital dark arts.](https://www.coursera.org/learn/it-security/home/welcome)"
   ]
  }
 ],
 "metadata": {
  "language_info": {
   "name": "python"
  },
  "orig_nbformat": 4
 },
 "nbformat": 4,
 "nbformat_minor": 2
}
