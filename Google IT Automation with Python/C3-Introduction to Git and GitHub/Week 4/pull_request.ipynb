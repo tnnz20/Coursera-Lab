{
 "cells": [
  {
   "cell_type": "markdown",
   "metadata": {},
   "source": [
    "# Week 4\n",
    "##  Pull Request\n",
    "\n",
    "### Git Fork and Pull Request Cheat Sheet\n",
    "Check out the following link for more information:\n",
    "\n",
    "- https://help.github.com/en/articles/about-pull-request-merges"
   ]
  }
 ],
 "metadata": {
  "language_info": {
   "name": "python"
  },
  "orig_nbformat": 4
 },
 "nbformat": 4,
 "nbformat_minor": 2
}
