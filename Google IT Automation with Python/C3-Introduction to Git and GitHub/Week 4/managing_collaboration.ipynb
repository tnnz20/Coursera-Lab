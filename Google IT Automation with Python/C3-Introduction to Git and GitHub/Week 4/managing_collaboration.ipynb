{
 "cells": [
  {
   "cell_type": "markdown",
   "metadata": {},
   "source": [
    "# Week 4\n",
    "## Managing Projects\n",
    "\n",
    "### Additional Tools\n",
    "Check out the following links for more information:\n",
    "\n",
    "- https://arp242.net/diy.html \n",
    "\n",
    "- https://help.github.com/en/articles/closing-issues-using-keywords\n",
    "\n",
    "- https://help.github.com/en/articles/setting-guidelines-for-repository-contributors \n",
    "\n",
    "- https://www.infoworld.com/article/3271126/what-is-cicd-continuous-integration-and-continuous-delivery-explained.html\n",
    "\n",
    "- https://stackify.com/what-is-cicd-whats-important-and-how-to-get-it-right/\n",
    "\n",
    "- https://docs.travis-ci.com/user/tutorial/\n",
    "\n",
    "- https://docs.travis-ci.com/user/build-stages/"
   ]
  }
 ],
 "metadata": {
  "language_info": {
   "name": "python"
  },
  "orig_nbformat": 4
 },
 "nbformat": 4,
 "nbformat_minor": 2
}
