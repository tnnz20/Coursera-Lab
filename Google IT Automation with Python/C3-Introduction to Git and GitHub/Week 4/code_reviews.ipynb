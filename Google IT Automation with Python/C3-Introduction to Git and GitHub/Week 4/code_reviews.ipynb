{
 "cells": [
  {
   "cell_type": "markdown",
   "metadata": {},
   "source": [
    "# Week 4\n",
    "## Code Reviews\n",
    "\n",
    "### More Information on Code Reviews\n",
    "Check out the following links for more information:\n",
    "\n",
    "- http://google.github.io/styleguide/\n",
    "\n",
    "- https://help.github.com/en/articles/about-pull-request-reviews\n",
    "\n",
    "- https://medium.com/osedea/the-perfect-code-review-process-845e6ba5c31\n",
    "\n",
    "- https://smartbear.com/learn/code-review/what-is-code-review/"
   ]
  }
 ],
 "metadata": {
  "language_info": {
   "name": "python"
  },
  "orig_nbformat": 4
 },
 "nbformat": 4,
 "nbformat_minor": 2
}
