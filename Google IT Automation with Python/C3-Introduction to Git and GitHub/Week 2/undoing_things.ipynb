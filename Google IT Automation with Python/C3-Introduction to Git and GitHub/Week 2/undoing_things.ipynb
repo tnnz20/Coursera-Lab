{
 "cells": [
  {
   "cell_type": "markdown",
   "metadata": {},
   "source": [
    "# Week 2\n",
    "## Undoing Things\n",
    "\n",
    "### Git Revert Cheat Sheet\n",
    "[git checkout](https://git-scm.com/docs/git-checkout) is effectively used to switch branches.\n",
    "\n",
    "[git reset](https://git-scm.com/docs/git-reset#_examples) basically resets the repo, throwing away some changes. It’s somewhat difficult to understand, so reading the examples in the documentation may be a bit more useful.\n",
    "\n",
    "There are some other useful articles online, which discuss more aggressive approaches to[resetting the repo](https://jwiegley.github.io/git-from-the-bottom-up/3-Reset/4-doing-a-hard-reset.html).\n",
    "\n",
    "[git commit --amend](https://git-scm.com/docs/git-commit#Documentation/git-commit.txt---amend) is used to make changes to commits after-the-fact, which can be useful for making notes about a given commit.\n",
    "\n",
    "[git revert]https://git-scm.com/docs/git-revert() makes a new commit which effectively rolls back a previous commit. It’s a bit like an undo command.\n",
    "\n",
    "There are a [few ways](https://git-scm.com/book/en/v2/Git-Basics-Undoing-Things) you can rollback commits in Git.\n",
    "\n",
    "There are some interesting considerations about how git object data is stored, such as the usage of sha-1. \n",
    "\n",
    "Feel free to read more here:\n",
    "\n",
    "- https://en.wikipedia.org/wiki/SHA-1\n",
    "\n",
    "- https://github.blog/2017-03-20-sha-1-collision-detection-on-github-com/"
   ]
  }
 ],
 "metadata": {
  "language_info": {
   "name": "python"
  },
  "orig_nbformat": 4
 },
 "nbformat": 4,
 "nbformat_minor": 2
}
