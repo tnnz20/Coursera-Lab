{
 "cells": [
  {
   "cell_type": "markdown",
   "metadata": {},
   "source": [
    "# Week 2\n",
    "## Branching and Merging\n",
    "\n",
    "### Git Branches and Merging Cheat Sheet\n",
    "\n",
    "|Command|Explanation & Link\n",
    "|---|---\n",
    "|git branch| [Used to manage branches](https://git-scm.com/docs/git-branch)\n",
    "|git branch <name> | [Creates the brancht](https://git-scm.com/book/en/v2/Git-Branching-Basic-Branching-and-Merging)\n",
    "|git branch -d <name>| [Deletes the branch](https://git-scm.com/docs/git-branch#Documentation/git-branch.txt--D)\n",
    "|git branch -D <name>| [Forcibly deletes the branch](https://git-scm.com/docs/git-branch#Documentation/git-branch.txt--D)\n",
    "|git checkout <branch> | [Switches to a branch.](https://git-scm.com/docs/git-checkout)\n",
    "|git checkout -b <branch>| Creates a new branch and [switches to it](https://git-scm.com/docs/git-checkout#Documentation/git-checkout.txt--bltnewbranchgt)\n",
    "|git merge <branch> | [Merge joins branches together.](https://git-scm.com/docs/git-merge)\n",
    "|git merge --abort| If there are merge conflicts (meaning files are incompatible), --abort can be used to abort the merge action.\n",
    "|git log --graph --oneline| [This shows a summarized view of the commit history for a repo.](https://git-scm.com/book/en/v2/Git-Basics-Viewing-the-Commit-History)"
   ]
  }
 ],
 "metadata": {
  "language_info": {
   "name": "python"
  },
  "orig_nbformat": 4
 },
 "nbformat": 4,
 "nbformat_minor": 2
}
