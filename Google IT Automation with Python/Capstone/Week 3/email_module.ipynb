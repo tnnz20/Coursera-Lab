{
 "cells": [
  {
   "cell_type": "markdown",
   "metadata": {},
   "source": [
    "# Week 3\n",
    "\n",
    "## Introduction to Python Email Library\n",
    "Email messages look simple in an email client. But behind the scenes the client is doing a lot of work to make that happen! Email messages -- even messages with images and attachments -- are actually complicated text structures made entirely of readable strings!\n",
    "\n",
    "The [Simple Mail Transfer Protocol (SMTP)](https://datatracker.ietf.org/doc/html/rfc2821.html) and [Multipurpose Internet Mail Extensions (MIME)](https://datatracker.ietf.org/doc/html/rfc2045) standards define how email messages are constructed. You could read the standards documentation and create email messages all on your own, but you don't need to go to all that trouble. The email built-in Python module lets us easily construct email messages.\n",
    "\n",
    "We'll start by using the [email.message.EmailMessage](https://docs.python.org/3/library/email.message.html#email.message.EmailMessage) class to create an empty email message.\n",
    "\n",
    "```\n",
    ">>> from email.message import EmailMessage\n",
    ">>> message = EmailMessage()\n",
    ">>> print(message)\n",
    "```\n",
    "\n",
    "As usual, printing the message object gives us the string representation of that object. The email library has a function that converts the complex EmailMessage object into something that is fairly human-readable. Since this is an empty message, there isn't anything to see yet. Let's try adding the sender and recipient to the message and see how that looks.\n",
    "\n",
    "We'll define a couple of variables so that we can reuse them later.\n",
    "\n",
    "```\n",
    ">>> sender = \"me@example.com\"\n",
    ">>> recipient = \"you@example.com\"\n",
    "```\n",
    "And now, add them to the From and To fields of the message.\n",
    "```\n",
    ">>> message['From'] = sender\n",
    ">>> message['To'] = recipient\n",
    ">>> print(message)\n",
    "From: me@example.com\n",
    "To: you@example.com\n",
    "```\n",
    "Cool! That's starting to look a bit more like an email message now. How about a subject?\n",
    "```\n",
    ">>> message['Subject'] = 'Greetings from {} to {}!'.format(sender, recipient)\n",
    ">>> print(message)\n",
    "From: me@example.com\n",
    "To: you@example.com\n",
    "Subject: Greetings from me@example.com to you@example.com!\n",
    "```\n",
    "From, To, and Subject are examples of email header fields. They’re key-value pairs of labels and instructions used by email clients and servers to route and display the email. They’re separate from the email's message body, which is the main content of the message.\n",
    "\n",
    "Let's go ahead and add a message body!\n",
    "```\n",
    ">>> body = \"\"\"Hey there!\n",
    "...\n",
    "... I'm learning to send emails using Python!\"\"\"\n",
    ">>> message.set_content(body)\n",
    "```\n",
    "Alright, now what does that look like?\n",
    "```\n",
    ">>> print(message)\n",
    "From: me@example.com\n",
    "To: you@example.com\n",
    "Subject: Greetings from me@example.com to you@example.com!\n",
    "MIME-Version: 1.0\n",
    "Content-Type: text/plain; charset=\"utf-8\"\n",
    "Content-Transfer-Encoding: 7bit\n",
    "\n",
    "Hey there!\n",
    "\n",
    "I'm learning to send email using Python!\n",
    "```\n",
    "\n",
    "The message has a body! The `set_content()` method also automatically added a couple of headers that the email infrastructure will use when sending this message to another machine. Remember in an earlier course, when we talked about `character encodings`? The `Content-Type and Content-Transfer-Encoding` headers tell email clients and servers how to interpret the bytes in this email message into a string. Now, what about this other header? What is MIME? We'll learn about that next!"
   ]
  },
  {
   "cell_type": "markdown",
   "metadata": {},
   "source": [
    "### Example"
   ]
  },
  {
   "cell_type": "code",
   "execution_count": 6,
   "metadata": {},
   "outputs": [
    {
     "data": {
      "text/plain": [
       "<email.message.EmailMessage at 0x1964781afa0>"
      ]
     },
     "execution_count": 6,
     "metadata": {},
     "output_type": "execute_result"
    }
   ],
   "source": [
    "from email.message import EmailMessage\n",
    "\n",
    "message = EmailMessage()\n",
    "message"
   ]
  },
  {
   "cell_type": "code",
   "execution_count": 7,
   "metadata": {},
   "outputs": [
    {
     "name": "stdout",
     "output_type": "stream",
     "text": [
      "From: me@example.com\n",
      "To: you@example.com\n",
      "\n",
      "\n"
     ]
    }
   ],
   "source": [
    "sender = \"me@example.com\"\n",
    "recipient = \"you@example.com\"\n",
    "\n",
    "message['From'] = sender\n",
    "message['To'] = recipient\n",
    "\n",
    "print(message)"
   ]
  },
  {
   "cell_type": "code",
   "execution_count": 8,
   "metadata": {},
   "outputs": [
    {
     "name": "stdout",
     "output_type": "stream",
     "text": [
      "From: me@example.com\n",
      "To: you@example.com\n",
      "Subject: Greetings from me@example.com to you@example.com!\n",
      "\n",
      "\n"
     ]
    }
   ],
   "source": [
    "message['Subject'] = 'Greetings from {} to {}!'.format(sender, recipient)\n",
    "print(message)"
   ]
  },
  {
   "cell_type": "code",
   "execution_count": 11,
   "metadata": {},
   "outputs": [
    {
     "name": "stdout",
     "output_type": "stream",
     "text": [
      "From: me@example.com\n",
      "To: you@example.com\n",
      "Subject: Greetings from me@example.com to you@example.com!\n",
      "MIME-Version: 1.0\n",
      "Content-Type: text/plain; charset=\"utf-8\"\n",
      "Content-Transfer-Encoding: 7bit\n",
      "\n",
      "Hey there! \n",
      "\n",
      "I'm learning to send emails using Python!\n",
      "\n"
     ]
    }
   ],
   "source": [
    "body = \"\"\"Hey there! \n",
    "\n",
    "I'm learning to send emails using Python!\"\"\"\n",
    "\n",
    "message.set_content(body)\n",
    "print(message)"
   ]
  },
  {
   "cell_type": "markdown",
   "metadata": {},
   "source": [
    "## Adding Attachments\n",
    "Remember, email messages are made up completely of strings. When you add an attachment to an email, whatever type the attachment happens to be, it’s encoded as some form of text. The **Multipurpose Internet Mail Extensions (MIME)** standard is used to encode all sorts of files as text strings that can be sent via email. \n",
    "\n",
    "Let's dive in and break down how that works.\n",
    "\n",
    "In order for the recipient of your message to understand what to do with an attachment, you  need to label the attachment with a MIME type and subtype to tell them what sort of file you’re sending. The **Internet Assigned Numbers Authority (IANA)** ([iana.org)](https://www.iana.org/) [hosts a registry of valid MIME types](https://www.iana.org/assignments/media-types/media-types.xhtml). If you know the correct type and subtype of the files you’ll be sending, you can use those values directly. If you don't know, you can use the Python mimetypes module to make a good guess!\n",
    "\n",
    "```\n",
    ">>> import os.path\n",
    ">>> attachment_path = \"/tmp/example.png\"\n",
    ">>> attachment_filename = os.path.basename(attachment_path)\n",
    ">>> import mimetypes\n",
    ">>> mime_type, _ = mimetypes.guess_type(attachment_path)\n",
    ">>> print(mime_type)\n",
    "image/png\n",
    "```\n",
    "Alright, that mime_type string contains the MIME type and subtype, separated by a slash. The EmailMessage type needs a MIME type and subtypes as separate strings, so let's split this up:\n",
    "```\n",
    ">>> mime_type, mime_subtype = mime_type.split('/', 1)\n",
    ">>> print(mime_type)\n",
    "image\n",
    ">>> print(mime_subtype)\n",
    "png\n",
    "\n",
    "```\n",
    "Now, finally! Let's add the attachment to our message and see what it looks like.\n",
    "```\n",
    ">>> with open(attachment_path, 'rb') as ap:\n",
    "...     message.add_attachment(ap.read(),\n",
    "...                            maintype=mime_type,\n",
    "...                            subtype=mime_subtype,\n",
    "...                            filename=os.path.basename(attachment_path))\n",
    "... \n",
    ">>> print(message)\n",
    "Content-Type: multipart/mixed; boundary=\"===============5350123048127315795==\"\n",
    "\n",
    "--===============5350123048127315795==\n",
    "Content-Type: text/plain; charset=\"utf-8\"\n",
    "Content-Transfer-Encoding: 7bit\n",
    "\n",
    "Hey there!\n",
    "\n",
    "I'm learning to send email using Python!\n",
    "\n",
    "--===============5350123048127315795==\n",
    "Content-Type: image/png\n",
    "Content-Transfer-Encoding: base64\n",
    "Content-Disposition: attachment; filename=\"example.png\"\n",
    "MIME-Version: 1.0\n",
    "\n",
    "iVBORw0KGgoAAAANSUhEUgAAASIAAABSCAYAAADw69nDAAAACXBIWXMAAAsTAAALEwEAmpwYAAAg\n",
    "AElEQVR4nO2dd3wUZf7HP8/M9k2nKIJA4BCUNJKgNJWIBUUgEggCiSgeVhA8jzv05Gc5z4KHiqin\n",
    "eBZIIBDKIXggKIeCRCAhjQAqx4UiCARSt83uzDy/PzazTDZbwy4BnHde+9qZydNn97Pf5/uUIZRS\n",
    "(...We deleted a bunch of lines here...)\n",
    "wgAAAABJRU5ErkJggg==\n",
    "\n",
    "--===============5350123048127315795==--\n",
    "\n",
    "```\n",
    "\n",
    "The entire message can still be serialized as a text string, including the image that we attached! The email message as a whole has the MIME type \"multipart/mixed\". Each part of the message has its own MIME type. The message body is still there as a \"text/plain\" part, and the image attachment is a \"image/png\" part. Cool!\n",
    "\n",
    "Now, how do we send this email message? That's coming up!"
   ]
  },
  {
   "cell_type": "markdown",
   "metadata": {},
   "source": [
    "### Example"
   ]
  },
  {
   "cell_type": "code",
   "execution_count": 28,
   "metadata": {},
   "outputs": [
    {
     "data": {
      "text/plain": [
       "'example.jpeg'"
      ]
     },
     "execution_count": 28,
     "metadata": {},
     "output_type": "execute_result"
    }
   ],
   "source": [
    "# add path for file\n",
    "import os.path\n",
    "attachment_path = 'src/example.jpeg'\n",
    "attachment_filename = os.path.basename(attachment_path)\n",
    "attachment_filename"
   ]
  },
  {
   "cell_type": "code",
   "execution_count": 22,
   "metadata": {},
   "outputs": [
    {
     "data": {
      "text/plain": [
       "'image/jpeg'"
      ]
     },
     "execution_count": 22,
     "metadata": {},
     "output_type": "execute_result"
    }
   ],
   "source": [
    "# Guess file type for attachment\n",
    "import mimetypes\n",
    "mimetypes, _ = mimetypes.guess_type(attachment_filename)\n",
    "mimetypes"
   ]
  },
  {
   "cell_type": "code",
   "execution_count": 26,
   "metadata": {},
   "outputs": [
    {
     "name": "stdout",
     "output_type": "stream",
     "text": [
      "image\n",
      "jpeg\n"
     ]
    }
   ],
   "source": [
    "# Split mime_type and subtype\n",
    "mime_type, mime_subtype = mimetypes.split('/')\n",
    "print(mime_type)\n",
    "print(mime_subtype)"
   ]
  },
  {
   "cell_type": "code",
   "execution_count": 31,
   "metadata": {},
   "outputs": [],
   "source": [
    "with open(attachment_path, 'rb') as ap:\n",
    "    message.add_attachment(ap.read(), \n",
    "                            maintype=mime_type,\n",
    "                            subtype=mime_subtype,\n",
    "                            filename=os.path.basename(attachment_path))"
   ]
  },
  {
   "cell_type": "code",
   "execution_count": 32,
   "metadata": {},
   "outputs": [
    {
     "name": "stdout",
     "output_type": "stream",
     "text": [
      "From: me@example.com\n",
      "To: you@example.com\n",
      "Subject: Greetings from me@example.com to you@example.com!\n",
      "MIME-Version: 1.0\n",
      "Content-Type: multipart/mixed; boundary=\"===============3000456304377211609==\"\n",
      "\n",
      "--===============3000456304377211609==\n",
      "Content-Type: text/plain; charset=\"utf-8\"\n",
      "Content-Transfer-Encoding: 7bit\n",
      "\n",
      "Hey there! \n",
      "\n",
      "I'm learning to send emails using Python!\n",
      "\n",
      "--===============3000456304377211609==\n",
      "Content-Type: image/jpeg\n",
      "Content-Transfer-Encoding: base64\n",
      "Content-Disposition: attachment; filename=\"example.jpeg\"\n",
      "MIME-Version: 1.0\n",
      "\n",
      "/9j/4AAQSkZJRgABAQAAAQABAAD/2wBDAAgGBgcGBQgHBwcJCQgKDBQNDAsLDBkSEw8UHRofHh0a\n",
      "HBwgJC4nICIsIxwcKDcpLDAxNDQ0Hyc5PTgyPC4zNDL/2wBDAQkJCQwLDBgNDRgyIRwhMjIyMjIy\n",
      "MjIyMjIyMjIyMjIyMjIyMjIyMjIyMjIyMjIyMjIyMjIyMjIyMjIyMjIyMjL/wAARCACAAIADASIA\n",
      "AhEBAxEB/8QAHwAAAQUBAQEBAQEAAAAAAAAAAAECAwQFBgcICQoL/8QAtRAAAgEDAwIEAwUFBAQA\n",
      "AAF9AQIDAAQRBRIhMUEGE1FhByJxFDKBkaEII0KxwRVS0fAkM2JyggkKFhcYGRolJicoKSo0NTY3\n",
      "ODk6Q0RFRkdISUpTVFVWV1hZWmNkZWZnaGlqc3R1dnd4eXqDhIWGh4iJipKTlJWWl5iZmqKjpKWm\n",
      "p6ipqrKztLW2t7i5usLDxMXGx8jJytLT1NXW19jZ2uHi4+Tl5ufo6erx8vP09fb3+Pn6/8QAHwEA\n",
      "AwEBAQEBAQEBAQAAAAAAAAECAwQFBgcICQoL/8QAtREAAgECBAQDBAcFBAQAAQJ3AAECAxEEBSEx\n",
      "BhJBUQdhcRMiMoEIFEKRobHBCSMzUvAVYnLRChYkNOEl8RcYGRomJygpKjU2Nzg5OkNERUZHSElK\n",
      "U1RVVldYWVpjZGVmZ2hpanN0dXZ3eHl6goOEhYaHiImKkpOUlZaXmJmaoqOkpaanqKmqsrO0tba3\n",
      "uLm6wsPExcbHyMnK0tPU1dbX2Nna4uPk5ebn6Onq8vP09fb3+Pn6/9oADAMBAAIRAxEAPwD5/ooo\n",
      "oAKKKKACiirFjYXmp3kdnYWk93dSZ2QwRmR2wCThRycAE/hQBXruPAfwv13xxeQukE9lpDbt+pPC\n",
      "CgwGxtBZfM+Zdp2k7c816f8ADf4DJbeVq3jOLddRy7otMDq8YAzzKRkPk4IUHGAN2clR7xQB8ceP\n",
      "Phfrvge8md4J73SF27NSSEBDkLncAzeX8zbRuI3Y4rh6+/68H+JHwGS583VvBkW26kl3S6YXVIyD\n",
      "jmInATBySpOME7cYCkA+eKKsX1heaZeSWd/aT2l1HjfDPGY3XIBGVPIyCD+NV6ACiiigAooooAKK\n",
      "KKACirFjYXmp3kdnYWk93dSZ2QwRmR2wCThRycAE/hXv/wAN/gMlt5WreM4t11HLui0wOrxgDPMp\n",
      "GQ+TghQcYA3ZyVAB5Z4J+GHiPxtcQPa2kltpbuBJqMy4jVcsCUBwZCCpGF6HAJXOa+o/B3w/8P8A\n",
      "gez8rSbXdcNuEl7OFaeQEg7S4AwvC/KABxnGck9RRQAUUUUAFFFFAHN+M/A2i+OtLSx1iKQGJ98N\n",
      "xAQssJ4ztJBGCBgggg8HqAR8ueNPhV4l8Ffarq5tftOkRSiNNQhKlWDfdLJksnocjG7gE5BP2PRQ\n",
      "B8AUV9D/ABI+AyXPm6t4Mi23Uku6XTC6pGQccxE4CYOSVJxgnbjAU+CarpV9oeqXGmanbSW15bvs\n",
      "lifqp/kQRggjgggjINAFOiiigAqxYWNxqeo21hZx+ZdXUqQwpuA3OxAUZPAySOtV66DwJ/yUPw1/\n",
      "2FbX/wBGrQB9Z/D/AMB2PgHw/wD2fbtHcXcjl7q9EWxpzk7cjLYCqcAZx1PVjXWUUUAFFFFABRRR\n",
      "QAUUVy+g/EPwt4k1i80rTNWglu7aXylQsF+0YXcWiz/rFGGBI/uk/dKkgHUUUUUAFcn8QPAdj4+8\n",
      "P/2fcNHb3cbh7W9MW9oDkbsDK5DKMEZx0PVRXWUUAfBF/Y3Gmajc2F5H5d1ayvDMm4Ha6khhkcHB\n",
      "B6VXroPHf/JQ/Ev/AGFbr/0a1c/QAV0HgT/kofhr/sK2v/o1a5+ug8Cf8lD8Nf8AYVtf/Rq0Afb9\n",
      "FFFABRRRQAUUV84fGH4w/wBq/aPDPhm5/wCJfzHe30bf8fPrGh/55+rfxdB8v3wA+MPxh/tX7R4Z\n",
      "8M3P/Ev5jvb6Nv8Aj59Y0P8Azz9W/i6D5fv+L2F9caZqNtf2cnl3VrKk0L7QdrqQVODwcEDrXafD\n",
      "P4Z33j/VC7mS20W3cC6uwOSevlx54Lkd+ig5PUBvo/x78ONN8b+GrXSVePTXsnU2c0NurCFQNpQL\n",
      "x8hXHAI5VT2xQBl/C34p2/jnTmt9TlsbPXUlZBaxuV89Mbg6KxycAMCAWxtycBgK9Ir4Umg1fwj4\n",
      "lCTxSWOrabcK4V1BMcikMp5yGHQg8gjB5Br6j+FvxTt/HOnNb6nLY2eupKyC1jcr56Y3B0Vjk4AY\n",
      "EAtjbk4DAUAekUUUUAfEHjv/AJKH4l/7Ct1/6NaufroPHf8AyUPxL/2Fbr/0a1c/QAV0HgT/AJKH\n",
      "4a/7Ctr/AOjVrn66DwJ/yUPw1/2FbX/0atAH2/RRRQAUUV84fGH4w/2r9o8M+Gbn/iX8x3t9G3/H\n",
      "z6xof+efq38XQfL98APjD8Yf7V+0eGfDNz/xL+Y72+jb/j59Y0P/ADz9W/i6D5fv8X8M/hnfeP8A\n",
      "VC7mS20W3cC6uwOSevlx54Lkd+ig5PUBj4Z/DO+8f6oXcyW2i27gXV2ByT18uPPBcjv0UHJ6gN9b\n",
      "6VpVjoel2+maZbR21nbpsiiToo/mSTkknkkknJNABpWlWOh6Xb6ZpltHbWdumyKJOij+ZJOSSeSS\n",
      "Sck1coooA4v4jfDmx+Iel20E91JZ3lo5a2uVXeEDY3qyZAYEKO4IIHOMg/JE0Gr+EfEoSeKSx1bT\n",
      "bhXCuoJjkUhlPOQw6EHkEYPINfddc/4j8F6F4svNLudZtPtLabK0sKMx2NuAyrr0ZchTg/3QOhYE\n",
      "Ap/DnxFrXinwdb6trulx2FxM7GIR5CzRcFZApJKg5IwSc43DhhXWUUUAfEHjv/kofiX/ALCt1/6N\n",
      "aufroPHf/JQ/Ev8A2Fbr/wBGtXP0AFdB4E/5KH4a/wCwra/+jVrn66DwJ/yUPw1/2FbX/wBGrQB9\n",
      "v0UVyfxG8O614p8HXGk6FqkdhcTOolMmQs0XIaMsASoOQcgHONp4Y0AeOfGH4w/2r9o8M+Gbn/iX\n",
      "8x3t9G3/AB8+saH/AJ5+rfxdB8v3+L+GfwzvvH+qF3Mltotu4F1dgck9fLjzwXI79FByeoDWPAXw\n",
      "m1fxZ4lurO/SSx0/TbhoNQuAQSJFOGijPIZ/fkKOTnKhvq/StKsdD0u30zTLaO2s7dNkUSdFH8yS\n",
      "ckk8kkk5JoANK0qx0PS7fTNMto7azt02RRJ0UfzJJySTySSTkmrlFFABRRRQAUUUUAFFFFAHxB47\n",
      "/wCSh+Jf+wrdf+jWrn66Dx3/AMlD8S/9hW6/9GtXP0AFdB4E/wCSh+Gv+wra/wDo1a5+ug8Cf8lD\n",
      "8Nf9hW1/9GrQB9v0UUUAFFFFABRRRQAUUUUAFFFFABRRRQB8QeO/+Sh+Jf8AsK3X/o1q5+ug8d/8\n",
      "lD8S/wDYVuv/AEa1c/QAVqeGtSh0bxVpGqXCyNBZXsNxIsYBYqjhiBkgZwPUVl0UAfe9jf2ep2cd\n",
      "5YXcF3ayZ2TQSCRGwSDhhwcEEfhVivkDwB8W9d8C7LP/AJCGjLvP2CVwu1m5yj4JXkZxypy3GTkd\n",
      "/wD8NNf9Sj/5Uv8A7VQB9AUV8/8A/DTX/Uo/+VL/AO1Uf8NNf9Sj/wCVL/7VQB9AUV8//wDDTX/U\n",
      "o/8AlS/+1Uf8NNf9Sj/5Uv8A7VQB9AUV8/8A/DTX/Uo/+VL/AO1Uf8NNf9Sj/wCVL/7VQB9AUV8/\n",
      "/wDDTX/Uo/8AlS/+1Uf8NNf9Sj/5Uv8A7VQB9AVXvr+z0yzkvL+7gtLWPG+aeQRouSAMseBkkD8a\n",
      "8H/4aa/6lH/ypf8A2quA8f8Axb13x1vs/wDkH6M2w/YInDbmXnLvgFuTnHCjC8ZGSAcn4l1KHWfF\n",
      "Wr6pbrIsF7ezXEayABgruWAOCRnB9TWXRRQB/9k=\n",
      "\n",
      "--===============3000456304377211609==\n",
      "Content-Type: image/jpeg\n",
      "Content-Transfer-Encoding: base64\n",
      "Content-Disposition: attachment; filename=\"example.jpeg\"\n",
      "MIME-Version: 1.0\n",
      "\n",
      "/9j/4AAQSkZJRgABAQAAAQABAAD/2wBDAAgGBgcGBQgHBwcJCQgKDBQNDAsLDBkSEw8UHRofHh0a\n",
      "HBwgJC4nICIsIxwcKDcpLDAxNDQ0Hyc5PTgyPC4zNDL/2wBDAQkJCQwLDBgNDRgyIRwhMjIyMjIy\n",
      "MjIyMjIyMjIyMjIyMjIyMjIyMjIyMjIyMjIyMjIyMjIyMjIyMjIyMjIyMjL/wAARCACAAIADASIA\n",
      "AhEBAxEB/8QAHwAAAQUBAQEBAQEAAAAAAAAAAAECAwQFBgcICQoL/8QAtRAAAgEDAwIEAwUFBAQA\n",
      "AAF9AQIDAAQRBRIhMUEGE1FhByJxFDKBkaEII0KxwRVS0fAkM2JyggkKFhcYGRolJicoKSo0NTY3\n",
      "ODk6Q0RFRkdISUpTVFVWV1hZWmNkZWZnaGlqc3R1dnd4eXqDhIWGh4iJipKTlJWWl5iZmqKjpKWm\n",
      "p6ipqrKztLW2t7i5usLDxMXGx8jJytLT1NXW19jZ2uHi4+Tl5ufo6erx8vP09fb3+Pn6/8QAHwEA\n",
      "AwEBAQEBAQEBAQAAAAAAAAECAwQFBgcICQoL/8QAtREAAgECBAQDBAcFBAQAAQJ3AAECAxEEBSEx\n",
      "BhJBUQdhcRMiMoEIFEKRobHBCSMzUvAVYnLRChYkNOEl8RcYGRomJygpKjU2Nzg5OkNERUZHSElK\n",
      "U1RVVldYWVpjZGVmZ2hpanN0dXZ3eHl6goOEhYaHiImKkpOUlZaXmJmaoqOkpaanqKmqsrO0tba3\n",
      "uLm6wsPExcbHyMnK0tPU1dbX2Nna4uPk5ebn6Onq8vP09fb3+Pn6/9oADAMBAAIRAxEAPwD5/ooo\n",
      "oAKKKKACiirFjYXmp3kdnYWk93dSZ2QwRmR2wCThRycAE/hQBXruPAfwv13xxeQukE9lpDbt+pPC\n",
      "CgwGxtBZfM+Zdp2k7c816f8ADf4DJbeVq3jOLddRy7otMDq8YAzzKRkPk4IUHGAN2clR7xQB8ceP\n",
      "Phfrvge8md4J73SF27NSSEBDkLncAzeX8zbRuI3Y4rh6+/68H+JHwGS583VvBkW26kl3S6YXVIyD\n",
      "jmInATBySpOME7cYCkA+eKKsX1heaZeSWd/aT2l1HjfDPGY3XIBGVPIyCD+NV6ACiiigAooooAKK\n",
      "KKACirFjYXmp3kdnYWk93dSZ2QwRmR2wCThRycAE/hXv/wAN/gMlt5WreM4t11HLui0wOrxgDPMp\n",
      "GQ+TghQcYA3ZyVAB5Z4J+GHiPxtcQPa2kltpbuBJqMy4jVcsCUBwZCCpGF6HAJXOa+o/B3w/8P8A\n",
      "gez8rSbXdcNuEl7OFaeQEg7S4AwvC/KABxnGck9RRQAUUUUAFFFFAHN+M/A2i+OtLSx1iKQGJ98N\n",
      "xAQssJ4ztJBGCBgggg8HqAR8ueNPhV4l8Ffarq5tftOkRSiNNQhKlWDfdLJksnocjG7gE5BP2PRQ\n",
      "B8AUV9D/ABI+AyXPm6t4Mi23Uku6XTC6pGQccxE4CYOSVJxgnbjAU+CarpV9oeqXGmanbSW15bvs\n",
      "lifqp/kQRggjgggjINAFOiiigAqxYWNxqeo21hZx+ZdXUqQwpuA3OxAUZPAySOtV66DwJ/yUPw1/\n",
      "2FbX/wBGrQB9Z/D/AMB2PgHw/wD2fbtHcXcjl7q9EWxpzk7cjLYCqcAZx1PVjXWUUUAFFFFABRRR\n",
      "QAUUVy+g/EPwt4k1i80rTNWglu7aXylQsF+0YXcWiz/rFGGBI/uk/dKkgHUUUUUAFcn8QPAdj4+8\n",
      "P/2fcNHb3cbh7W9MW9oDkbsDK5DKMEZx0PVRXWUUAfBF/Y3Gmajc2F5H5d1ayvDMm4Ha6khhkcHB\n",
      "B6VXroPHf/JQ/Ev/AGFbr/0a1c/QAV0HgT/kofhr/sK2v/o1a5+ug8Cf8lD8Nf8AYVtf/Rq0Afb9\n",
      "FFFABRRRQAUUV84fGH4w/wBq/aPDPhm5/wCJfzHe30bf8fPrGh/55+rfxdB8v3wA+MPxh/tX7R4Z\n",
      "8M3P/Ev5jvb6Nv8Aj59Y0P8Azz9W/i6D5fv+L2F9caZqNtf2cnl3VrKk0L7QdrqQVODwcEDrXafD\n",
      "P4Z33j/VC7mS20W3cC6uwOSevlx54Lkd+ig5PUBvo/x78ONN8b+GrXSVePTXsnU2c0NurCFQNpQL\n",
      "x8hXHAI5VT2xQBl/C34p2/jnTmt9TlsbPXUlZBaxuV89Mbg6KxycAMCAWxtycBgK9Ir4Umg1fwj4\n",
      "lCTxSWOrabcK4V1BMcikMp5yGHQg8gjB5Br6j+FvxTt/HOnNb6nLY2eupKyC1jcr56Y3B0Vjk4AY\n",
      "EAtjbk4DAUAekUUUUAfEHjv/AJKH4l/7Ct1/6NaufroPHf8AyUPxL/2Fbr/0a1c/QAV0HgT/AJKH\n",
      "4a/7Ctr/AOjVrn66DwJ/yUPw1/2FbX/0atAH2/RRRQAUUV84fGH4w/2r9o8M+Gbn/iX8x3t9G3/H\n",
      "z6xof+efq38XQfL98APjD8Yf7V+0eGfDNz/xL+Y72+jb/j59Y0P/ADz9W/i6D5fv8X8M/hnfeP8A\n",
      "VC7mS20W3cC6uwOSevlx54Lkd+ig5PUBj4Z/DO+8f6oXcyW2i27gXV2ByT18uPPBcjv0UHJ6gN9b\n",
      "6VpVjoel2+maZbR21nbpsiiToo/mSTkknkkknJNABpWlWOh6Xb6ZpltHbWdumyKJOij+ZJOSSeSS\n",
      "Sck1coooA4v4jfDmx+Iel20E91JZ3lo5a2uVXeEDY3qyZAYEKO4IIHOMg/JE0Gr+EfEoSeKSx1bT\n",
      "bhXCuoJjkUhlPOQw6EHkEYPINfddc/4j8F6F4svNLudZtPtLabK0sKMx2NuAyrr0ZchTg/3QOhYE\n",
      "Ap/DnxFrXinwdb6trulx2FxM7GIR5CzRcFZApJKg5IwSc43DhhXWUUUAfEHjv/kofiX/ALCt1/6N\n",
      "aufroPHf/JQ/Ev8A2Fbr/wBGtXP0AFdB4E/5KH4a/wCwra/+jVrn66DwJ/yUPw1/2FbX/wBGrQB9\n",
      "v0UVyfxG8O614p8HXGk6FqkdhcTOolMmQs0XIaMsASoOQcgHONp4Y0AeOfGH4w/2r9o8M+Gbn/iX\n",
      "8x3t9G3/AB8+saH/AJ5+rfxdB8v3+L+GfwzvvH+qF3Mltotu4F1dgck9fLjzwXI79FByeoDWPAXw\n",
      "m1fxZ4lurO/SSx0/TbhoNQuAQSJFOGijPIZ/fkKOTnKhvq/StKsdD0u30zTLaO2s7dNkUSdFH8yS\n",
      "ckk8kkk5JoANK0qx0PS7fTNMto7azt02RRJ0UfzJJySTySSTkmrlFFABRRRQAUUUUAFFFFAHxB47\n",
      "/wCSh+Jf+wrdf+jWrn66Dx3/AMlD8S/9hW6/9GtXP0AFdB4E/wCSh+Gv+wra/wDo1a5+ug8Cf8lD\n",
      "8Nf9hW1/9GrQB9v0UUUAFFFFABRRRQAUUUUAFFFFABRRRQB8QeO/+Sh+Jf8AsK3X/o1q5+ug8d/8\n",
      "lD8S/wDYVuv/AEa1c/QAVqeGtSh0bxVpGqXCyNBZXsNxIsYBYqjhiBkgZwPUVl0UAfe9jf2ep2cd\n",
      "5YXcF3ayZ2TQSCRGwSDhhwcEEfhVivkDwB8W9d8C7LP/AJCGjLvP2CVwu1m5yj4JXkZxypy3GTkd\n",
      "/wD8NNf9Sj/5Uv8A7VQB9AUV8/8A/DTX/Uo/+VL/AO1Uf8NNf9Sj/wCVL/7VQB9AUV8//wDDTX/U\n",
      "o/8AlS/+1Uf8NNf9Sj/5Uv8A7VQB9AUV8/8A/DTX/Uo/+VL/AO1Uf8NNf9Sj/wCVL/7VQB9AUV8/\n",
      "/wDDTX/Uo/8AlS/+1Uf8NNf9Sj/5Uv8A7VQB9AVXvr+z0yzkvL+7gtLWPG+aeQRouSAMseBkkD8a\n",
      "8H/4aa/6lH/ypf8A2quA8f8Axb13x1vs/wDkH6M2w/YInDbmXnLvgFuTnHCjC8ZGSAcn4l1KHWfF\n",
      "Wr6pbrIsF7ezXEayABgruWAOCRnB9TWXRRQB/9k=\n",
      "\n",
      "--===============3000456304377211609==--\n",
      "\n"
     ]
    }
   ],
   "source": [
    "print(message)"
   ]
  },
  {
   "cell_type": "markdown",
   "metadata": {},
   "source": [
    "## Sending the Email Through an SMTP Server\n",
    "As we called out, to send emails, our computers use the [Simple Mail Transfer Protocol (SMTP)](https://datatracker.ietf.org/doc/html/rfc2821.html). This protocol specifies how computers can deliver email to each other. There are certain steps that need to be followed to do this correctly. But, as usual, we won't do this manually; we’ll send the message using the built-in [smtplib Python module](https://docs.python.org/3/library/smtplib.html). Let's start by importing the module.\n",
    "\n",
    "```\n",
    ">>> import smtplib\n",
    "```\n",
    "With smtplib, we'll create an object that will represent our mail server, and handle sending messages to that server. If you’re using a Linux computer, you might already have a configured SMTP server like postfix or sendmail. But maybe not. Let's create a smtplib.SMTP object and try to connect to the local machine.\n",
    "```\n",
    ">>> mail_server = smtplib.SMTP('localhost')\n",
    "Traceback (most recent call last):\n",
    "  File \"<stdin>\", line 1, in <module>\n",
    "  (...We deleted a bunch of lines here...)\n",
    "ConnectionRefusedError: [Errno 61] Connection refused\n",
    "```\n",
    "\n",
    "Oops! This error means that there's no local SMTP server configured. But don't panic! You can still connect to the SMTP server for your personal email address. Most personal email services have instructions for sending email through SMTP; just search for the name of your email service and \"SMTP connection settings\".\n",
    "\n",
    "When setting this up, there are a couple of things that you'll probably need to do: Use a secure transport layer and authenticate to the service using a username and password. Let's see what this means in practice.\n",
    "\n",
    "You can connect to a remote SMTP server using **Transport Layer Security (TLS)**. An earlier version of the TLS protocol was called **Secure Sockets Layer (SSL)**, and you’ll sometimes see TLS and SSL used interchangeably. This SSL/TLS is the same protocol that's used to add a secure transmission layer to HTTP, making it HTTPS. Within the smtplib, there are two classes for making connections to an SMTP server: The [SMTP class](https://docs.python.org/3/library/smtplib.html#smtplib.SMTP) will make a direct SMTP connection, and the [SMTP_SSL class](https://docs.python.org/3/library/smtplib.html#smtplib.SMTP_SSL) will make a SMTP connection over SSL/TLS. Like this:\n",
    "\n",
    "```\n",
    ">>> mail_server = smtplib.SMTP_SSL('smtp.example.com')\n",
    "```\n",
    "If you want to see the SMTP messages that are being sent back and forth by the smtplib module behind the scenes, you can set the debug level on the SMTP or SMTP_SSL object. The examples in this lesson won’t show the debug output, but you might find it interesting!\n",
    "```\n",
    "mail_server.set_debuglevel(1)\n",
    "```\n",
    "Now that we’ve made a connection to the SMTP server, the next thing we need to do is authenticate to the SMTP server. Typically, email providers wants us to provide a username and password to connect. Let's put the password into a variable so it's not visible on the screen.\n",
    "```\n",
    ">>> import getpass\n",
    ">>> mail_pass = getpass.getpass('Password? ')\n",
    "Password?\n",
    ">>>\n",
    "\n",
    "```\n",
    "\n",
    "The example above uses the [getpass module](https://docs.python.org/3/library/getpass.html) so that passers-by won't see the password on the screen. Watch out, though; the mail_pass variable is still just an ordinary string!\n",
    "\n",
    "```\n",
    ">>> print(mail_pass)\n",
    "It'sASecr3t!\n",
    "```\n",
    "Now that we have the email user and password configured, we can authenticate to the email server using the SMTP object's [login method]().\n",
    "```\n",
    ">>> mail_server.login(sender, mail_pass)\n",
    "(235, b'2.7.0 Accepted')\n",
    "```\n",
    "If the login attempt succeeds, the login method will return a tuple of the [SMTP status code](https://datatracker.ietf.org/doc/html/rfc4954#section-6) and a message explaining the reason for the status. If the login attempt fails, the module will raise a [SMTPAuthenticationError](https://docs.python.org/3.8/library/smtplib.html#smtplib.SMTPAuthenticationError) exception.\n",
    "\n",
    "If you wrote a script to send an email message, how would you handle this exception?\n",
    "\n",
    "**Sending your message**\n",
    "Alright! We're connected and authenticated to the SMTP server. Now, how do we send the message?\n",
    "```\n",
    ">>> mail_server.send_message(message)\n",
    "{}\n",
    "\n",
    "```\n",
    "Okay, well that last bit was pretty easy! We did the hard part first! The [send_message method](https://docs.python.org/3/library/smtplib.html#smtplib.SMTP.send_message) returns a dictionary of any recipients that weren’t able to receive the message. Our message was delivered successfully, so send_message returned an empty dictionary. Finally, now that the email is sent, let's close the connection to the mail server.\n",
    "```\n",
    ">>> mail_server.quit()\n",
    "```\n",
    "And there you have it! We covered a lot in this lesson, so let's recap! First, we constructed an email message by using the built-in [email module](https://docs.python.org/3/library/email.html)'s [EmailMessage class](https://docs.python.org/3/library/email.message.html). Next, we added an attachment to our message with the help of the built-in [mimetypes module](https://docs.python.org/3/library/mimetypes.html). Finally, we connected to a SMTP server and sent the email using the smtplib module's 's [SMTP_SSL class](https://docs.python.org/3/library/smtplib.html#smtplib.SMTP_SSL).\n",
    "\n",
    "Did you have any idea all of this was happening behind a simple email message?"
   ]
  }
 ],
 "metadata": {
  "interpreter": {
   "hash": "23300995598eec4bcf6bd89cf02d1c3675e8b2616661418dbbf5580aa901878d"
  },
  "kernelspec": {
   "display_name": "Python 3.9.5 64-bit",
   "language": "python",
   "name": "python3"
  },
  "language_info": {
   "codemirror_mode": {
    "name": "ipython",
    "version": 3
   },
   "file_extension": ".py",
   "mimetype": "text/x-python",
   "name": "python",
   "nbconvert_exporter": "python",
   "pygments_lexer": "ipython3",
   "version": "3.9.5"
  },
  "orig_nbformat": 4
 },
 "nbformat": 4,
 "nbformat_minor": 2
}
