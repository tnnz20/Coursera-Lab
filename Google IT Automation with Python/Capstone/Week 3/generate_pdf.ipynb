{
 "cells": [
  {
   "cell_type": "markdown",
   "metadata": {},
   "source": [
    "# Week 3\n",
    "\n",
    "## Introduction to Generating PDFs\n",
    "Depending on what your automation does, you might want to generate a PDF report at the end, which lets you decide exactly how you want your information to look like.\n",
    "\n",
    "There's a few tools in Python that let you generate PDFs with the content that you want. Here, we'll learn about one of them: [ReportLab](). ReportLab has a lot of different features for creating PDF documents. We'll cover just the basics here, and give you pointers for more information at the end.\n",
    "\n",
    "For our examples, we'll be mostly using the high-level classes and methods in the **Page Layout and Typography Using Scripts** (PLATYPUS) part of the ReportLab module.\n",
    "\n",
    "Let's say that I have an awesome collection of fruit, and I want to create a PDF report of all the different kinds of fruit I have! I can easily represent the different kinds of fruit and how much of each I have with a Python dictionary. It might look something like this:\n",
    "\n",
    "```\n",
    "fruit = {\n",
    "  \"elderberries\": 1,\n",
    "  \"figs\": 1,\n",
    "  \"apples\": 2,\n",
    "  \"durians\": 3,\n",
    "  \"bananas\": 5,\n",
    "  \"cherries\": 8,\n",
    "  \"grapes\": 13\n",
    "}\n",
    "\n",
    "```\n",
    "Now let's take this information and turn it into a report that we can show off! We're going to use the SimpleDocTemplate class to build our PDF. \n",
    "```\n",
    ">>> from reportlab.platypus import SimpleDocTemplate\n",
    ">>> report = SimpleDocTemplate(\"/tmp/report.pdf\")\n",
    "```\n",
    "The report object that we just created will end up generating a PDF using the filename /tmp/report.pdf. Now, let's add some content to it! We'll create a title, some text in paragraphs, and some charts and images. For that, we're going to use what reportlab calls Flowables. Flowables are sort of like chunks of a document that reportlab can arrange to make a complete report. Let's import some Flowable classes.\n",
    "```\n",
    ">>> from reportlab.platypus import Paragraph, Spacer, Table, Image\n",
    "```\n",
    "Each of these items (Paragraph, Spacer, Table, and Image) are classes that build individual elements in the final document. We have to tell reportlab what style we want each part of the document to have, so let's import some more things from the module to describe style.\n",
    "```\n",
    ">>> from reportlab.lib.styles import getSampleStyleSheet\n",
    ">>> styles = getSampleStyleSheet()\n",
    "```\n",
    "You can make a style all of your own, but we’ll use the default provided by the module for these examples. The styles object now contains a default \"sample\" style. It’s like a dictionary of different style settings. If you've ever written HTML, the style settings will look familiar. For example h1 represents the style for the first level of headers. Alright, we're finally ready to give this report a title!\n",
    "```\n",
    ">>> report_title = Paragraph(\"A Complete Inventory of My Fruit\", styles[\"h1\"])\n",
    "```\n",
    "Let's take a look at what this will look like. We can build the PDF now by using the build() method of our report. It takes a list of Flowable elements, and generates a PDF with them.\n",
    "```\n",
    ">>> report.build([report_title])\n",
    "```\n"
   ]
  },
  {
   "cell_type": "markdown",
   "metadata": {},
   "source": [
    "### Example"
   ]
  },
  {
   "cell_type": "code",
   "execution_count": 1,
   "metadata": {},
   "outputs": [],
   "source": [
    "fruit = {\n",
    "  \"elderberries\": 1,\n",
    "  \"figs\": 1,\n",
    "  \"apples\": 2,\n",
    "  \"durians\": 3,\n",
    "  \"bananas\": 5,\n",
    "  \"cherries\": 8,\n",
    "  \"grapes\": 13\n",
    "}"
   ]
  },
  {
   "cell_type": "code",
   "execution_count": 4,
   "metadata": {},
   "outputs": [],
   "source": [
    "from reportlab.platypus import SimpleDocTemplate\n",
    "report = SimpleDocTemplate(\"src/report.pdf\")"
   ]
  },
  {
   "cell_type": "code",
   "execution_count": 6,
   "metadata": {},
   "outputs": [],
   "source": [
    "from reportlab.platypus import Paragraph, Spacer, Table, Image\n",
    "from reportlab.lib.styles import getSampleStyleSheet\n",
    "\n",
    "styles = getSampleStyleSheet()"
   ]
  },
  {
   "cell_type": "code",
   "execution_count": 7,
   "metadata": {},
   "outputs": [],
   "source": [
    "report_title = Paragraph(\"A Complete Inventory of My Fruit\", styles[\"h1\"])"
   ]
  },
  {
   "cell_type": "code",
   "execution_count": 8,
   "metadata": {},
   "outputs": [],
   "source": [
    "report.build([report_title])"
   ]
  },
  {
   "cell_type": "markdown",
   "metadata": {},
   "source": [
    "## Adding Tables to our PDFs\n",
    "Up to now, we've generated an extra simple PDF file, that just includes a title.\n",
    "\n",
    "Let's spice this up by adding a Table. To make a Table object, we need our data to be in a list-of-lists, sometimes called a two-dimensional array. We have our inventory of fruit in a dictionary. How can we convert a dictionary into a list-of-lists?\n",
    "\n",
    "```\n",
    ">>> table_data = []\n",
    ">>> for k, v in fruit.items():\n",
    "...   table_data.append([k, v])\n",
    "...\n",
    ">>> print(table_data)\n",
    "[['elderberries', 1], ['figs', 1], ['apples', 2], ['durians', 3], ['bananas', 5], ['cherries', 8], ['grapes', 13]]\n",
    "```\n",
    "Great, we have the list of lists. We can now add it to our report and then generate the PDF file once again by calling the build method.\n",
    "```\n",
    ">>> report_table = Table(data=table_data)\n",
    ">>> report.build([report_title, report_table])\n",
    "```\n",
    "And this is how the generated report looks now:\n",
    "\n",
    "![](https://d3c33hcgiwev3.cloudfront.net/imageAssetProxy.v1/dDC4EkhjRs2wuBJIYybNYg_819760c210201ef87129ffcb56d26626_pasted-image-0-1-.png?expiry=1647648000000&hmac=9CcZZMfEeJkNo5MSNMFxj43q_EMa57VR18eux6dBzbg)\n",
    "\n",
    "Okay, it worked! It's not very easy to read, though. Maybe we should add some style to report_table. For our example, we'll add a border around all of the cells in our table, and move the table over to the left. TableStyle definitions can get pretty complicated, so feel free to take a look at the documentation for a more complete idea of what’s possible.\n",
    "```\n",
    ">>> from reportlab.lib import colors\n",
    ">>> table_style = [('GRID', (0,0), (-1,-1), 1, colors.black)]\n",
    ">>> report_table = Table(data=table_data, style=table_style, hAlign=\"LEFT\")\n",
    ">>> report.build([report_title, report_table])\n",
    "```\n",
    "![](https://d3c33hcgiwev3.cloudfront.net/imageAssetProxy.v1/mEW73N03StaFu9zdN5rWYw_e6a691a4ab0b80af644ec2ba5890c8ba_pasted-image-0-2-.png?expiry=1647648000000&hmac=eLkleu3hisYtKx27uJAMFuEZQ_loHUk5-2B-0ecs1YU)\n",
    "\n",
    "Much better! Up next, we'll look into making this more colorful by adding graphs to our reports."
   ]
  },
  {
   "cell_type": "markdown",
   "metadata": {},
   "source": [
    "### Example"
   ]
  },
  {
   "cell_type": "code",
   "execution_count": 9,
   "metadata": {},
   "outputs": [
    {
     "name": "stdout",
     "output_type": "stream",
     "text": [
      "[['elderberries', 1], ['figs', 1], ['apples', 2], ['durians', 3], ['bananas', 5], ['cherries', 8], ['grapes', 13]]\n"
     ]
    }
   ],
   "source": [
    "table_data = []\n",
    "\n",
    "for k, v in fruit.items():\n",
    "    table_data.append([k,v])\n",
    "\n",
    "print(table_data)"
   ]
  },
  {
   "cell_type": "code",
   "execution_count": 12,
   "metadata": {},
   "outputs": [],
   "source": [
    "report_table = Table(data=table_data)\n",
    "report.build([report_title, report_table])"
   ]
  },
  {
   "cell_type": "code",
   "execution_count": 13,
   "metadata": {},
   "outputs": [],
   "source": [
    "# add box grid to table\n",
    "\n",
    "from reportlab.lib import colors\n",
    "table_style = [('GRID', (0,0), (-1,-1), 1, colors.black)]\n",
    "report_table = Table(data=table_data, style=table_style, hAlign=\"LEFT\")\n",
    "report.build([report_title, report_table])"
   ]
  },
  {
   "cell_type": "markdown",
   "metadata": {},
   "source": [
    "## Adding Graphics to our PDFs\n",
    "Up to now, we've generated a report with a title and a table of data. Next let's add something a little more graphical. What could be better than a fruit pie (graph)?! We’re going to need to use the Drawing Flowable class to create a Pie chart.\n",
    "\n",
    "```\n",
    ">>> from reportlab.graphics.shapes import Drawing\n",
    ">>> from reportlab.graphics.charts.piecharts import Pie\n",
    ">>> report_pie = Pie(width=3*inch, height=3*inch)\n",
    "```\n",
    "To add data to our Pie chart, we need two separate lists: One for data, and one for labels. Once more, we’re going to have to transform our fruit dictionary into a different shape. For an added twist, let's sort the fruit in alphabetical order:\n",
    "```\n",
    ">>> report_pie.data = []\n",
    ">>> report_pie.labels = []\n",
    ">>> for fruit_name in sorted(fruit):\n",
    "...   report_pie.data.append(fruit[fruit_name])\n",
    "...   report_pie.labels.append(fruit_name)\n",
    "...\n",
    ">>> print(report_pie.data)\n",
    "[2, 5, 8, 3, 1, 1, 13]\n",
    ">>> print(report_pie.labels)\n",
    "['apples', 'bananas', 'cherries', 'durians', 'elderberries', 'figs', 'grapes']\n",
    "```\n",
    "The Pie object isn’t Flowable, but it can be placed inside of a Flowable Drawing.\n",
    "```\n",
    ">>> report_chart = Drawing()\n",
    ">>> report_chart.add(report_pie)\n",
    "```\n",
    "Now, we'll add the new Drawing to the report, and see what it looks like.\n",
    "```\n",
    "report.build([report_title, report_table, report_chart])\n",
    "```\n",
    "![](https://d3c33hcgiwev3.cloudfront.net/imageAssetProxy.v1/kB8L5tDnR_qfC-bQ5xf6MQ_fedb9ca05eec18eb64a7f541e5b855c9_pasted-image-0-3-.png?expiry=1647648000000&hmac=r3jL9qdjbct5sUARga6MUrU2EfVy7tMVrsjJSaOUtsE)\n",
    "Alright, and with that, you've seen a few examples of what we can do with the ReportLab library.  There's a ton more things that can be done that we won't cover here. You'll want to refer to the ReportLab User Guide for more details on the features we've seen, and to see what else you can create with it.\n",
    "\n",
    "By the way, the [ReportLab User Guide](https://www.reportlab.com/docs/reportlab-userguide.pdf) is a PDF that is generated using reportlab! Cool, right?"
   ]
  },
  {
   "cell_type": "markdown",
   "metadata": {},
   "source": [
    "### Example"
   ]
  },
  {
   "cell_type": "code",
   "execution_count": 27,
   "metadata": {},
   "outputs": [],
   "source": [
    "from reportlab.graphics.shapes import Drawing\n",
    "from reportlab.graphics.charts.piecharts import Pie\n",
    "\n",
    "inch = 2.5\n",
    "report_pie = Pie(width=3*inch, height=3*inch)"
   ]
  },
  {
   "cell_type": "code",
   "execution_count": 28,
   "metadata": {},
   "outputs": [
    {
     "name": "stdout",
     "output_type": "stream",
     "text": [
      "[2, 5, 8, 3, 1, 1, 13]\n",
      "['apples', 'bananas', 'cherries', 'durians', 'elderberries', 'figs', 'grapes']\n"
     ]
    }
   ],
   "source": [
    "report_pie.data = []\n",
    "report_pie.labels = []\n",
    "\n",
    "for fruit_name in sorted(fruit):\n",
    "    report_pie.data.append(fruit[fruit_name])\n",
    "    report_pie.labels.append(fruit_name)\n",
    "\n",
    "print(report_pie.data)\n",
    "print(report_pie.labels)"
   ]
  },
  {
   "cell_type": "code",
   "execution_count": 25,
   "metadata": {},
   "outputs": [],
   "source": [
    "report_chart = Drawing()\n",
    "report_chart.add(report_pie)"
   ]
  },
  {
   "cell_type": "code",
   "execution_count": 26,
   "metadata": {},
   "outputs": [],
   "source": [
    "report.build([report_title, report_table, report_chart])"
   ]
  },
  {
   "cell_type": "code",
   "execution_count": null,
   "metadata": {},
   "outputs": [],
   "source": []
  }
 ],
 "metadata": {
  "interpreter": {
   "hash": "23300995598eec4bcf6bd89cf02d1c3675e8b2616661418dbbf5580aa901878d"
  },
  "kernelspec": {
   "display_name": "Python 3.9.5 64-bit",
   "language": "python",
   "name": "python3"
  },
  "language_info": {
   "codemirror_mode": {
    "name": "ipython",
    "version": 3
   },
   "file_extension": ".py",
   "mimetype": "text/x-python",
   "name": "python",
   "nbconvert_exporter": "python",
   "pygments_lexer": "ipython3",
   "version": "3.9.5"
  },
  "orig_nbformat": 4
 },
 "nbformat": 4,
 "nbformat_minor": 2
}
