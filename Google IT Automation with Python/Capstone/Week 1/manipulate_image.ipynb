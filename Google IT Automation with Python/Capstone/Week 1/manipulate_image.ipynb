{
 "cells": [
  {
   "cell_type": "markdown",
   "metadata": {},
   "source": [
    "# Week 1\n",
    "\n",
    "## How to Use PIL for Working With Images\n",
    "As we've mentioned, for the project in this module, you'll use the Python Imaging Library to process a bunch of images. So, how does that work?\n",
    "\n",
    "When using PIL, we typically create Image objects that hold the data associated with the images that we want to process. On these objects, we operate by calling different methods that either return a new image object or modify the data in the image, and then end up saving the result in a different file.\n",
    "\n",
    "For example, if we wanted to resize an image and save the new image with a new name, we could do it with:\n",
    "\n",
    "```\n",
    "from PIL import Image\n",
    "im = Image(\"example.jpg\")\n",
    "new_im = im.resize((640,480))\n",
    "new_im.save(\"example_resized.jpg\")\n",
    "\n",
    "```\n",
    "In this case, we're using the resize method that returns a new image with the new size, and then we save it into a different file. Or, if we want to rotate an image, we can use code like this:\n",
    "```\n",
    "from PIL import Image\n",
    "im = Image(\"example.jpg\")\n",
    "new_im = im.rotate(90)\n",
    "new_im.save(\"example_rotated.jpg\")\n",
    "\n",
    "```\n",
    "This method also returns a new image that we can then use to create the new rotated file. Because the methods return a new object, we can even combine these operations into just one line that rotates, resizes, and saves:\n",
    "```\n",
    "from PIL import Image\n",
    "im = Image(\"example.jpg\")\n",
    "im.rotate(180).resize((640,480)).save(\"flipped_and_resized.jpg\")\n",
    "\n",
    "```\n",
    "\n",
    "There's a ton more that you can do with the PIL library. Have a look at [the docs]https://pillow.readthedocs.io/en/stable/handbook/tutorial.html() and try it on your computer! "
   ]
  }
 ],
 "metadata": {
  "language_info": {
   "name": "python"
  },
  "orig_nbformat": 4
 },
 "nbformat": 4,
 "nbformat_minor": 2
}
