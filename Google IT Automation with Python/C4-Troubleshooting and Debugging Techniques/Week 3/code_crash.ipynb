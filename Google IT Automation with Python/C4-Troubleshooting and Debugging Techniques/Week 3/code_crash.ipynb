{
 "cells": [
  {
   "cell_type": "markdown",
   "metadata": {},
   "source": [
    "# Week 3\n",
    "## Code that Crashes\n",
    "\n",
    "### Resources for Debugging Crashes\n",
    "Check out the following links for more information:\n",
    "\n",
    "- https://realpython.com/python-concurrency/\n",
    "\n",
    "- https://hackernoon.com/threaded-asynchronous-magic-and-how-to-wield-it-bba9ed602c32\n",
    "\n",
    "- https://stackoverflow.com/questions/33047452/definitive-list-of-common-reasons-for-segmentation-faults\n",
    "\n",
    "- https://sites.google.com/a/case.edu/hpcc/home/important-notes-for-new-users/debugging-segmentation-faults\n",
    "\n",
    "Readable Python code on GitHub:\n",
    "\n",
    "- https://github.com/fogleman/Minecraft\n",
    "\n",
    "- https://github.com/cherrypy/cherrypy\n",
    "\n",
    "- https://github.com/pallets/flask\n",
    "\n",
    "- https://github.com/tornadoweb/tornado\n",
    "\n",
    "- https://github.com/gleitz/howdoi\n",
    "\n",
    "- https://github.com/bottlepy/bottle/blob/master/bottle.py\n",
    "\n",
    "- https://github.com/sqlalchemy/sqlalchemy"
   ]
  }
 ],
 "metadata": {
  "language_info": {
   "name": "python"
  },
  "orig_nbformat": 4
 },
 "nbformat": 4,
 "nbformat_minor": 2
}
