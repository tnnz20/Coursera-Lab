{
 "cells": [
  {
   "cell_type": "markdown",
   "metadata": {},
   "source": [
    "# Week 3\n",
    "## Why Programs Crash\n",
    "\n",
    "### Resources for Understanding Crashes\n",
    "There's a ton of different reasons why a computer might crash. This [Scientific American article](https://www.scientificamerican.com/article/why-do-computers-crash/) discusses many of the possible reasons, including hardware problems and issues with the overall operating system or the applications on top. \n",
    "\n",
    "On Linux or MacOS, the worst kind of crash is called a Kernel Panic. On Windows, it's known as the [Blue Screen of Death](https://en.wikipedia.org/wiki/Blue_Screen_of_Death). These are situations where the computer completely stops responding and only a reboot can make it work again. They don't happen often, but it's good to understand what they mean: the whole OS encountered an error and it can't recover.\n",
    "\n",
    "We called out that reading logs is super important. You should know how to read logs on the operating system that you're using. Here are some resources for this:\n",
    "\n",
    "- [How to find logs on Windows 10](https://www.digitalmastersmag.com/magazine/tip-of-the-day-how-to-find-crash-logs-on-windows-10/) (Digital Masters Magazine)\n",
    "\n",
    "- [How to view the System Log on a Mac](https://www.howtogeek.com/356942/how-to-view-the-system-log-on-a-mac/) (How-to Geek)\n",
    "\n",
    "- [How to check system logs on Linux](https://www.fosslinux.com/8984/how-to-check-system-logs-on-linux-complete-usage-guide.htm) (FOSS Linux) \n",
    "\n",
    "You also need to be familiar with the tools available in your OS to diagnose problems. These are the tools we called out, but you don't need to limit yourself to them:\n",
    "\n",
    "- [Process Monitor for Windows](https://docs.microsoft.com/en-us/sysinternals/downloads/procmon) (Microsoft)\n",
    "\n",
    "- [Linux strace command tutorial for beginners](https://www.howtoforge.com/linux-strace-command/) (HowtoForge)  \n",
    "\n",
    "- [How to trace your system calls on Mac OS](https://etcnotes.com/posts/system-call/) (/etc/notes)"
   ]
  }
 ],
 "metadata": {
  "language_info": {
   "name": "python"
  },
  "orig_nbformat": 4
 },
 "nbformat": 4,
 "nbformat_minor": 2
}
