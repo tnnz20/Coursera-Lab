{
 "cells": [
  {
   "cell_type": "markdown",
   "metadata": {},
   "source": [
    "# Week 2\n",
    "## Slow Code\n",
    "\n",
    "## More About Improving Our Code\n",
    "Check out the following links for more information:\n",
    "\n",
    "- https://en.wikipedia.org/wiki/Profiling_(computer_programming)"
   ]
  }
 ],
 "metadata": {
  "language_info": {
   "name": "python"
  },
  "orig_nbformat": 4
 },
 "nbformat": 4,
 "nbformat_minor": 2
}
