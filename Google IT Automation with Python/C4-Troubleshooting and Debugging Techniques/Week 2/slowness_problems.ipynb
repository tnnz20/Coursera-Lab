{
 "cells": [
  {
   "cell_type": "markdown",
   "metadata": {},
   "source": [
    "# Week 2\n",
    "## When Slowness Problems Get Complex\n",
    "\n",
    "### More About Complex Slow Systems\n",
    "We only touched briefly on the ways we can use concurrency to improve our programs. If you're interested in learning more, this article from Real Python has a lot of details on the different ways to use concurrency in Python.\n",
    "\n",
    "Check out the following links for more information:\n",
    "\n",
    "https://realpython.com/python-concurrency/\n",
    "\n",
    "https://hackernoon.com/threaded-asynchronous-magic-and-how-to-wield-it-bba9ed602c32"
   ]
  }
 ],
 "metadata": {
  "language_info": {
   "name": "python"
  },
  "orig_nbformat": 4
 },
 "nbformat": 4,
 "nbformat_minor": 2
}
