{
 "cells": [
  {
   "cell_type": "markdown",
   "metadata": {},
   "source": [
    "# Week 2\n",
    "## Understanding Slowness\n",
    "\n",
    "### Monitoring Tools\n",
    "Check out the following links for more information:\n",
    "\n",
    "- https://docs.microsoft.com/en-us/sysinternals/downloads/procmon \n",
    "\n",
    "- http://www.brendangregg.com/linuxperf.html\n",
    "\n",
    "- http://brendangregg.com/usemethod.html\n",
    "\n",
    "- [Activity Monitor in Mac:](https://support.apple.com/guide/activity-monitor/welcome/mac)\n",
    "\n",
    "- [Performance Monitor on Windows](https://www.windowscentral.com/how-use-performance-monitor-windows-10)\n",
    "\n",
    "- https://www.digitalcitizen.life/how-use-resource-monitor-windows-7\n",
    "\n",
    "- https://docs.microsoft.com/en-us/sysinternals/downloads/process-explorer\n",
    "\n",
    "- https://en.wikipedia.org/wiki/Cache_(computing)\n",
    "\n",
    "- https://www.reddit.com/r/linux/comments/d7hx2c/why_nice_levels_are_a_placebo_and_have_been_for_a/"
   ]
  }
 ],
 "metadata": {
  "language_info": {
   "name": "python"
  },
  "orig_nbformat": 4
 },
 "nbformat": 4,
 "nbformat_minor": 2
}
