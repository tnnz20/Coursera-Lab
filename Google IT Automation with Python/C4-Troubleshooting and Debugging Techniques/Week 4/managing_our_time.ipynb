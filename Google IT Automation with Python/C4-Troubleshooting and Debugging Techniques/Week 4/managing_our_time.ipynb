{
 "cells": [
  {
   "cell_type": "markdown",
   "metadata": {},
   "source": [
    "# Week 4\n",
    "## Managing Our time\n",
    "\n",
    "### More About Making the Best Use of Our Time\n",
    "Check out the following link for more information:\n",
    "\n",
    "- https://blog.rescuetime.com/how-to-prioritize/"
   ]
  }
 ],
 "metadata": {
  "language_info": {
   "name": "python"
  },
  "orig_nbformat": 4
 },
 "nbformat": 4,
 "nbformat_minor": 2
}
