{
 "cells": [
  {
   "cell_type": "markdown",
   "metadata": {},
   "source": [
    "# Week 4\n",
    "## Managing Computer Resources\n",
    "\n",
    "\n",
    "Check out the following links for more information:\n",
    "\n",
    "- https://realpython.com/python-concurrency/\n",
    "\n",
    "- https://hackernoon.com/threaded-asynchronous-magic-and-how-to-wield-it-bba9ed602c32\n",
    "\n",
    "- https://www.pluralsight.com/blog/tutorials/how-to-profile-memory-usage-in-python\n",
    "\n",
    "- https://www.linuxjournal.com/content/troubleshooting-network-problems"
   ]
  }
 ],
 "metadata": {
  "language_info": {
   "name": "python"
  },
  "orig_nbformat": 4
 },
 "nbformat": 4,
 "nbformat_minor": 2
}
