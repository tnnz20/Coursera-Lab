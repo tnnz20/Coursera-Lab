{
 "cells": [
  {
   "cell_type": "markdown",
   "metadata": {},
   "source": [
    "# Week 1 "
   ]
  },
  {
   "cell_type": "markdown",
   "metadata": {},
   "source": [
    "> Pop Quiz\n",
    "\n",
    "Now that you know what’s going on with this piece of code, try making Python output a different string. Write a Python script that outputs \"I'm programming in Python!\" to the screen. Remember that you need to use the print() function and use quotation marks to delimiter the string."
   ]
  },
  {
   "cell_type": "code",
   "execution_count": 1,
   "metadata": {},
   "outputs": [
    {
     "name": "stdout",
     "output_type": "stream",
     "text": [
      "I'm programming in Python!\n"
     ]
    }
   ],
   "source": [
    "print('I\\'m programming in Python!')"
   ]
  },
  {
   "cell_type": "markdown",
   "metadata": {},
   "source": [
    "> Pop Quiz\n",
    "\n",
    "Give it a try yourself! In the following script, change the values of color and thing to have the computer output a different statement than the initial one."
   ]
  },
  {
   "cell_type": "code",
   "execution_count": 2,
   "metadata": {},
   "outputs": [
    {
     "name": "stdout",
     "output_type": "stream",
     "text": [
      "Black is the color of Dark\n"
     ]
    }
   ],
   "source": [
    "color = \"Black\"\n",
    "thing = \"Dark\"\n",
    "print(color + \" is the color of \" + thing)"
   ]
  },
  {
   "cell_type": "markdown",
   "metadata": {},
   "source": [
    "> Pop Quiz\n",
    "\n",
    "Now it’s your turn to try! Give this a go yourself.\n",
    "\n",
    "Use Python to calculate $(((1+2)*3)/4)^5$\n",
    "\n",
    "Tip: remember that you can use a**b to calculate a to the power of b. "
   ]
  },
  {
   "cell_type": "code",
   "execution_count": 3,
   "metadata": {},
   "outputs": [
    {
     "name": "stdout",
     "output_type": "stream",
     "text": [
      "57.6650390625\n"
     ]
    }
   ],
   "source": [
    "print((((1+2)*3)/4)**5)"
   ]
  },
  {
   "cell_type": "markdown",
   "metadata": {},
   "source": [
    "## First Programming Concepts Cheat Sheet\n",
    "\n",
    "Functions and Keywords\n",
    "Functions and keywords are the building blocks of a language’s syntax.\n",
    "\n",
    "Functions are pieces of code that perform a unit of work. In the examples we've seen so far, we've only encountered the print() function, which prints a message to the screen. We'll learn about a lot of other functions in later lessons but, if you're too curious to wait until then, you can discover all the functions available [here](https://docs.python.org/3/library/functions.html).\n",
    "\n",
    "Keywords are reserved words that are used to construct instructions. We briefly encountered for and in in our first Python example, and we'll use a bunch of other keywords as we go through the course. For reference, these are all the reserved keywords:\n",
    "\n",
    "| Falseas | class    | finally | is       | return |\n",
    "|---------|----------|---------|----------|--------|\n",
    "| None    | continue | for     | lambda   | try    |\n",
    "| True    | def      | from    | nonlocal | while  |\n",
    "| and     | del      | global  | not      | with   |\n",
    "| as      | elif     | if      | or       | yield  |\n",
    "| assert  | else     | import  | pass     |        |\n",
    "| break   | except   | in      | raise    |        |\n",
    "\n",
    "\n",
    " You don't need to learn this list; we'll dive into each keyword as we encounter them. In the meantime, you can see examples of keyword usage [here](https://www.programiz.com/python-programming/keyword-list).\n",
    "\n",
    "Arithmetic operators\n",
    "Python can operate with numbers using the usual mathematical operators, and some special operators, too. These are all of them (we'll explore the last two in later videos).\n",
    "\n",
    "- a + b = Adds a and b\n",
    "\n",
    "- a - b = Subtracts b from a\n",
    "\n",
    "- a * b = Multiplies a and b\n",
    "\n",
    "- a / b = Divides a by b\n",
    "\n",
    "- a ** b = Elevates a to the power of b. For non integer values of b, this becomes a root (i.e. a**(1/2) is the square root of a)\n",
    "\n",
    "- a // b = The integer part of the integer division of a by b\n",
    "\n",
    "- a % b = The remainder part of the integer division of a by b"
   ]
  },
  {
   "cell_type": "markdown",
   "metadata": {},
   "source": [
    "## Practice Quiz - Hello World"
   ]
  },
  {
   "cell_type": "markdown",
   "metadata": {},
   "source": [
    "Output a message that says \"Programming in Python is fun!\" to the screen."
   ]
  },
  {
   "cell_type": "code",
   "execution_count": 4,
   "metadata": {},
   "outputs": [
    {
     "name": "stdout",
     "output_type": "stream",
     "text": [
      "Programming in Python is fun!\n"
     ]
    }
   ],
   "source": [
    "print('Programming in Python is fun!')"
   ]
  },
  {
   "cell_type": "markdown",
   "metadata": {},
   "source": [
    "Replace the ___ placeholder and calculate the Golden ratio: $\\frac{1 + \\sqrt{5}}{2}$\n",
    "\n",
    "Tip: to calculate the square root of a number xx, you can use x**(1/2)."
   ]
  },
  {
   "cell_type": "code",
   "execution_count": 5,
   "metadata": {},
   "outputs": [
    {
     "name": "stdout",
     "output_type": "stream",
     "text": [
      "1.618033988749895\n"
     ]
    }
   ],
   "source": [
    "ratio = (1+5**(1/2))/2\n",
    "print(ratio)"
   ]
  }
 ],
 "metadata": {
  "interpreter": {
   "hash": "23300995598eec4bcf6bd89cf02d1c3675e8b2616661418dbbf5580aa901878d"
  },
  "kernelspec": {
   "display_name": "Python 3.9.5 64-bit",
   "language": "python",
   "name": "python3"
  },
  "language_info": {
   "codemirror_mode": {
    "name": "ipython",
    "version": 3
   },
   "file_extension": ".py",
   "mimetype": "text/x-python",
   "name": "python",
   "nbconvert_exporter": "python",
   "pygments_lexer": "ipython3",
   "version": "3.9.5"
  },
  "orig_nbformat": 4
 },
 "nbformat": 4,
 "nbformat_minor": 2
}
