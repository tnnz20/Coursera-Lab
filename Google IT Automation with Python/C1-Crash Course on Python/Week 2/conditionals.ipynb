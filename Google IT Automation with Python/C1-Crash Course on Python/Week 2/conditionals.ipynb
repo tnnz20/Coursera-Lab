{
 "cells": [
  {
   "cell_type": "markdown",
   "metadata": {},
   "source": [
    "# Week 2\n",
    "\n",
    "## Comparison Operators\n",
    "In Python, we can use comparison operators to compare values. When a comparison is made, Python returns a boolean result, or simply a True or False. \n",
    "\n",
    "- To check if two values are the same, we can use the equality operator: `==` \n",
    "\n",
    "- To check if two values are not the same, we can use the not equals operator: `!=` \n",
    "\n",
    "We can also check if values are greater than or lesser than each other using `>` and `<`. If you try to compare data types that aren’t compatible, like checking if a string is greater than an integer, Python will throw a TypeError. \n",
    "\n",
    "We can make very complex comparisons by joining statements together using logical operators with our comparison operators. These logical operators are and, or, and not. When using the and operator, both sides of the statement being evaluated must be true for the whole statement to be true. When using the or operator, if either side of the comparison is true, then the whole statement is true. Lastly, the not operator simply inverts the value of the statement immediately following it. So if a statement evaluates to True, and we put the not operator in front of it, it would become False.\n"
   ]
  },
  {
   "cell_type": "markdown",
   "metadata": {},
   "source": [
    "> Pop Quiz\n",
    "\n",
    "The is_positive function should return True if the number received is positive, otherwise it returns None. Can you fill in the gaps to make that happen?"
   ]
  },
  {
   "cell_type": "code",
   "execution_count": 5,
   "metadata": {},
   "outputs": [
    {
     "name": "stdout",
     "output_type": "stream",
     "text": [
      "None\n",
      "None\n",
      "True\n"
     ]
    }
   ],
   "source": [
    "def is_positive(number):\n",
    "  if number >= 1:\n",
    "    return True\n",
    "\n",
    "print(is_positive(-5))\n",
    "print(is_positive(0))\n",
    "print(is_positive(13))"
   ]
  },
  {
   "cell_type": "markdown",
   "metadata": {},
   "source": [
    "## if Statements Recap\n",
    "We can use the concept of branching to have our code alter its execution sequence depending on the values of variables. We can use an if statement to evaluate a comparison. We start with the if keyword, followed by our comparison. We end the line with a colon. The body of the if statement is then indented to the right. If the comparison is True, the code inside the if body is executed. If the comparison evaluates to False, then the code block is skipped and will not be run."
   ]
  },
  {
   "cell_type": "markdown",
   "metadata": {},
   "source": [
    "> Pop Quiz\n",
    "\n",
    "The is_positive function should return True if the number received is positive and False if it isn't. Can you fill in the gaps to make that happen?"
   ]
  },
  {
   "cell_type": "code",
   "execution_count": 6,
   "metadata": {},
   "outputs": [
    {
     "name": "stdout",
     "output_type": "stream",
     "text": [
      "False\n",
      "False\n",
      "True\n"
     ]
    }
   ],
   "source": [
    "def is_positive(number):\n",
    "  if number > 0:\n",
    "    return True\n",
    "  else:\n",
    "    return False\n",
    "\n",
    "print(is_positive(-5))\n",
    "print(is_positive(0))\n",
    "print(is_positive(13))"
   ]
  },
  {
   "cell_type": "markdown",
   "metadata": {},
   "source": [
    "## else Statements and the Modulo Operator\n",
    "We just covered the if statement, which executes code if an evaluation is true and skips the code if it’s false. But what if we wanted the code to do something different if the evaluation is false? We can do this using the else statement. The else statement follows an if block, and is composed of the keyword else followed by a colon. The body of the else statement is indented to the right, and will be executed if the above if statement doesn’t execute.\n",
    "\n",
    "We also touched on the modulo operator, which is represented by the percent sign: %. This operator performs integer division, but only returns the remainder of this division operation. If we’re dividing 5 by 2, the quotient is 2, and the remainder is 1. Two 2s can go into 5, leaving 1 left over. So 5%2 would return 1. Dividing 10 by 5 would give us a quotient of 2 with no remainder, since 5 can go into 10 twice with nothing left over. In this case, 10%2 would return 0, as there is no remainder."
   ]
  },
  {
   "cell_type": "markdown",
   "metadata": {},
   "source": [
    "> Pop Quiz\n",
    "\n",
    "The number_group function should return \"Positive\" if the number received is positive, \"Negative\" if it's negative, and \"Zero\" if it's 0. Can you fill in the gaps to make that happen?"
   ]
  },
  {
   "cell_type": "code",
   "execution_count": 7,
   "metadata": {},
   "outputs": [
    {
     "name": "stdout",
     "output_type": "stream",
     "text": [
      "Positive\n",
      "Zero\n",
      "Negative\n"
     ]
    }
   ],
   "source": [
    "def number_group(number):\n",
    "  if number > 0:\n",
    "    return \"Positive\"\n",
    "  elif number < 0:\n",
    "    return 'Negative'\n",
    "  else:\n",
    "    return 'Zero'\n",
    "\n",
    "print(number_group(10)) #Should be Positive\n",
    "print(number_group(0)) #Should be Zero\n",
    "print(number_group(-5)) #Should be Negative"
   ]
  },
  {
   "cell_type": "markdown",
   "metadata": {},
   "source": [
    "## More Complex Branching with elif Statements\n",
    "Building off of the if and else blocks, which allow us to branch our code depending on the evaluation of one statement, the elif statement allows us even more comparisons to perform more complex branching. Very similar to the if statements, an elif statement starts with the elif keyword, followed by a comparison to be evaluated. This is followed by a colon, and then the code block on the next line, indented to the right. An elif statement must follow an if statement, and will only be evaluated if the if statement was evaluated as false. You can include multiple elif statements to build complex branching in your code to do all kinds of powerful things!"
   ]
  },
  {
   "cell_type": "markdown",
   "metadata": {},
   "source": [
    "## Conditionals Cheat Sheet\n",
    "In earlier videos, we took a look at some of the built-in Python operators that allow us to compare values, and some logical operators we can use to combine values. We also learned how to use operators in if-else-elif blocks. \n",
    "\n",
    "It’s a lot to learn but, with practice, it gets easier to remember it all. In the meantime, this handy cheat sheet gives you all the information you need at a glance. \n",
    "\n",
    "**Comparison operators**\n",
    "- a == b: a is equal to b\n",
    "\n",
    "- a != b: a is different than b\n",
    "\n",
    "- sa < b: a is smaller than b\n",
    "\n",
    "- a <= b: a is smaller or equal to b\n",
    "\n",
    "- a > b: a is bigger than b\n",
    "\n",
    "- a >= b: a is bigger or equal to b\n",
    "\n",
    "**Logical operators**\n",
    "- a and b: True if both a and b are True. False otherwise.\n",
    "\n",
    "- a or b: True if either a or b or both are True. False if both are False.\n",
    "\n",
    "- not a: True if a is False, False if a is True.\n",
    "\n",
    "**Branching blocks**\n",
    "\n",
    "In Python, we branch our code using if, else and elif. This is the branching syntax:\n",
    "\n",
    "```\n",
    "if condition1:\n",
    "\tif-block\n",
    "elif condition2:\n",
    "\telif-block\n",
    "else:\n",
    "\telse-block\n",
    "```\n",
    "\n",
    "Remember: The if-block will be executed if condition1 is True. The elif-block will be executed if condition1 is False and condition2 is True. The else block will be executed when all the specified conditions are false."
   ]
  },
  {
   "cell_type": "markdown",
   "metadata": {},
   "source": [
    "## Practice Quiz - Conditionals"
   ]
  },
  {
   "cell_type": "markdown",
   "metadata": {},
   "source": [
    "Complete the script by filling in the missing parts. The function receives a name, then returns a greeting based on whether or not that name is \"Taylor\"."
   ]
  },
  {
   "cell_type": "code",
   "execution_count": 8,
   "metadata": {},
   "outputs": [
    {
     "name": "stdout",
     "output_type": "stream",
     "text": [
      "Welcome back Taylor!\n",
      "Hello there, John\n"
     ]
    }
   ],
   "source": [
    "def greeting(name):\n",
    "  if name == \"Taylor\":\n",
    "    return \"Welcome back Taylor!\"\n",
    "  else:\n",
    "    return \"Hello there, \" + name\n",
    "\n",
    "print(greeting(\"Taylor\"))\n",
    "print(greeting(\"John\"))"
   ]
  },
  {
   "cell_type": "markdown",
   "metadata": {},
   "source": [
    "If a filesystem has a block size of 4096 bytes, this means that a file comprised of only one byte will still use 4096 bytes of storage. A file made up of 4097 bytes will use 4096*2=8192 bytes of storage. Knowing this, can you fill in the gaps in the calculate_storage function below, which calculates the total number of bytes needed to store a file of a given size?"
   ]
  },
  {
   "cell_type": "code",
   "execution_count": 9,
   "metadata": {},
   "outputs": [
    {
     "name": "stdout",
     "output_type": "stream",
     "text": [
      "4096\n",
      "4096\n",
      "8192\n",
      "8192\n"
     ]
    }
   ],
   "source": [
    "def calculate_storage(filesize):\n",
    "    block_size = 4096\n",
    "    # Use floor division to calculate how many blocks are fully occupied\n",
    "    full_blocks = filesize // block_size\n",
    "    # Use the modulo operator to check whether there's any remainder\n",
    "    partial_block_remainder = filesize % block_size\n",
    "    # Depending on whether there's a remainder or not, return\n",
    "    # the total number of bytes required to allocate enough blocks\n",
    "    # to store your data.\n",
    "    if partial_block_remainder > 0:\n",
    "        return (full_blocks + 1) * block_size\n",
    "    return block_size * full_blocks\n",
    "\n",
    "print(calculate_storage(1))    # Should be 4096\n",
    "print(calculate_storage(4096)) # Should be 4096\n",
    "print(calculate_storage(4097)) # Should be 8192\n",
    "print(calculate_storage(6000)) # Should be 8192"
   ]
  }
 ],
 "metadata": {
  "interpreter": {
   "hash": "23300995598eec4bcf6bd89cf02d1c3675e8b2616661418dbbf5580aa901878d"
  },
  "kernelspec": {
   "display_name": "Python 3.9.5 64-bit",
   "language": "python",
   "name": "python3"
  },
  "language_info": {
   "codemirror_mode": {
    "name": "ipython",
    "version": 3
   },
   "file_extension": ".py",
   "mimetype": "text/x-python",
   "name": "python",
   "nbconvert_exporter": "python",
   "pygments_lexer": "ipython3",
   "version": "3.9.5"
  },
  "orig_nbformat": 4
 },
 "nbformat": 4,
 "nbformat_minor": 2
}
