{
 "cells": [
  {
   "cell_type": "markdown",
   "metadata": {},
   "source": [
    "# Week 3\n",
    "## For Loops Recap\n",
    "For loops allow you to iterate over a sequence of values. Let's take the example from the beginning of the video:\n",
    "```\n",
    "for x in range(5):\n",
    "\n",
    "  print(x)\n",
    "```\n",
    "Similar to if statements and while loops, for loops begin with the keyword for with a colon at the end of the line. Just like in function definitions, while loops and if statements, the body of the for loop begins on the next line and is indented to the right. But what about the stuff in between the for keyword and the colon? In our example, we’re using the range() function to create a sequence of numbers that our for loop can iterate over. In this case, our variable x points to the current element in the sequence as the for loop iterates over the sequence of numbers. Keep in mind that in Python and many programming languages, a range of numbers will start at 0, and the list of numbers generated will be one less than the provided value. So range(5) will generate a sequence of numbers from 0 to 4, for a total of 5 numbers.\n",
    "\n",
    "Bringing this all together, the range(5) function will create a sequence of numbers from 0 to 4. Our for loop will iterate over this sequence of numbers, one at a time, making the numbers accessible via the variable x and the code within our loop body will execute for each iteration through the sequence. So for the first loop, x will contain 0, the next loop, 1, and so on until it reaches 4. Once the end of the sequence comes up, the loop will exit and the code will continue.\n",
    "\n",
    "The power of for loops comes from the fact that it can iterate over a sequence of any kind of data, not just a range of numbers. You can use for loops to iterate over a list of strings, such as usernames or lines in a file.\n",
    "\n",
    "Not sure whether to use a for loop or a while loop? Remember that a while loop is great for performing an action over and over until a condition has changed. A for loop works well when you want to iterate over a sequence of elements.  "
   ]
  },
  {
   "cell_type": "markdown",
   "metadata": {},
   "source": [
    "> Pop Quiz\n",
    "\n",
    "Want to try this out? Let's give it a go!\n",
    "\n",
    "Fill in the gaps of the sum_squares function, so that it returns the sum of all the squares of numbers between 0 and x (not included). Remember that you can use the range(x) function to generate a sequence of numbers from 0 to x (not included)."
   ]
  },
  {
   "cell_type": "code",
   "execution_count": null,
   "metadata": {},
   "outputs": [],
   "source": [
    "def square(n):\n",
    "    return n*n\n",
    "\n",
    "def sum_squares(x):\n",
    "    sum = 0\n",
    "    for n in range(x):\n",
    "        sum += square(n)\n",
    "    return sum\n",
    "\n",
    "print(sum_squares(10)) # Should be 285"
   ]
  },
  {
   "cell_type": "markdown",
   "metadata": {},
   "source": [
    "> Pop Quiz\n",
    "\n",
    "In math, the factorial of a number is defined as the product of an integer and all the integers below it. For example, the factorial of four (4!) is equal to 1\\*2\\*3*4=24. Fill in the blanks to make the factorial function return the right number."
   ]
  },
  {
   "cell_type": "code",
   "execution_count": 1,
   "metadata": {},
   "outputs": [
    {
     "name": "stdout",
     "output_type": "stream",
     "text": [
      "24\n",
      "120\n"
     ]
    }
   ],
   "source": [
    "def factorial(n):\n",
    "    result = 1\n",
    "    for i in range(1,n+1):\n",
    "        result *= i\n",
    "    return result\n",
    "\n",
    "print(factorial(4)) # should return 24\n",
    "print(factorial(5)) # should return 120"
   ]
  },
  {
   "cell_type": "markdown",
   "metadata": {},
   "source": [
    "## A Closer Look at the Range() Function\n",
    "Previously we had used the range() function by passing it a single parameter, and it generated a sequence of numbers from 0 to one less than we specified. But the range() function can do much more than that. We can pass in two parameters: the first specifying our starting point, the second specifying the end point. Don't forget that the sequence generated won't contain the last element; it will stop one before the parameter specified.\n",
    "\n",
    "The range() function can take a third parameter, too. This third parameter lets you  alter the size of each step. So instead of creating a sequence of numbers incremented by 1, you can generate a sequence of numbers that are incremented by 5.\n",
    "\n",
    "To quickly recap the range() function when passing one, two, or three parameters:\n",
    "\n",
    "- One parameter will create a sequence, one-by-one, from zero to one less than the parameter.\n",
    "\n",
    "- Two parameters will create a sequence, one-by-one, from the first parameter to one less than the second parameter.\n",
    "\n",
    "- Three parameters will create a sequence starting with the first parameter and stopping before the second parameter, but this time increasing each step by the third parameter."
   ]
  },
  {
   "cell_type": "markdown",
   "metadata": {},
   "source": [
    "> Pop Quiz\n",
    "\n",
    "The validate_users function is used by the system to check if a list of users is valid or invalid. A valid user is one that is at least 3 characters long. For example, ['taylor', 'luisa', 'jamaal'] are all valid users. When calling it like in this example, something is not right. Can you figure out what to fix?"
   ]
  },
  {
   "cell_type": "code",
   "execution_count": 2,
   "metadata": {},
   "outputs": [
    {
     "name": "stdout",
     "output_type": "stream",
     "text": [
      "taylor is valid\n",
      "luisa is valid\n",
      "jamaal is valid\n",
      "ka is invalid\n"
     ]
    }
   ],
   "source": [
    "def is_valid(user):\n",
    "  if len(user) > 3:\n",
    "    return True\n",
    "  return False\n",
    "\n",
    "def validate_users(users):\n",
    "  for user in users:\n",
    "    if is_valid(user):\n",
    "      print(user + \" is valid\")\n",
    "    else:\n",
    "      print(user + \" is invalid\")\n",
    "\n",
    "validate_users(['taylor', 'luisa', 'jamaal', 'ka'])"
   ]
  },
  {
   "cell_type": "markdown",
   "metadata": {},
   "source": [
    "## Loops Cheat Sheet\n",
    "\n",
    "Check out below for a run down of the syntax for while loops and for loops.\n",
    "\n",
    "**While Loops**\n",
    "A while loop executes the body of the loop while the condition remains True.\n",
    "\n",
    "Syntax:\n",
    "```\n",
    "while condition:\n",
    "    body\n",
    "```\n",
    "\n",
    "Things to watch out for!\n",
    "\n",
    "- Failure to initialize variables. Make sure all the variables used in the loop’s condition  are initialized before the loop.\n",
    "\n",
    "- Unintended infinite loops. Make sure that the body of the loop modifies the variables used in the condition, so that the loop will eventually end for all possible values of the variables.\n",
    "\n",
    " Typical use:\n",
    "\n",
    "While loops are mostly used when there’s an unknown number of operations to be performed, and a condition needs to be checked at each iteration.\n",
    "\n",
    "**For Loops**\n",
    "A for loop iterates over a sequence of elements, executing the body of the loop for each element in the sequence.\n",
    "\n",
    "Syntax:\n",
    "\n",
    "```\n",
    "for variable in sequence:\n",
    "    body\n",
    "```\n",
    "\n",
    "The range() function:\n",
    "\n",
    "range() generates a sequence of integer numbers. It can take one, two, or three parameters:\n",
    "\n",
    "- range(n): 0, 1, 2, ... n-1\n",
    "\n",
    "- range(x,y): x, x+1, x+2, ... y-1\n",
    "\n",
    "- range(p,q,r): p, p+r, p+2r, p+3r, ... q-1 (if it's a valid increment)\n",
    "\n",
    "**Common pitfalls:**\n",
    "\n",
    "- Forgetting that the upper limit of a range() isn’t included.\n",
    "\n",
    "- Iterating over non-sequences. Integer numbers aren’t iterable. Strings are iterable letter by letter, but that might not be what you want.\n",
    "\n",
    "Typical use:\n",
    "\n",
    "For loops are mostly used when there's a pre-defined sequence or range of numbers to iterate.\n",
    "\n",
    "**Break & Continue**\n",
    "You can interrupt both while and for loops using the break keyword. We normally do this to interrupt a cycle due to a separate condition.\n",
    "\n",
    "You can use the continue keyword to skip the current iteration and continue with the next one. This is typically used to jump ahead when some of the elements of the sequence aren’t relevant.\n",
    "\n",
    "If you want to learn more, check out this [wiki page on for loops](https://wiki.python.org/moin/ForLoop)."
   ]
  },
  {
   "cell_type": "markdown",
   "metadata": {},
   "source": [
    "## Practice Quiz - For Loops"
   ]
  },
  {
   "cell_type": "markdown",
   "metadata": {},
   "source": [
    "Fill in the blanks to make the factorial function return the factorial of n. Then, print the first 10 factorials (from 0 to 9) with the corresponding number. Remember that the factorial of a number is defined as the product of an integer and all integers before it. For example, the factorial of five (5!) is equal to 1\\*2\\*3\\*4\\*5=120. Also recall that the factorial of zero (0!) is equal to 1."
   ]
  },
  {
   "cell_type": "code",
   "execution_count": 3,
   "metadata": {},
   "outputs": [
    {
     "name": "stdout",
     "output_type": "stream",
     "text": [
      "0 1\n",
      "1 1\n",
      "2 2\n",
      "3 6\n",
      "4 24\n",
      "5 120\n",
      "6 720\n",
      "7 5040\n",
      "8 40320\n",
      "9 362880\n"
     ]
    }
   ],
   "source": [
    "def factorial(n):\n",
    "    result = 1\n",
    "    for x in range(1,n):\n",
    "        result *=x\n",
    "    return result\n",
    "\n",
    "for n in range(0,10):\n",
    "    print(n, factorial(n+1))"
   ]
  },
  {
   "cell_type": "markdown",
   "metadata": {},
   "source": [
    "Write a script that prints the first 10 cube numbers (x**3), starting with x=1 and ending with x=10."
   ]
  },
  {
   "cell_type": "code",
   "execution_count": 4,
   "metadata": {},
   "outputs": [
    {
     "name": "stdout",
     "output_type": "stream",
     "text": [
      "1\n",
      "8\n",
      "27\n",
      "64\n",
      "125\n",
      "216\n",
      "343\n",
      "512\n",
      "729\n",
      "1000\n"
     ]
    }
   ],
   "source": [
    "for x in range(1,11):\n",
    "  print(x**3)"
   ]
  },
  {
   "cell_type": "markdown",
   "metadata": {},
   "source": [
    "Write a script that prints the multiples of 7 between 0 and 100. Print one multiple per line and avoid printing any numbers that aren't multiples of 7. Remember that 0 is also a multiple of 7."
   ]
  },
  {
   "cell_type": "code",
   "execution_count": 5,
   "metadata": {},
   "outputs": [
    {
     "name": "stdout",
     "output_type": "stream",
     "text": [
      "0\n",
      "7\n",
      "14\n",
      "21\n",
      "28\n",
      "35\n",
      "42\n",
      "49\n",
      "56\n",
      "63\n",
      "70\n",
      "77\n",
      "84\n",
      "91\n",
      "98\n"
     ]
    }
   ],
   "source": [
    "for i in range(0,100,7):\n",
    "    print(i)"
   ]
  },
  {
   "cell_type": "markdown",
   "metadata": {},
   "source": [
    "The retry function tries to execute an operation that might fail, it retries the operation for a number of attempts.  Currently the code will keep executing the function even if it succeeds. Fill in the blank so the code stops trying after the operation succeeded."
   ]
  },
  {
   "cell_type": "code",
   "execution_count": null,
   "metadata": {},
   "outputs": [],
   "source": [
    "def retry(operation, attempts):\n",
    "  for n in range(attempts):\n",
    "    if operation():\n",
    "      print(\"Attempt \" + str(n) + \" succeeded\")\n",
    "      break\n",
    "    else:\n",
    "      print(\"Attempt \" + str(n) + \" failed\")\n",
    "\n",
    "retry(create_user, 3)\n",
    "retry(stop_service, 5)"
   ]
  }
 ],
 "metadata": {
  "interpreter": {
   "hash": "1d5c1156327dacead463cc502c55ebae8ce9c8c01979cf154173ff808e75bf55"
  },
  "kernelspec": {
   "display_name": "Python 3.9.5 64-bit",
   "language": "python",
   "name": "python3"
  },
  "language_info": {
   "codemirror_mode": {
    "name": "ipython",
    "version": 3
   },
   "file_extension": ".py",
   "mimetype": "text/x-python",
   "name": "python",
   "nbconvert_exporter": "python",
   "pygments_lexer": "ipython3",
   "version": "3.9.5"
  },
  "orig_nbformat": 4
 },
 "nbformat": 4,
 "nbformat_minor": 2
}
