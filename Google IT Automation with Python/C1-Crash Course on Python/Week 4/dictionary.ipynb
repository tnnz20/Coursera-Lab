{
 "cells": [
  {
   "cell_type": "markdown",
   "metadata": {},
   "source": [
    "# Week 4\n",
    "## Dictionary"
   ]
  },
  {
   "cell_type": "markdown",
   "metadata": {},
   "source": [
    "Dictionaries are another data structure in Python. They’re similar to a list in that they can be used to organize data into collections. However, data in a dictionary isn't accessed based on its position. Data in a dictionary is organized into pairs of keys and values. You use the key to access the corresponding value. Where a list index is always a number, a dictionary key can be a different data type, like a string, integer, float, or even tuples.\n",
    "\n",
    "When creating a dictionary, you use curly brackets: {}. When storing values in a dictionary, the key is specified first, followed by the corresponding value, separated by a colon. For example, animals = { \"bears\":10, \"lions\":1, \"tigers\":2 } creates a dictionary with three key value pairs, stored in the variable animals. The key \"bears\" points to the integer value 10, while the key \"lions\" points to the integer value 1, and \"tigers\" points to the integer 2. You can access the values by referencing the key, like this: animals[\"bears\"]. This would return the integer 10, since that’s the corresponding value for this key.\n",
    "\n",
    "You can also check if a key is contained in a dictionary using the in keyword. Just like other uses of this keyword, it will return True if the key is found in the dictionary; otherwise it will return False.\n",
    "\n",
    "Dictionaries are mutable, meaning they can be modified by adding, removing, and replacing elements in a dictionary, similar to lists. You can add a new key value pair to a dictionary by assigning a value to the key, like this: animals[\"zebras\"] = 2. This creates the new key in the animal dictionary called zebras, and stores the value 2. You can modify the value of an existing key by doing the same thing. So animals[\"bears\"] = 11 would change the value stored in the bears key from 10 to 11. Lastly, you can remove elements from a dictionary by using the del keyword. By doing del animals[\"lions\"] you would remove the key value pair from the animals dictionary."
   ]
  },
  {
   "cell_type": "markdown",
   "metadata": {},
   "source": [
    "> Pop Quiz\n",
    "\n",
    "The \"toc\" dictionary represents the table of contents for a book. Fill in the blanks to do the following: \t\n",
    "1) Add an entry for Epilogue on page 39. \t\n",
    "2) Change the page number for Chapter 3 to 24. \t\n",
    "3) Display the new dictionary contents. \t\n",
    "4) Display True if there is Chapter 5, False if there isn't."
   ]
  },
  {
   "cell_type": "code",
   "execution_count": 1,
   "metadata": {},
   "outputs": [
    {
     "name": "stdout",
     "output_type": "stream",
     "text": [
      "{'Introduction': 1, 'Chapter 1': 4, 'Chapter 2': 11, 'Chapter 3': 24, 'Chapter 4': 30, 'Epilogue': 39}\n",
      "False\n"
     ]
    }
   ],
   "source": [
    "toc = {\"Introduction\":1, \"Chapter 1\":4, \"Chapter 2\":11, \"Chapter 3\":25, \"Chapter 4\":30}\n",
    "\n",
    "# Epilogue starts on page 39\n",
    "toc['Epilogue'] = 39\n",
    "\n",
    "# Chapter 3 now starts on page 24\n",
    "toc['Chapter 3'] = 24\n",
    "\n",
    "# What are the current contents of the dictionary?\n",
    "print(toc)\n",
    "\n",
    "# Is there a Chapter 5?\n",
    "print('Chapter 5' in toc)"
   ]
  },
  {
   "cell_type": "markdown",
   "metadata": {},
   "source": [
    "> Pop Quiz\n",
    "\n",
    "Now, it's your turn! Have a go at iterating over a dictionary!\n",
    " \n",
    "\n",
    " Complete the code to iterate through the keys and values of the cool_beasts dictionary. Remember that the items method returns a tuple of key, value for each element in the dictionary."
   ]
  },
  {
   "cell_type": "code",
   "execution_count": 2,
   "metadata": {},
   "outputs": [
    {
     "name": "stdout",
     "output_type": "stream",
     "text": [
      "octopuses have tentacles\n",
      "dolphins have fins\n",
      "rhinos have horns\n"
     ]
    }
   ],
   "source": [
    "cool_beasts = {\"octopuses\":\"tentacles\", \"dolphins\":\"fins\", \"rhinos\":\"horns\"}\n",
    "for name,obj in cool_beasts.items():\n",
    "    print(\"{} have {}\".format(name, obj))"
   ]
  },
  {
   "cell_type": "markdown",
   "metadata": {},
   "source": [
    "### Count letter with dictionary"
   ]
  },
  {
   "cell_type": "code",
   "execution_count": 3,
   "metadata": {},
   "outputs": [
    {
     "data": {
      "text/plain": [
       "{'t': 1,\n",
       " 'h': 1,\n",
       " 'e': 2,\n",
       " ' ': 2,\n",
       " 'd': 1,\n",
       " 'r': 2,\n",
       " 'a': 1,\n",
       " 'g': 1,\n",
       " 'o': 1,\n",
       " 'n': 1,\n",
       " 'f': 1,\n",
       " 'i': 1}"
      ]
     },
     "execution_count": 3,
     "metadata": {},
     "output_type": "execute_result"
    }
   ],
   "source": [
    "def count_letter(text):\n",
    "    result = {}\n",
    "    for letter in text:\n",
    "        if letter not in result:\n",
    "            result[letter] = 0\n",
    "        result[letter] += 1\n",
    "    return result\n",
    "\n",
    "\n",
    "count_letter('the dragon fire')"
   ]
  },
  {
   "cell_type": "markdown",
   "metadata": {},
   "source": [
    "## Iterating Over Dictionaries\n",
    "You can iterate over dictionaries using a for loop, just like with strings, lists, and tuples. This will iterate over the sequence of keys in the dictionary. If you want to access the corresponding values associated with the keys, you could use the keys as indexes. Or you can use the items method on the dictionary, like dictionary.items(). This method returns a tuple for each element in the dictionary, where the first element in the tuple is the key and the second is the value.\n",
    "\n",
    "If you only wanted to access the keys in a dictionary, you could use the keys() method on the dictionary: dictionary.keys( . If you only wanted the values, you could use the values() method: dictionary.values()."
   ]
  },
  {
   "cell_type": "markdown",
   "metadata": {},
   "source": [
    "> Pop Quiz\n",
    "\n",
    "In Python, a dictionary can only hold a single value for a given key. To workaround this, our single value can be a list containing multiple values. Here we have a dictionary called \"wardrobe\" with items of clothing and their colors. Fill in the blanks to print a line for each item of clothing with each color, for example: \"red shirt\", \"blue shirt\", and so on."
   ]
  },
  {
   "cell_type": "code",
   "execution_count": 4,
   "metadata": {},
   "outputs": [
    {
     "name": "stdout",
     "output_type": "stream",
     "text": [
      "red shirt\n",
      "blue shirt\n",
      "white shirt\n",
      "blue jeans\n",
      "black jeans\n"
     ]
    }
   ],
   "source": [
    "wardrobe = {\"shirt\":[\"red\",\"blue\",\"white\"], \"jeans\":[\"blue\",\"black\"]}\n",
    "for cloth, colors in wardrobe.items():\n",
    "\tfor color in colors:\n",
    "\t\tprint(\"{} {}\".format(color, cloth))"
   ]
  },
  {
   "cell_type": "markdown",
   "metadata": {},
   "source": [
    "## Dictionary Methods Cheat Sheet\n",
    "\n",
    "### Dictionary Methods Cheat Sheet\n",
    "**Definition**\n",
    "\n",
    "'''\n",
    "x = {key1:value1, key2:value2} \n",
    "'''\n",
    "\n",
    "**Operations**\n",
    "\n",
    "- len(dictionary) - Returns the number of items in the dictionary\n",
    "\n",
    "- for key in dictionary - Iterates over each key in the dictionary\n",
    "\n",
    "- for key, value in dictionary.items() - Iterates over each key,value pair in the dictionary\n",
    "\n",
    "- if key in dictionary - Checks whether the key is in the dictionary\n",
    "\n",
    "- dictionary[key] - Accesses the item with key key of the dictionary\n",
    "\n",
    "- dictionary[key] = value - Sets the value associated with key\n",
    "\n",
    "- del dictionary[key] - Removes the item with key key from the dictionary\n",
    "\n",
    "**Methods**\n",
    "\n",
    "- dict.get(key, default) - Returns the element corresponding to key, or default if it's not present\n",
    "\n",
    "- dict.keys() - Returns a sequence containing the keys in the dictionary\n",
    "\n",
    "- dict.values() - Returns a sequence containing the values in the dictionary\n",
    "\n",
    "- dict.update(other_dictionary) - Updates the dictionary with the items coming from the other dictionary. Existing entries will be replaced; new entries will be added.\n",
    "\n",
    "- dict.clear() - Removes all the items of the dictionary\n",
    "\n",
    "Check out the [official documentation for dictionary operations and methods](https://docs.python.org/3/library/stdtypes.html#mapping-types-dict).  "
   ]
  },
  {
   "cell_type": "markdown",
   "metadata": {},
   "source": [
    "## Practice Quiz: Dictionaries"
   ]
  },
  {
   "cell_type": "markdown",
   "metadata": {},
   "source": [
    "The email_list function receives a dictionary, which contains domain names as keys, and a list of users as values. Fill in the blanks to generate a list that contains complete email addresses (e.g. diana.prince@gmail.com)."
   ]
  },
  {
   "cell_type": "code",
   "execution_count": 5,
   "metadata": {},
   "outputs": [
    {
     "name": "stdout",
     "output_type": "stream",
     "text": [
      "['clark.kent@gmail.com', 'diana.prince@gmail.com', 'peter.parker@gmail.com', 'barbara.gordon@yahoo.com', 'jean.grey@yahoo.com', 'bruce.wayne@hotmail.com']\n"
     ]
    }
   ],
   "source": [
    "def email_list(domains):\n",
    "\temails = []\n",
    "\tfor mail, users in domains.items():\n",
    "\t\tfor user in users:\n",
    "\t\t\temails.append(user +'@'+mail)\n",
    "\treturn(emails)\n",
    "\n",
    "print(email_list({\"gmail.com\": [\"clark.kent\", \"diana.prince\", \"peter.parker\"], \"yahoo.com\": [\"barbara.gordon\", \"jean.grey\"], \"hotmail.com\": [\"bruce.wayne\"]}))"
   ]
  },
  {
   "cell_type": "markdown",
   "metadata": {},
   "source": [
    "The groups_per_user function receives a dictionary, which contains group names with the list of users. Users can belong to multiple groups. Fill in the blanks to return a dictionary with the users as keys and a list of their groups as values. "
   ]
  },
  {
   "cell_type": "code",
   "execution_count": 6,
   "metadata": {},
   "outputs": [
    {
     "name": "stdout",
     "output_type": "stream",
     "text": [
      "{'admin': ['local', 'public', 'administrator'], 'userA': ['local'], 'userB': ['public']}\n"
     ]
    }
   ],
   "source": [
    "def groups_per_user(group_dictionary):\n",
    "\tuser_groups = {}\n",
    "\t# Go through group_dictionary\n",
    "\tfor group, users in group_dictionary.items():\n",
    "\t\t# Now go through the users in the group\n",
    "\t\tfor user in users:\n",
    "\t\t\tif user not in user_groups:\n",
    "\t\t\t\tuser_groups[user] =[]\n",
    "\t\t\tuser_groups[user].append(group)\n",
    "\t\t\t# Now add the group to the the list of\n",
    "# groups for this user, creating the entry\n",
    "# in the dictionary if necessary\n",
    "\n",
    "\treturn(user_groups)\n",
    "\n",
    "print(groups_per_user({\n",
    "\t\"local\": [\"admin\", \"userA\"],\n",
    "\t\"public\":  [\"admin\", \"userB\"],\n",
    "\t\"administrator\": [\"admin\"] \n",
    "\t}))"
   ]
  },
  {
   "cell_type": "markdown",
   "metadata": {},
   "source": [
    "The dict.update method updates one dictionary with the items coming from the other dictionary, so that existing entries are replaced and new entries are added. What is the content of the dictionary “wardrobe“ at the end of the following code?"
   ]
  },
  {
   "cell_type": "code",
   "execution_count": 7,
   "metadata": {},
   "outputs": [
    {
     "data": {
      "text/plain": [
       "{'shirt': ['red', 'blue', 'white'],\n",
       " 'jeans': ['white'],\n",
       " 'scarf': ['yellow'],\n",
       " 'socks': ['black', 'brown']}"
      ]
     },
     "execution_count": 7,
     "metadata": {},
     "output_type": "execute_result"
    }
   ],
   "source": [
    "wardrobe = {'shirt': ['red', 'blue', 'white'], 'jeans': ['blue', 'black']}\n",
    "new_items = {'jeans': ['white'], 'scarf': ['yellow'], 'socks': ['black', 'brown']}\n",
    "wardrobe.update(new_items)\n",
    "wardrobe"
   ]
  },
  {
   "cell_type": "markdown",
   "metadata": {},
   "source": [
    "The add_prices function returns the total price of all of the groceries in the  dictionary. Fill in the blanks to complete this function."
   ]
  },
  {
   "cell_type": "code",
   "execution_count": 8,
   "metadata": {},
   "outputs": [
    {
     "name": "stdout",
     "output_type": "stream",
     "text": [
      "28.44\n"
     ]
    }
   ],
   "source": [
    "def add_prices(basket):\n",
    "\t# Initialize the variable that will be used for the calculation\n",
    "\ttotal = 0\n",
    "\t# Iterate through the dictionary items\n",
    "\tfor prices in basket.values():\n",
    "\t\t# Add each price to the total calculation\n",
    "\t\t# Hint: how do you access the values of\n",
    "\t\t# dictionary items?\n",
    "\t\ttotal += prices\n",
    "\t# Limit the return value to 2 decimal places\n",
    "\treturn round(total, 2)  \n",
    "\n",
    "groceries = {\"bananas\": 1.56, \"apples\": 2.50, \"oranges\": 0.99, \"bread\": 4.59, \n",
    "\t\"coffee\": 6.99, \"milk\": 3.39, \"eggs\": 2.98, \"cheese\": 5.44}\n",
    "\n",
    "print(add_prices(groceries)) # Should print 28.44"
   ]
  }
 ],
 "metadata": {
  "interpreter": {
   "hash": "23300995598eec4bcf6bd89cf02d1c3675e8b2616661418dbbf5580aa901878d"
  },
  "kernelspec": {
   "display_name": "Python 3.9.5 64-bit",
   "language": "python",
   "name": "python3"
  },
  "language_info": {
   "codemirror_mode": {
    "name": "ipython",
    "version": 3
   },
   "file_extension": ".py",
   "mimetype": "text/x-python",
   "name": "python",
   "nbconvert_exporter": "python",
   "pygments_lexer": "ipython3",
   "version": "3.9.5"
  },
  "orig_nbformat": 4
 },
 "nbformat": 4,
 "nbformat_minor": 2
}
