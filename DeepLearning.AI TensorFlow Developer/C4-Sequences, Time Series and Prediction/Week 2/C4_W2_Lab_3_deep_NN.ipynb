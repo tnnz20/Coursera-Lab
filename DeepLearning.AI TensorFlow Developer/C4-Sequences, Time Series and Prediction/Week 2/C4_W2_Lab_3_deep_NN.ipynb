{
  "cells": [
    {
      "cell_type": "markdown",
      "metadata": {
        "id": "dqYVnl0SHUXy"
      },
      "source": [
        "<a href=\"https://colab.research.google.com/github/https-deeplearning-ai/tensorflow-1-public/blob/main/C4/W2/ungraded_labs/C4_W2_Lab_3_deep_NN.ipynb\" target=\"_parent\"><img src=\"https://colab.research.google.com/assets/colab-badge.svg\" alt=\"Open In Colab\"/></a>"
      ]
    },
    {
      "cell_type": "markdown",
      "metadata": {
        "id": "dxFGlX1S53mg"
      },
      "source": [
        "# Ungraded Lab: Training a Deep Neural Network with Time Series Data\n",
        "\n",
        "In this lab, you will build upon the previous exercise and add more dense layers to your network. You will also look at a technique to tune the model's learning rate to make the weights converge faster. This is a useful tip so you can avoid guessing the learning rate before training.\n",
        "\n",
        "The initial steps will be identical to the previous lab so you can run the next cells until the `Build the Model` section. That's where the discussions begin."
      ]
    },
    {
      "cell_type": "markdown",
      "metadata": {
        "id": "w5S4XCUZ6GH7"
      },
      "source": [
        "## Imports"
      ]
    },
    {
      "cell_type": "code",
      "execution_count": 1,
      "metadata": {
        "id": "BOjujz601HcS"
      },
      "outputs": [],
      "source": [
        "import tensorflow as tf\n",
        "import numpy as np\n",
        "import matplotlib.pyplot as plt"
      ]
    },
    {
      "cell_type": "markdown",
      "metadata": {
        "id": "tjC8TSkp6IiH"
      },
      "source": [
        "## Utilities"
      ]
    },
    {
      "cell_type": "code",
      "execution_count": 2,
      "metadata": {
        "id": "Zswl7jRtGzkk"
      },
      "outputs": [],
      "source": [
        "def plot_series(time, series, format=\"-\", start=0, end=None):\n",
        "    \"\"\"\n",
        "    Visualizes time series data\n",
        "\n",
        "    Args:\n",
        "      time (array of int) - contains the time steps\n",
        "      series (array of int) - contains the measurements for each time step\n",
        "      format - line style when plotting the graph\n",
        "      label - tag for the line\n",
        "      start - first time step to plot\n",
        "      end - last time step to plot\n",
        "    \"\"\"\n",
        "\n",
        "    # Setup dimensions of the graph figure\n",
        "    plt.figure(figsize=(10, 6))\n",
        "    \n",
        "    if type(series) is tuple:\n",
        "\n",
        "      for series_num in series:\n",
        "        # Plot the time series data\n",
        "        plt.plot(time[start:end], series_num[start:end], format)\n",
        "\n",
        "    else:\n",
        "      # Plot the time series data\n",
        "      plt.plot(time[start:end], series[start:end], format)\n",
        "\n",
        "    # Label the x-axis\n",
        "    plt.xlabel(\"Time\")\n",
        "\n",
        "    # Label the y-axis\n",
        "    plt.ylabel(\"Value\")\n",
        "\n",
        "    # Overlay a grid on the graph\n",
        "    plt.grid(True)\n",
        "\n",
        "    # Draw the graph on screen\n",
        "    plt.show()\n",
        "\n",
        "def trend(time, slope=0):\n",
        "    \"\"\"\n",
        "    Generates synthetic data that follows a straight line given a slope value.\n",
        "\n",
        "    Args:\n",
        "      time (array of int) - contains the time steps\n",
        "      slope (float) - determines the direction and steepness of the line\n",
        "\n",
        "    Returns:\n",
        "      series (array of float) - measurements that follow a straight line\n",
        "    \"\"\"\n",
        "\n",
        "    # Compute the linear series given the slope\n",
        "    series = slope * time\n",
        "\n",
        "    return series\n",
        "\n",
        "def seasonal_pattern(season_time):\n",
        "    \"\"\"\n",
        "    Just an arbitrary pattern, you can change it if you wish\n",
        "    \n",
        "    Args:\n",
        "      season_time (array of float) - contains the measurements per time step\n",
        "\n",
        "    Returns:\n",
        "      data_pattern (array of float) -  contains revised measurement values according \n",
        "                                  to the defined pattern\n",
        "    \"\"\"\n",
        "\n",
        "    # Generate the values using an arbitrary pattern\n",
        "    data_pattern = np.where(season_time < 0.4,\n",
        "                    np.cos(season_time * 2 * np.pi),\n",
        "                    1 / np.exp(3 * season_time))\n",
        "    \n",
        "    return data_pattern\n",
        "\n",
        "def seasonality(time, period, amplitude=1, phase=0):\n",
        "    \"\"\"\n",
        "    Repeats the same pattern at each period\n",
        "\n",
        "    Args:\n",
        "      time (array of int) - contains the time steps\n",
        "      period (int) - number of time steps before the pattern repeats\n",
        "      amplitude (int) - peak measured value in a period\n",
        "      phase (int) - number of time steps to shift the measured values\n",
        "\n",
        "    Returns:\n",
        "      data_pattern (array of float) - seasonal data scaled by the defined amplitude\n",
        "    \"\"\"\n",
        "    \n",
        "    # Define the measured values per period\n",
        "    season_time = ((time + phase) % period) / period\n",
        "\n",
        "    # Generates the seasonal data scaled by the defined amplitude\n",
        "    data_pattern = amplitude * seasonal_pattern(season_time)\n",
        "\n",
        "    return data_pattern\n",
        "\n",
        "def noise(time, noise_level=1, seed=None):\n",
        "    \"\"\"Generates a normally distributed noisy signal\n",
        "\n",
        "    Args:\n",
        "      time (array of int) - contains the time steps\n",
        "      noise_level (float) - scaling factor for the generated signal\n",
        "      seed (int) - number generator seed for repeatability\n",
        "\n",
        "    Returns:\n",
        "      noise (array of float) - the noisy signal\n",
        "    \"\"\"\n",
        "\n",
        "    # Initialize the random number generator\n",
        "    rnd = np.random.RandomState(seed)\n",
        "\n",
        "    # Generate a random number for each time step and scale by the noise level\n",
        "    noise = rnd.randn(len(time)) * noise_level\n",
        "    \n",
        "    return noise"
      ]
    },
    {
      "cell_type": "markdown",
      "metadata": {
        "id": "Z1CL6Bh86TS1"
      },
      "source": [
        "## Generate the Synthetic Data"
      ]
    },
    {
      "cell_type": "code",
      "execution_count": 3,
      "metadata": {
        "id": "5MFtI3X1FErU",
        "colab": {
          "base_uri": "https://localhost:8080/",
          "height": 388
        },
        "outputId": "5ba122fd-72cd-47ef-fdd7-35c6bfd37727"
      },
      "outputs": [
        {
          "output_type": "display_data",
          "data": {
            "text/plain": [
              "<Figure size 720x432 with 1 Axes>"
            ],
            "image/png": "[encoded data removed]"
          },
          "metadata": {
            "needs_background": "light"
          }
        }
      ],
      "source": [
        "# Parameters\n",
        "time = np.arange(4 * 365 + 1, dtype=\"float32\")\n",
        "baseline = 10\n",
        "amplitude = 40\n",
        "slope = 0.05\n",
        "noise_level = 5\n",
        "\n",
        "# Create the series\n",
        "series = baseline + trend(time, slope) + seasonality(time, period=365, amplitude=amplitude)\n",
        "\n",
        "# Update with noise\n",
        "series += noise(time, noise_level, seed=42)\n",
        "\n",
        "# Plot the results\n",
        "plot_series(time, series)"
      ]
    },
    {
      "cell_type": "markdown",
      "metadata": {
        "id": "t2YvxWcI6lnB"
      },
      "source": [
        "## Split the Dataset"
      ]
    },
    {
      "cell_type": "code",
      "execution_count": 4,
      "metadata": {
        "id": "Db9kkYnOFKYr"
      },
      "outputs": [],
      "source": [
        "# Define the split time\n",
        "split_time = 1000\n",
        "\n",
        "# Get the train set \n",
        "time_train = time[:split_time]\n",
        "x_train = series[:split_time]\n",
        "\n",
        "# Get the validation set\n",
        "time_valid = time[split_time:]\n",
        "x_valid = series[split_time:]"
      ]
    },
    {
      "cell_type": "markdown",
      "metadata": {
        "id": "XH-0FgXN6zHA"
      },
      "source": [
        "## Prepare Features and Labels"
      ]
    },
    {
      "cell_type": "code",
      "execution_count": 5,
      "metadata": {
        "id": "AyBwNWO1FVTS"
      },
      "outputs": [],
      "source": [
        "# Parameters\n",
        "window_size = 20\n",
        "batch_size = 32\n",
        "shuffle_buffer_size = 1000"
      ]
    },
    {
      "cell_type": "code",
      "execution_count": 6,
      "metadata": {
        "id": "4sTTIOCbyShY"
      },
      "outputs": [],
      "source": [
        "def windowed_dataset(series, window_size, batch_size, shuffle_buffer):\n",
        "    \"\"\"Generates dataset windows\n",
        "\n",
        "    Args:\n",
        "      series (array of float) - contains the values of the time series\n",
        "      window_size (int) - the number of time steps to average\n",
        "      batch_size (int) - the batch size\n",
        "      shuffle_buffer(int) - buffer size to use for the shuffle method\n",
        "\n",
        "    Returns:\n",
        "      dataset (TF Dataset) - TF Dataset containing time windows\n",
        "    \"\"\"\n",
        "  \n",
        "    # Generate a TF Dataset from the series values\n",
        "    dataset = tf.data.Dataset.from_tensor_slices(series)\n",
        "    \n",
        "    # Window the data but only take those with the specified size\n",
        "    dataset = dataset.window(window_size + 1, shift=1, drop_remainder=True)\n",
        "    \n",
        "    # Flatten the windows by putting its elements in a single batch\n",
        "    dataset = dataset.flat_map(lambda window: window.batch(window_size + 1))\n",
        "\n",
        "    # Create tuples with features and labels \n",
        "    dataset = dataset.map(lambda window: (window[:-1], window[-1]))\n",
        "\n",
        "    # Shuffle the windows\n",
        "    dataset = dataset.shuffle(shuffle_buffer)\n",
        "    \n",
        "    # Create batches of windows\n",
        "    dataset = dataset.batch(batch_size).prefetch(1)\n",
        "    \n",
        "    return dataset"
      ]
    },
    {
      "cell_type": "code",
      "execution_count": 7,
      "metadata": {
        "id": "AdNN0s9qFnTg"
      },
      "outputs": [],
      "source": [
        "# Generate the dataset windows\n",
        "dataset = windowed_dataset(x_train, window_size, batch_size, shuffle_buffer_size)"
      ]
    },
    {
      "cell_type": "markdown",
      "metadata": {
        "id": "ths8EcjQ7CG3"
      },
      "source": [
        "## Build the Model\n",
        "\n",
        "You will use three dense layers in this exercise as shown below. As expected, the number of trainable parameters will increase and the model summary shows that it is more than tenfold of the previous lab."
      ]
    },
    {
      "cell_type": "code",
      "execution_count": 8,
      "metadata": {
        "id": "TW-vT7eLYAdb",
        "colab": {
          "base_uri": "https://localhost:8080/"
        },
        "outputId": "e1bfc239-661e-4c69-9613-913bc5ac212b"
      },
      "outputs": [
        {
          "output_type": "stream",
          "name": "stdout",
          "text": [
            "Model: \"sequential\"\n",
            "_________________________________________________________________\n",
            " Layer (type)                Output Shape              Param #   \n",
            "=================================================================\n",
            " dense (Dense)               (None, 10)                210       \n",
            "                                                                 \n",
            " dense_1 (Dense)             (None, 10)                110       \n",
            "                                                                 \n",
            " dense_2 (Dense)             (None, 1)                 11        \n",
            "                                                                 \n",
            "=================================================================\n",
            "Total params: 331\n",
            "Trainable params: 331\n",
            "Non-trainable params: 0\n",
            "_________________________________________________________________\n"
          ]
        }
      ],
      "source": [
        "# Build the model\n",
        "model_baseline = tf.keras.models.Sequential([\n",
        "    tf.keras.layers.Dense(10, input_shape=[window_size], activation=\"relu\"), \n",
        "    tf.keras.layers.Dense(10, activation=\"relu\"), \n",
        "    tf.keras.layers.Dense(1)\n",
        "])\n",
        "\n",
        "# Print the model summary\n",
        "model_baseline.summary()"
      ]
    },
    {
      "cell_type": "markdown",
      "metadata": {
        "id": "4xWDKTGR7XQd"
      },
      "source": [
        "## Train the Model\n",
        "\n",
        "You will then compile and train the model using the same settings as before. Observe how the loss is decreasing because you will revisit it later in this lab."
      ]
    },
    {
      "cell_type": "code",
      "execution_count": 9,
      "metadata": {
        "id": "unwiKhWn7nqS"
      },
      "outputs": [],
      "source": [
        "# Set the training parameters\n",
        "model_baseline.compile(loss=\"mse\", optimizer=tf.keras.optimizers.SGD(learning_rate=1e-6, momentum=0.9))"
      ]
    },
    {
      "cell_type": "code",
      "execution_count": 10,
      "metadata": {
        "id": "zqVlvuneFqJz",
        "colab": {
          "base_uri": "https://localhost:8080/"
        },
        "outputId": "2deaef28-3475-459d-8946-40cec463dfaa"
      },
      "outputs": [
        {
          "output_type": "stream",
          "name": "stdout",
          "text": [
            "Epoch 1/100\n",
            "31/31 [==============================] - 1s 12ms/step - loss: 262.3976\n",
            "Epoch 2/100\n",
            "31/31 [==============================] - 0s 2ms/step - loss: 108.2438\n",
            "Epoch 3/100\n",
            "31/31 [==============================] - 0s 1ms/step - loss: 101.0785\n",
            "Epoch 4/100\n",
            "31/31 [==============================] - 0s 1ms/step - loss: 97.7362\n",
            "Epoch 5/100\n",
            "31/31 [==============================] - 0s 1ms/step - loss: 92.9506\n",
            "Epoch 6/100\n",
            "31/31 [==============================] - 0s 1ms/step - loss: 88.7418\n",
            "Epoch 7/100\n",
            "31/31 [==============================] - 0s 1ms/step - loss: 86.4824\n",
            "Epoch 8/100\n",
            "31/31 [==============================] - 0s 2ms/step - loss: 83.4556\n",
            "Epoch 9/100\n",
            "31/31 [==============================] - 0s 1ms/step - loss: 81.5387\n",
            "Epoch 10/100\n",
            "31/31 [==============================] - 0s 1ms/step - loss: 79.6107\n",
            "Epoch 11/100\n",
            "31/31 [==============================] - 0s 2ms/step - loss: 78.7664\n",
            "Epoch 12/100\n",
            "31/31 [==============================] - 0s 1ms/step - loss: 76.2963\n",
            "Epoch 13/100\n",
            "31/31 [==============================] - 0s 1ms/step - loss: 75.4948\n",
            "Epoch 14/100\n",
            "31/31 [==============================] - 0s 1ms/step - loss: 73.2640\n",
            "Epoch 15/100\n",
            "31/31 [==============================] - 0s 1ms/step - loss: 71.9930\n",
            "Epoch 16/100\n",
            "31/31 [==============================] - 0s 2ms/step - loss: 70.9114\n",
            "Epoch 17/100\n",
            "31/31 [==============================] - 0s 1ms/step - loss: 70.2115\n",
            "Epoch 18/100\n",
            "31/31 [==============================] - 0s 2ms/step - loss: 69.3433\n",
            "Epoch 19/100\n",
            "31/31 [==============================] - 0s 2ms/step - loss: 68.1043\n",
            "Epoch 20/100\n",
            "31/31 [==============================] - 0s 1ms/step - loss: 68.0561\n",
            "Epoch 21/100\n",
            "31/31 [==============================] - 0s 1ms/step - loss: 66.1266\n",
            "Epoch 22/100\n",
            "31/31 [==============================] - 0s 1ms/step - loss: 65.5173\n",
            "Epoch 23/100\n",
            "31/31 [==============================] - 0s 1ms/step - loss: 64.6000\n",
            "Epoch 24/100\n",
            "31/31 [==============================] - 0s 1ms/step - loss: 63.8647\n",
            "Epoch 25/100\n",
            "31/31 [==============================] - 0s 1ms/step - loss: 63.4649\n",
            "Epoch 26/100\n",
            "31/31 [==============================] - 0s 1ms/step - loss: 62.7655\n",
            "Epoch 27/100\n",
            "31/31 [==============================] - 0s 1ms/step - loss: 62.0498\n",
            "Epoch 28/100\n",
            "31/31 [==============================] - 0s 1ms/step - loss: 61.6409\n",
            "Epoch 29/100\n",
            "31/31 [==============================] - 0s 1ms/step - loss: 60.9573\n",
            "Epoch 30/100\n",
            "31/31 [==============================] - 0s 1ms/step - loss: 60.5379\n",
            "Epoch 31/100\n",
            "31/31 [==============================] - 0s 1ms/step - loss: 60.1008\n",
            "Epoch 32/100\n",
            "31/31 [==============================] - 0s 2ms/step - loss: 59.2062\n",
            "Epoch 33/100\n",
            "31/31 [==============================] - 0s 2ms/step - loss: 60.0596\n",
            "Epoch 34/100\n",
            "31/31 [==============================] - 0s 3ms/step - loss: 58.7667\n",
            "Epoch 35/100\n",
            "31/31 [==============================] - 0s 5ms/step - loss: 58.8673\n",
            "Epoch 36/100\n",
            "31/31 [==============================] - 0s 2ms/step - loss: 58.6008\n",
            "Epoch 37/100\n",
            "31/31 [==============================] - 0s 2ms/step - loss: 57.7357\n",
            "Epoch 38/100\n",
            "31/31 [==============================] - 0s 2ms/step - loss: 57.1320\n",
            "Epoch 39/100\n",
            "31/31 [==============================] - 0s 2ms/step - loss: 57.1542\n",
            "Epoch 40/100\n",
            "31/31 [==============================] - 0s 3ms/step - loss: 56.7250\n",
            "Epoch 41/100\n",
            "31/31 [==============================] - 0s 2ms/step - loss: 56.3891\n",
            "Epoch 42/100\n",
            "31/31 [==============================] - 0s 2ms/step - loss: 56.0306\n",
            "Epoch 43/100\n",
            "31/31 [==============================] - 0s 2ms/step - loss: 55.6073\n",
            "Epoch 44/100\n",
            "31/31 [==============================] - 0s 3ms/step - loss: 55.6871\n",
            "Epoch 45/100\n",
            "31/31 [==============================] - 0s 2ms/step - loss: 55.2497\n",
            "Epoch 46/100\n",
            "31/31 [==============================] - 0s 3ms/step - loss: 54.8708\n",
            "Epoch 47/100\n",
            "31/31 [==============================] - 0s 3ms/step - loss: 54.5886\n",
            "Epoch 48/100\n",
            "31/31 [==============================] - 0s 3ms/step - loss: 54.2474\n",
            "Epoch 49/100\n",
            "31/31 [==============================] - 0s 3ms/step - loss: 54.1112\n",
            "Epoch 50/100\n",
            "31/31 [==============================] - 0s 4ms/step - loss: 53.8236\n",
            "Epoch 51/100\n",
            "31/31 [==============================] - 0s 2ms/step - loss: 53.6888\n",
            "Epoch 52/100\n",
            "31/31 [==============================] - 0s 4ms/step - loss: 53.5102\n",
            "Epoch 53/100\n",
            "31/31 [==============================] - 0s 3ms/step - loss: 53.3725\n",
            "Epoch 54/100\n",
            "31/31 [==============================] - 0s 2ms/step - loss: 53.1238\n",
            "Epoch 55/100\n",
            "31/31 [==============================] - 0s 5ms/step - loss: 52.9312\n",
            "Epoch 56/100\n",
            "31/31 [==============================] - 1s 4ms/step - loss: 52.9681\n",
            "Epoch 57/100\n",
            "31/31 [==============================] - 0s 5ms/step - loss: 52.4050\n",
            "Epoch 58/100\n",
            "31/31 [==============================] - 0s 1ms/step - loss: 52.4151\n",
            "Epoch 59/100\n",
            "31/31 [==============================] - 0s 1ms/step - loss: 52.8206\n",
            "Epoch 60/100\n",
            "31/31 [==============================] - 0s 1ms/step - loss: 52.2807\n",
            "Epoch 61/100\n",
            "31/31 [==============================] - 0s 1ms/step - loss: 52.0379\n",
            "Epoch 62/100\n",
            "31/31 [==============================] - 0s 1ms/step - loss: 51.7810\n",
            "Epoch 63/100\n",
            "31/31 [==============================] - 0s 1ms/step - loss: 51.5084\n",
            "Epoch 64/100\n",
            "31/31 [==============================] - 0s 1ms/step - loss: 51.7169\n",
            "Epoch 65/100\n",
            "31/31 [==============================] - 0s 1ms/step - loss: 51.3237\n",
            "Epoch 66/100\n",
            "31/31 [==============================] - 0s 1ms/step - loss: 51.1502\n",
            "Epoch 67/100\n",
            "31/31 [==============================] - 0s 1ms/step - loss: 51.1171\n",
            "Epoch 68/100\n",
            "31/31 [==============================] - 0s 1ms/step - loss: 51.5427\n",
            "Epoch 69/100\n",
            "31/31 [==============================] - 0s 1ms/step - loss: 51.1819\n",
            "Epoch 70/100\n",
            "31/31 [==============================] - 0s 1ms/step - loss: 50.9213\n",
            "Epoch 71/100\n",
            "31/31 [==============================] - 0s 1ms/step - loss: 50.9165\n",
            "Epoch 72/100\n",
            "31/31 [==============================] - 0s 1ms/step - loss: 50.7764\n",
            "Epoch 73/100\n",
            "31/31 [==============================] - 0s 1ms/step - loss: 52.6950\n",
            "Epoch 74/100\n",
            "31/31 [==============================] - 0s 1ms/step - loss: 50.4329\n",
            "Epoch 75/100\n",
            "31/31 [==============================] - 0s 1ms/step - loss: 50.2755\n",
            "Epoch 76/100\n",
            "31/31 [==============================] - 0s 1ms/step - loss: 50.3093\n",
            "Epoch 77/100\n",
            "31/31 [==============================] - 0s 1ms/step - loss: 50.7236\n",
            "Epoch 78/100\n",
            "31/31 [==============================] - 0s 1ms/step - loss: 49.9514\n",
            "Epoch 79/100\n",
            "31/31 [==============================] - 0s 1ms/step - loss: 49.8886\n",
            "Epoch 80/100\n",
            "31/31 [==============================] - 0s 2ms/step - loss: 49.9664\n",
            "Epoch 81/100\n",
            "31/31 [==============================] - 0s 2ms/step - loss: 49.5038\n",
            "Epoch 82/100\n",
            "31/31 [==============================] - 0s 1ms/step - loss: 50.0958\n",
            "Epoch 83/100\n",
            "31/31 [==============================] - 0s 1ms/step - loss: 49.6028\n",
            "Epoch 84/100\n",
            "31/31 [==============================] - 0s 1ms/step - loss: 49.4913\n",
            "Epoch 85/100\n",
            "31/31 [==============================] - 0s 1ms/step - loss: 49.2973\n",
            "Epoch 86/100\n",
            "31/31 [==============================] - 0s 1ms/step - loss: 49.0833\n",
            "Epoch 87/100\n",
            "31/31 [==============================] - 0s 1ms/step - loss: 49.2091\n",
            "Epoch 88/100\n",
            "31/31 [==============================] - 0s 1ms/step - loss: 49.1329\n",
            "Epoch 89/100\n",
            "31/31 [==============================] - 0s 1ms/step - loss: 49.1694\n",
            "Epoch 90/100\n",
            "31/31 [==============================] - 0s 2ms/step - loss: 48.7915\n",
            "Epoch 91/100\n",
            "31/31 [==============================] - 0s 1ms/step - loss: 48.8288\n",
            "Epoch 92/100\n",
            "31/31 [==============================] - 0s 1ms/step - loss: 48.9197\n",
            "Epoch 93/100\n",
            "31/31 [==============================] - 0s 2ms/step - loss: 48.8854\n",
            "Epoch 94/100\n",
            "31/31 [==============================] - 0s 2ms/step - loss: 48.5705\n",
            "Epoch 95/100\n",
            "31/31 [==============================] - 0s 1ms/step - loss: 48.3096\n",
            "Epoch 96/100\n",
            "31/31 [==============================] - 0s 1ms/step - loss: 48.3779\n",
            "Epoch 97/100\n",
            "31/31 [==============================] - 0s 1ms/step - loss: 48.4498\n",
            "Epoch 98/100\n",
            "31/31 [==============================] - 0s 1ms/step - loss: 48.8213\n",
            "Epoch 99/100\n",
            "31/31 [==============================] - 0s 1ms/step - loss: 48.4348\n",
            "Epoch 100/100\n",
            "31/31 [==============================] - 0s 1ms/step - loss: 48.2795\n"
          ]
        },
        {
          "output_type": "execute_result",
          "data": {
            "text/plain": [
              "<keras.callbacks.History at 0x7f38dcbaa4d0>"
            ]
          },
          "metadata": {},
          "execution_count": 10
        }
      ],
      "source": [
        "# Train the model\n",
        "model_baseline.fit(dataset,epochs=100)"
      ]
    },
    {
      "cell_type": "markdown",
      "metadata": {
        "id": "0-5QVzo1Tv-_"
      },
      "source": [
        "You can then get some predictions and visualize it as before. Since the network is deeper, the predictions might go slower so you may want to minimize unnecessary computations. \n",
        "\n",
        "In the previous lab, you might remember the model generating predictions using the entire `series` data. That resulted in 1,441 points in the `forecast` list then you sliced the 461 points that aligns with the validation set using `forecast = forecast[split_time - window_size:]`. \n",
        "\n",
        "You can make this process faster by just generating 461 points right from the start. That way, you don't waste time predicting points that will just be thrown away later. The code below will do just that. It will just get the points needed from the original `series` before calling the `predict()` method. With that, all predictions will align with the validation set already and the for-loop will run for only 461 times instead of 1,441. \n",
        "\n",
        "In the next lab, you'll see an even faster way to generate these predictions."
      ]
    },
    {
      "cell_type": "code",
      "execution_count": 11,
      "metadata": {
        "id": "efhco2rYyIFF",
        "colab": {
          "base_uri": "https://localhost:8080/",
          "height": 388
        },
        "outputId": "ff2ca55f-eefd-4e35-e7d7-7dcf853006e7"
      },
      "outputs": [
        {
          "output_type": "display_data",
          "data": {
            "text/plain": [
              "<Figure size 720x432 with 1 Axes>"
            ],
            "image/png": "[encoded data removed]"
          },
          "metadata": {
            "needs_background": "light"
          }
        }
      ],
      "source": [
        "# Initialize a list\n",
        "forecast = []\n",
        "\n",
        "# Reduce the original series\n",
        "forecast_series = series[split_time - window_size:]\n",
        "\n",
        "# Use the model to predict data points per window size\n",
        "for time in range(len(forecast_series) - window_size):\n",
        "  forecast.append(model_baseline.predict(forecast_series[time:time + window_size][np.newaxis]))\n",
        "\n",
        "# Convert to a numpy array and drop single dimensional axes\n",
        "results = np.array(forecast).squeeze()\n",
        "\n",
        "# Plot the results\n",
        "plot_series(time_valid, (x_valid, results))"
      ]
    },
    {
      "cell_type": "markdown",
      "metadata": {
        "id": "Lk5VkqNjh8Ws"
      },
      "source": [
        "You can then get the MSE and MAE for reference."
      ]
    },
    {
      "cell_type": "code",
      "execution_count": 12,
      "metadata": {
        "id": "-kT6j186YO6K",
        "colab": {
          "base_uri": "https://localhost:8080/"
        },
        "outputId": "8c58a6a8-63da-492d-a301-cceaee761959"
      },
      "outputs": [
        {
          "output_type": "stream",
          "name": "stdout",
          "text": [
            "45.57266\n",
            "5.054816\n"
          ]
        }
      ],
      "source": [
        "# Compute the metrics\n",
        "print(tf.keras.metrics.mean_squared_error(x_valid, results).numpy())\n",
        "print(tf.keras.metrics.mean_absolute_error(x_valid, results).numpy())"
      ]
    },
    {
      "cell_type": "markdown",
      "metadata": {
        "id": "tQB2gyq18YvD"
      },
      "source": [
        "## Tune the learning rate\n",
        "\n",
        "You saw that the training went well with the initial learning rate that you chose (i.e. `1e-6`). However, you're not yet sure if it is the best setting for this particular model. It might seem inconsequential in this simple model but when you have more complex ones, spending some time to tune the learning rate can lead to better training results. You will see how to do that in this section.\n",
        "\n",
        "First, you will build the same model architecture you just used."
      ]
    },
    {
      "cell_type": "code",
      "execution_count": 13,
      "metadata": {
        "id": "tnCe_nBKu7RB"
      },
      "outputs": [],
      "source": [
        "# Build the Model\n",
        "model_tune = tf.keras.models.Sequential([\n",
        "    tf.keras.layers.Dense(10, input_shape=[window_size], activation=\"relu\"), \n",
        "    tf.keras.layers.Dense(10, activation=\"relu\"), \n",
        "    tf.keras.layers.Dense(1)\n",
        "])"
      ]
    },
    {
      "cell_type": "markdown",
      "metadata": {
        "id": "CTSWS74Qj-G0"
      },
      "source": [
        "Next, you will declare a [learning rate scheduler](https://www.tensorflow.org/api_docs/python/tf/keras/callbacks/LearningRateScheduler) callback. This will allow you to dynamically set the learning rate based on the epoch number during training. As shown below, you will pass a lambda function to declare the value of the learning rate. It will start at `1e-8` at epoch 0 and is scaled by `10**(epoch / 20)` as the training goes on."
      ]
    },
    {
      "cell_type": "code",
      "execution_count": 14,
      "metadata": {
        "id": "6FDVah6-885n"
      },
      "outputs": [],
      "source": [
        "# Set the learning rate scheduler\n",
        "lr_schedule = tf.keras.callbacks.LearningRateScheduler(\n",
        "    lambda epoch: 1e-8 * 10**(epoch / 20))"
      ]
    },
    {
      "cell_type": "markdown",
      "metadata": {
        "id": "M4SJZxL1lqPX"
      },
      "source": [
        "You will then compile the model. Just to note a subtle difference with the lecture video, you don't have to set the `learning_rate` argument of the optimizer here before compiling. You can just leave the default (i.e. [`0.01` for SGD](https://www.tensorflow.org/api_docs/python/tf/keras/optimizers/SGD#args)) and allow the learning rate scheduler to set it dynamically."
      ]
    },
    {
      "cell_type": "code",
      "execution_count": 15,
      "metadata": {
        "id": "66MDQGRc9AKU"
      },
      "outputs": [],
      "source": [
        "# Initialize the optimizer\n",
        "optimizer = tf.keras.optimizers.SGD(momentum=0.9)\n",
        "\n",
        "# Set the training parameters\n",
        "model_tune.compile(loss=\"mse\", optimizer=optimizer)"
      ]
    },
    {
      "cell_type": "markdown",
      "metadata": {
        "id": "zMgbgBYzmXBi"
      },
      "source": [
        "You will pass in the `lr_schedule` callback in the `callbacks` parameter of the [`fit()`](https://www.tensorflow.org/api_docs/python/tf/keras/Model#fit) method. As you run the training below, you will see the learning rate at a particular epoch denoted by `lr` in the console output. Notice that it is increasing as expected based on the lambda function you used."
      ]
    },
    {
      "cell_type": "code",
      "execution_count": 16,
      "metadata": {
        "id": "Ef5o5DmQkuuy",
        "colab": {
          "base_uri": "https://localhost:8080/"
        },
        "outputId": "8799e999-d005-470d-ea79-bddabe0596f3"
      },
      "outputs": [
        {
          "output_type": "stream",
          "name": "stdout",
          "text": [
            "Epoch 1/100\n",
            "31/31 [==============================] - 0s 2ms/step - loss: 1388.3954 - lr: 1.0000e-08\n",
            "Epoch 2/100\n",
            "31/31 [==============================] - 0s 1ms/step - loss: 1227.2007 - lr: 1.1220e-08\n",
            "Epoch 3/100\n",
            "31/31 [==============================] - 0s 1ms/step - loss: 1047.0360 - lr: 1.2589e-08\n",
            "Epoch 4/100\n",
            "31/31 [==============================] - 0s 1ms/step - loss: 870.4642 - lr: 1.4125e-08\n",
            "Epoch 5/100\n",
            "31/31 [==============================] - 0s 1ms/step - loss: 699.4932 - lr: 1.5849e-08\n",
            "Epoch 6/100\n",
            "31/31 [==============================] - 0s 1ms/step - loss: 544.1166 - lr: 1.7783e-08\n",
            "Epoch 7/100\n",
            "31/31 [==============================] - 0s 1ms/step - loss: 412.8834 - lr: 1.9953e-08\n",
            "Epoch 8/100\n",
            "31/31 [==============================] - 0s 1ms/step - loss: 312.1243 - lr: 2.2387e-08\n",
            "Epoch 9/100\n",
            "31/31 [==============================] - 0s 1ms/step - loss: 245.2721 - lr: 2.5119e-08\n",
            "Epoch 10/100\n",
            "31/31 [==============================] - 0s 2ms/step - loss: 205.9743 - lr: 2.8184e-08\n",
            "Epoch 11/100\n",
            "31/31 [==============================] - 0s 1ms/step - loss: 188.3716 - lr: 3.1623e-08\n",
            "Epoch 12/100\n",
            "31/31 [==============================] - 0s 1ms/step - loss: 180.5479 - lr: 3.5481e-08\n",
            "Epoch 13/100\n",
            "31/31 [==============================] - 0s 1ms/step - loss: 177.5076 - lr: 3.9811e-08\n",
            "Epoch 14/100\n",
            "31/31 [==============================] - 0s 1ms/step - loss: 175.8756 - lr: 4.4668e-08\n",
            "Epoch 15/100\n",
            "31/31 [==============================] - 0s 1ms/step - loss: 174.2008 - lr: 5.0119e-08\n",
            "Epoch 16/100\n",
            "31/31 [==============================] - 0s 1ms/step - loss: 172.6205 - lr: 5.6234e-08\n",
            "Epoch 17/100\n",
            "31/31 [==============================] - 0s 2ms/step - loss: 171.0019 - lr: 6.3096e-08\n",
            "Epoch 18/100\n",
            "31/31 [==============================] - 0s 1ms/step - loss: 169.2190 - lr: 7.0795e-08\n",
            "Epoch 19/100\n",
            "31/31 [==============================] - 0s 1ms/step - loss: 167.2526 - lr: 7.9433e-08\n",
            "Epoch 20/100\n",
            "31/31 [==============================] - 0s 1ms/step - loss: 165.1781 - lr: 8.9125e-08\n",
            "Epoch 21/100\n",
            "31/31 [==============================] - 0s 1ms/step - loss: 162.9617 - lr: 1.0000e-07\n",
            "Epoch 22/100\n",
            "31/31 [==============================] - 0s 1ms/step - loss: 160.8307 - lr: 1.1220e-07\n",
            "Epoch 23/100\n",
            "31/31 [==============================] - 0s 2ms/step - loss: 158.4832 - lr: 1.2589e-07\n",
            "Epoch 24/100\n",
            "31/31 [==============================] - 0s 1ms/step - loss: 155.8203 - lr: 1.4125e-07\n",
            "Epoch 25/100\n",
            "31/31 [==============================] - 0s 2ms/step - loss: 153.2071 - lr: 1.5849e-07\n",
            "Epoch 26/100\n",
            "31/31 [==============================] - 0s 1ms/step - loss: 150.0984 - lr: 1.7783e-07\n",
            "Epoch 27/100\n",
            "31/31 [==============================] - 0s 1ms/step - loss: 147.2036 - lr: 1.9953e-07\n",
            "Epoch 28/100\n",
            "31/31 [==============================] - 0s 1ms/step - loss: 144.1020 - lr: 2.2387e-07\n",
            "Epoch 29/100\n",
            "31/31 [==============================] - 0s 1ms/step - loss: 140.8037 - lr: 2.5119e-07\n",
            "Epoch 30/100\n",
            "31/31 [==============================] - 0s 1ms/step - loss: 137.2907 - lr: 2.8184e-07\n",
            "Epoch 31/100\n",
            "31/31 [==============================] - 0s 1ms/step - loss: 133.6694 - lr: 3.1623e-07\n",
            "Epoch 32/100\n",
            "31/31 [==============================] - 0s 1ms/step - loss: 130.2052 - lr: 3.5481e-07\n",
            "Epoch 33/100\n",
            "31/31 [==============================] - 0s 1ms/step - loss: 126.5848 - lr: 3.9811e-07\n",
            "Epoch 34/100\n",
            "31/31 [==============================] - 0s 1ms/step - loss: 123.3137 - lr: 4.4668e-07\n",
            "Epoch 35/100\n",
            "31/31 [==============================] - 0s 1ms/step - loss: 119.4780 - lr: 5.0119e-07\n",
            "Epoch 36/100\n",
            "31/31 [==============================] - 0s 1ms/step - loss: 116.4600 - lr: 5.6234e-07\n",
            "Epoch 37/100\n",
            "31/31 [==============================] - 0s 2ms/step - loss: 111.6315 - lr: 6.3096e-07\n",
            "Epoch 38/100\n",
            "31/31 [==============================] - 0s 1ms/step - loss: 108.1787 - lr: 7.0795e-07\n",
            "Epoch 39/100\n",
            "31/31 [==============================] - 0s 1ms/step - loss: 103.8691 - lr: 7.9433e-07\n",
            "Epoch 40/100\n",
            "31/31 [==============================] - 0s 1ms/step - loss: 100.8453 - lr: 8.9125e-07\n",
            "Epoch 41/100\n",
            "31/31 [==============================] - 0s 2ms/step - loss: 96.8965 - lr: 1.0000e-06\n",
            "Epoch 42/100\n",
            "31/31 [==============================] - 0s 1ms/step - loss: 94.1137 - lr: 1.1220e-06\n",
            "Epoch 43/100\n",
            "31/31 [==============================] - 0s 1ms/step - loss: 93.4757 - lr: 1.2589e-06\n",
            "Epoch 44/100\n",
            "31/31 [==============================] - 0s 1ms/step - loss: 87.2295 - lr: 1.4125e-06\n",
            "Epoch 45/100\n",
            "31/31 [==============================] - 0s 1ms/step - loss: 83.5923 - lr: 1.5849e-06\n",
            "Epoch 46/100\n",
            "31/31 [==============================] - 0s 1ms/step - loss: 81.1292 - lr: 1.7783e-06\n",
            "Epoch 47/100\n",
            "31/31 [==============================] - 0s 1ms/step - loss: 77.7440 - lr: 1.9953e-06\n",
            "Epoch 48/100\n",
            "31/31 [==============================] - 0s 1ms/step - loss: 78.0404 - lr: 2.2387e-06\n",
            "Epoch 49/100\n",
            "31/31 [==============================] - 0s 1ms/step - loss: 72.0286 - lr: 2.5119e-06\n",
            "Epoch 50/100\n",
            "31/31 [==============================] - 0s 1ms/step - loss: 70.7491 - lr: 2.8184e-06\n",
            "Epoch 51/100\n",
            "31/31 [==============================] - 0s 1ms/step - loss: 69.3670 - lr: 3.1623e-06\n",
            "Epoch 52/100\n",
            "31/31 [==============================] - 0s 1ms/step - loss: 66.7966 - lr: 3.5481e-06\n",
            "Epoch 53/100\n",
            "31/31 [==============================] - 0s 1ms/step - loss: 64.3933 - lr: 3.9811e-06\n",
            "Epoch 54/100\n",
            "31/31 [==============================] - 0s 1ms/step - loss: 61.2838 - lr: 4.4668e-06\n",
            "Epoch 55/100\n",
            "31/31 [==============================] - 0s 2ms/step - loss: 61.2051 - lr: 5.0119e-06\n",
            "Epoch 56/100\n",
            "31/31 [==============================] - 0s 1ms/step - loss: 64.5506 - lr: 5.6234e-06\n",
            "Epoch 57/100\n",
            "31/31 [==============================] - 0s 1ms/step - loss: 57.7838 - lr: 6.3096e-06\n",
            "Epoch 58/100\n",
            "31/31 [==============================] - 0s 1ms/step - loss: 63.8450 - lr: 7.0795e-06\n",
            "Epoch 59/100\n",
            "31/31 [==============================] - 0s 1ms/step - loss: 54.9190 - lr: 7.9433e-06\n",
            "Epoch 60/100\n",
            "31/31 [==============================] - 0s 1ms/step - loss: 66.1893 - lr: 8.9125e-06\n",
            "Epoch 61/100\n",
            "31/31 [==============================] - 0s 1ms/step - loss: 60.7862 - lr: 1.0000e-05\n",
            "Epoch 62/100\n",
            "31/31 [==============================] - 0s 1ms/step - loss: 53.0663 - lr: 1.1220e-05\n",
            "Epoch 63/100\n",
            "31/31 [==============================] - 0s 1ms/step - loss: 54.2196 - lr: 1.2589e-05\n",
            "Epoch 64/100\n",
            "31/31 [==============================] - 0s 1ms/step - loss: 48.6454 - lr: 1.4125e-05\n",
            "Epoch 65/100\n",
            "31/31 [==============================] - 0s 1ms/step - loss: 49.4772 - lr: 1.5849e-05\n",
            "Epoch 66/100\n",
            "31/31 [==============================] - 0s 1ms/step - loss: 49.5095 - lr: 1.7783e-05\n",
            "Epoch 67/100\n",
            "31/31 [==============================] - 0s 2ms/step - loss: 50.8184 - lr: 1.9953e-05\n",
            "Epoch 68/100\n",
            "31/31 [==============================] - 0s 1ms/step - loss: 48.0905 - lr: 2.2387e-05\n",
            "Epoch 69/100\n",
            "31/31 [==============================] - 0s 1ms/step - loss: 48.6014 - lr: 2.5119e-05\n",
            "Epoch 70/100\n",
            "31/31 [==============================] - 0s 1ms/step - loss: 65.0297 - lr: 2.8184e-05\n",
            "Epoch 71/100\n",
            "31/31 [==============================] - 0s 1ms/step - loss: 55.3664 - lr: 3.1623e-05\n",
            "Epoch 72/100\n",
            "31/31 [==============================] - 0s 1ms/step - loss: 46.3767 - lr: 3.5481e-05\n",
            "Epoch 73/100\n",
            "31/31 [==============================] - 0s 2ms/step - loss: 56.9014 - lr: 3.9811e-05\n",
            "Epoch 74/100\n",
            "31/31 [==============================] - 0s 2ms/step - loss: 62.1472 - lr: 4.4668e-05\n",
            "Epoch 75/100\n",
            "31/31 [==============================] - 0s 1ms/step - loss: 88.0936 - lr: 5.0119e-05\n",
            "Epoch 76/100\n",
            "31/31 [==============================] - 0s 1ms/step - loss: 104.8842 - lr: 5.6234e-05\n",
            "Epoch 77/100\n",
            "31/31 [==============================] - 0s 1ms/step - loss: 97.5480 - lr: 6.3096e-05\n",
            "Epoch 78/100\n",
            "31/31 [==============================] - 0s 1ms/step - loss: 1144.8405 - lr: 7.0795e-05\n",
            "Epoch 79/100\n",
            "31/31 [==============================] - 0s 1ms/step - loss: 1982.3538 - lr: 7.9433e-05\n",
            "Epoch 80/100\n",
            "31/31 [==============================] - 0s 1ms/step - loss: 876.6506 - lr: 8.9125e-05\n",
            "Epoch 81/100\n",
            "31/31 [==============================] - 0s 1ms/step - loss: 393.2349 - lr: 1.0000e-04\n",
            "Epoch 82/100\n",
            "31/31 [==============================] - 0s 1ms/step - loss: 482.4825 - lr: 1.1220e-04\n",
            "Epoch 83/100\n",
            "31/31 [==============================] - 0s 1ms/step - loss: 442.0014 - lr: 1.2589e-04\n",
            "Epoch 84/100\n",
            "31/31 [==============================] - 0s 1ms/step - loss: 2537.9504 - lr: 1.4125e-04\n",
            "Epoch 85/100\n",
            "31/31 [==============================] - 0s 1ms/step - loss: 389.9781 - lr: 1.5849e-04\n",
            "Epoch 86/100\n",
            "31/31 [==============================] - 0s 1ms/step - loss: 389.5858 - lr: 1.7783e-04\n",
            "Epoch 87/100\n",
            "31/31 [==============================] - 0s 1ms/step - loss: 429.4948 - lr: 1.9953e-04\n",
            "Epoch 88/100\n",
            "31/31 [==============================] - 0s 1ms/step - loss: 396.8394 - lr: 2.2387e-04\n",
            "Epoch 89/100\n",
            "31/31 [==============================] - 0s 1ms/step - loss: 393.4664 - lr: 2.5119e-04\n",
            "Epoch 90/100\n",
            "31/31 [==============================] - 0s 1ms/step - loss: 391.0991 - lr: 2.8184e-04\n",
            "Epoch 91/100\n",
            "31/31 [==============================] - 0s 1ms/step - loss: 394.5008 - lr: 3.1623e-04\n",
            "Epoch 92/100\n",
            "31/31 [==============================] - 0s 2ms/step - loss: 391.2369 - lr: 3.5481e-04\n",
            "Epoch 93/100\n",
            "31/31 [==============================] - 0s 1ms/step - loss: 394.7446 - lr: 3.9811e-04\n",
            "Epoch 94/100\n",
            "31/31 [==============================] - 0s 1ms/step - loss: 393.4136 - lr: 4.4668e-04\n",
            "Epoch 95/100\n",
            "31/31 [==============================] - 0s 1ms/step - loss: 402.0932 - lr: 5.0119e-04\n",
            "Epoch 96/100\n",
            "31/31 [==============================] - 0s 1ms/step - loss: 392.9116 - lr: 5.6234e-04\n",
            "Epoch 97/100\n",
            "31/31 [==============================] - 0s 2ms/step - loss: 393.7353 - lr: 6.3096e-04\n",
            "Epoch 98/100\n",
            "31/31 [==============================] - 0s 1ms/step - loss: 397.2181 - lr: 7.0795e-04\n",
            "Epoch 99/100\n",
            "31/31 [==============================] - 0s 1ms/step - loss: 395.4099 - lr: 7.9433e-04\n",
            "Epoch 100/100\n",
            "31/31 [==============================] - 0s 1ms/step - loss: 399.8755 - lr: 8.9125e-04\n"
          ]
        }
      ],
      "source": [
        "# Train the model\n",
        "history = model_tune.fit(dataset, epochs=100, callbacks=[lr_schedule])"
      ]
    },
    {
      "cell_type": "markdown",
      "metadata": {
        "id": "Sz9yLyRkkuet"
      },
      "source": [
        "Next step is to plot the results of the training. You will visualize the loss at each value of the learning rate."
      ]
    },
    {
      "cell_type": "code",
      "execution_count": 17,
      "metadata": {
        "id": "2ZaNsM2IgCd_",
        "colab": {
          "base_uri": "https://localhost:8080/",
          "height": 405
        },
        "outputId": "fd7f4dc2-96a6-4f9b-db87-a64fac1b2d5d"
      },
      "outputs": [
        {
          "output_type": "execute_result",
          "data": {
            "text/plain": [
              "(1e-08, 0.001, 0.0, 300.0)"
            ]
          },
          "metadata": {},
          "execution_count": 17
        },
        {
          "output_type": "display_data",
          "data": {
            "text/plain": [
              "<Figure size 720x432 with 1 Axes>"
            ],
            "image/png": "[encoded data removed]"
          },
          "metadata": {
            "needs_background": "light"
          }
        }
      ],
      "source": [
        "# Define the learning rate array\n",
        "lrs = 1e-8 * (10 ** (np.arange(100) / 20))\n",
        "\n",
        "# Set the figure size\n",
        "plt.figure(figsize=(10, 6))\n",
        "\n",
        "# Set the grid\n",
        "plt.grid(True)\n",
        "\n",
        "# Plot the loss in log scale\n",
        "plt.semilogx(lrs, history.history[\"loss\"])\n",
        "\n",
        "# Increase the tickmarks size\n",
        "plt.tick_params('both', length=10, width=1, which='both')\n",
        "\n",
        "# Set the plot boundaries\n",
        "plt.axis([1e-8, 1e-3, 0, 300])"
      ]
    },
    {
      "cell_type": "markdown",
      "metadata": {
        "id": "obCq2g0qn0GD"
      },
      "source": [
        "The generated graph above shows the values of the range of learning rates that leads to lower losses (i.e. sloping downward) and also which ones cause the training to become unstable (i.e. jagged edges and pointing upwards). In general, you will want to pick a point in a downward slope. That means the network is still learning at that point and is stable. Choosing close to the minimum point of the graph will make the training converge to that loss value quicker, as will be shown in the next cells.\n",
        "\n",
        "First, you will initialize the same model architecture again."
      ]
    },
    {
      "cell_type": "code",
      "execution_count": 18,
      "metadata": {
        "id": "F7vzeS6BKUb_"
      },
      "outputs": [],
      "source": [
        "# Build the model\n",
        "model_tune = tf.keras.models.Sequential([\n",
        "  tf.keras.layers.Dense(10, activation=\"relu\", input_shape=[window_size]),\n",
        "  tf.keras.layers.Dense(10, activation=\"relu\"),\n",
        "  tf.keras.layers.Dense(1)\n",
        "])"
      ]
    },
    {
      "cell_type": "markdown",
      "metadata": {
        "id": "9gjrVfgWp3ku"
      },
      "source": [
        "You will then set the optimizer with a learning rate close to the minimum. It is set to `4e-6` initially but feel free to change based on your results."
      ]
    },
    {
      "cell_type": "code",
      "execution_count": 19,
      "metadata": {
        "id": "nVHuxnXMKjja"
      },
      "outputs": [],
      "source": [
        "# Set the optimizer with the tuned learning rate\n",
        "optimizer = tf.keras.optimizers.SGD(learning_rate=4e-6, momentum=0.9)"
      ]
    },
    {
      "cell_type": "markdown",
      "metadata": {
        "id": "pyrhSDU5qPn6"
      },
      "source": [
        "You can then compile and train the model as before. Observe the loss values and compare it to the output of the baseline model you had before. Most likely, you will have met the final loss value of the `model_baseline` within the first 50 epochs of training this `model_tune`. You will also likely have a lower loss after all 100 epochs are done."
      ]
    },
    {
      "cell_type": "code",
      "execution_count": 20,
      "metadata": {
        "id": "rDNeYqqzqQ-s",
        "colab": {
          "base_uri": "https://localhost:8080/"
        },
        "outputId": "2dd28c9b-d96e-4743-ff83-a1ad3f112c4e"
      },
      "outputs": [
        {
          "output_type": "stream",
          "name": "stdout",
          "text": [
            "Epoch 1/100\n",
            "31/31 [==============================] - 0s 2ms/step - loss: 210.6869\n",
            "Epoch 2/100\n",
            "31/31 [==============================] - 0s 1ms/step - loss: 90.1592\n",
            "Epoch 3/100\n",
            "31/31 [==============================] - 0s 1ms/step - loss: 68.1775\n",
            "Epoch 4/100\n",
            "31/31 [==============================] - 0s 1ms/step - loss: 62.7104\n",
            "Epoch 5/100\n",
            "31/31 [==============================] - 0s 1ms/step - loss: 59.2853\n",
            "Epoch 6/100\n",
            "31/31 [==============================] - 0s 1ms/step - loss: 58.6693\n",
            "Epoch 7/100\n",
            "31/31 [==============================] - 0s 1ms/step - loss: 54.6896\n",
            "Epoch 8/100\n",
            "31/31 [==============================] - 0s 1ms/step - loss: 54.1902\n",
            "Epoch 9/100\n",
            "31/31 [==============================] - 0s 1ms/step - loss: 52.3451\n",
            "Epoch 10/100\n",
            "31/31 [==============================] - 0s 1ms/step - loss: 50.5199\n",
            "Epoch 11/100\n",
            "31/31 [==============================] - 0s 2ms/step - loss: 50.2905\n",
            "Epoch 12/100\n",
            "31/31 [==============================] - 0s 1ms/step - loss: 53.4340\n",
            "Epoch 13/100\n",
            "31/31 [==============================] - 0s 1ms/step - loss: 51.6125\n",
            "Epoch 14/100\n",
            "31/31 [==============================] - 0s 1ms/step - loss: 48.4105\n",
            "Epoch 15/100\n",
            "31/31 [==============================] - 0s 1ms/step - loss: 47.8200\n",
            "Epoch 16/100\n",
            "31/31 [==============================] - 0s 2ms/step - loss: 47.2571\n",
            "Epoch 17/100\n",
            "31/31 [==============================] - 0s 1ms/step - loss: 48.3447\n",
            "Epoch 18/100\n",
            "31/31 [==============================] - 0s 1ms/step - loss: 47.0676\n",
            "Epoch 19/100\n",
            "31/31 [==============================] - 0s 1ms/step - loss: 46.2060\n",
            "Epoch 20/100\n",
            "31/31 [==============================] - 0s 1ms/step - loss: 46.0471\n",
            "Epoch 21/100\n",
            "31/31 [==============================] - 0s 1ms/step - loss: 46.3185\n",
            "Epoch 22/100\n",
            "31/31 [==============================] - 0s 1ms/step - loss: 45.9674\n",
            "Epoch 23/100\n",
            "31/31 [==============================] - 0s 1ms/step - loss: 46.3754\n",
            "Epoch 24/100\n",
            "31/31 [==============================] - 0s 3ms/step - loss: 45.2696\n",
            "Epoch 25/100\n",
            "31/31 [==============================] - 0s 1ms/step - loss: 44.2982\n",
            "Epoch 26/100\n",
            "31/31 [==============================] - 0s 1ms/step - loss: 45.9109\n",
            "Epoch 27/100\n",
            "31/31 [==============================] - 0s 4ms/step - loss: 44.2395\n",
            "Epoch 28/100\n",
            "31/31 [==============================] - 0s 1ms/step - loss: 44.6528\n",
            "Epoch 29/100\n",
            "31/31 [==============================] - 0s 1ms/step - loss: 45.3620\n",
            "Epoch 30/100\n",
            "31/31 [==============================] - 0s 1ms/step - loss: 44.7479\n",
            "Epoch 31/100\n",
            "31/31 [==============================] - 0s 1ms/step - loss: 43.4338\n",
            "Epoch 32/100\n",
            "31/31 [==============================] - 0s 1ms/step - loss: 44.2261\n",
            "Epoch 33/100\n",
            "31/31 [==============================] - 0s 1ms/step - loss: 44.2185\n",
            "Epoch 34/100\n",
            "31/31 [==============================] - 0s 1ms/step - loss: 44.7084\n",
            "Epoch 35/100\n",
            "31/31 [==============================] - 0s 1ms/step - loss: 43.2543\n",
            "Epoch 36/100\n",
            "31/31 [==============================] - 0s 1ms/step - loss: 43.8401\n",
            "Epoch 37/100\n",
            "31/31 [==============================] - 0s 1ms/step - loss: 42.9306\n",
            "Epoch 38/100\n",
            "31/31 [==============================] - 0s 1ms/step - loss: 42.7277\n",
            "Epoch 39/100\n",
            "31/31 [==============================] - 0s 1ms/step - loss: 42.2701\n",
            "Epoch 40/100\n",
            "31/31 [==============================] - 0s 1ms/step - loss: 42.5459\n",
            "Epoch 41/100\n",
            "31/31 [==============================] - 0s 1ms/step - loss: 43.1629\n",
            "Epoch 42/100\n",
            "31/31 [==============================] - 0s 1ms/step - loss: 41.7572\n",
            "Epoch 43/100\n",
            "31/31 [==============================] - 0s 1ms/step - loss: 42.6256\n",
            "Epoch 44/100\n",
            "31/31 [==============================] - 0s 1ms/step - loss: 41.7951\n",
            "Epoch 45/100\n",
            "31/31 [==============================] - 0s 2ms/step - loss: 44.8633\n",
            "Epoch 46/100\n",
            "31/31 [==============================] - 0s 1ms/step - loss: 43.5988\n",
            "Epoch 47/100\n",
            "31/31 [==============================] - 0s 1ms/step - loss: 42.3559\n",
            "Epoch 48/100\n",
            "31/31 [==============================] - 0s 1ms/step - loss: 43.0786\n",
            "Epoch 49/100\n",
            "31/31 [==============================] - 0s 1ms/step - loss: 42.6040\n",
            "Epoch 50/100\n",
            "31/31 [==============================] - 0s 1ms/step - loss: 42.9980\n",
            "Epoch 51/100\n",
            "31/31 [==============================] - 0s 2ms/step - loss: 42.5898\n",
            "Epoch 52/100\n",
            "31/31 [==============================] - 0s 1ms/step - loss: 41.6133\n",
            "Epoch 53/100\n",
            "31/31 [==============================] - 0s 1ms/step - loss: 42.1008\n",
            "Epoch 54/100\n",
            "31/31 [==============================] - 0s 1ms/step - loss: 42.6338\n",
            "Epoch 55/100\n",
            "31/31 [==============================] - 0s 1ms/step - loss: 40.7061\n",
            "Epoch 56/100\n",
            "31/31 [==============================] - 0s 1ms/step - loss: 41.2582\n",
            "Epoch 57/100\n",
            "31/31 [==============================] - 0s 1ms/step - loss: 41.5790\n",
            "Epoch 58/100\n",
            "31/31 [==============================] - 0s 1ms/step - loss: 41.5039\n",
            "Epoch 59/100\n",
            "31/31 [==============================] - 0s 1ms/step - loss: 41.1966\n",
            "Epoch 60/100\n",
            "31/31 [==============================] - 0s 1ms/step - loss: 41.3658\n",
            "Epoch 61/100\n",
            "31/31 [==============================] - 0s 2ms/step - loss: 40.2323\n",
            "Epoch 62/100\n",
            "31/31 [==============================] - 0s 1ms/step - loss: 41.5577\n",
            "Epoch 63/100\n",
            "31/31 [==============================] - 0s 1ms/step - loss: 41.5286\n",
            "Epoch 64/100\n",
            "31/31 [==============================] - 0s 1ms/step - loss: 41.0607\n",
            "Epoch 65/100\n",
            "31/31 [==============================] - 0s 1ms/step - loss: 40.9060\n",
            "Epoch 66/100\n",
            "31/31 [==============================] - 0s 1ms/step - loss: 40.4650\n",
            "Epoch 67/100\n",
            "31/31 [==============================] - 0s 1ms/step - loss: 40.0340\n",
            "Epoch 68/100\n",
            "31/31 [==============================] - 0s 1ms/step - loss: 40.2749\n",
            "Epoch 69/100\n",
            "31/31 [==============================] - 0s 1ms/step - loss: 41.3534\n",
            "Epoch 70/100\n",
            "31/31 [==============================] - 0s 1ms/step - loss: 40.1387\n",
            "Epoch 71/100\n",
            "31/31 [==============================] - 0s 1ms/step - loss: 40.0269\n",
            "Epoch 72/100\n",
            "31/31 [==============================] - 0s 1ms/step - loss: 39.8890\n",
            "Epoch 73/100\n",
            "31/31 [==============================] - 0s 1ms/step - loss: 40.3335\n",
            "Epoch 74/100\n",
            "31/31 [==============================] - 0s 1ms/step - loss: 40.0998\n",
            "Epoch 75/100\n",
            "31/31 [==============================] - 0s 1ms/step - loss: 40.5366\n",
            "Epoch 76/100\n",
            "31/31 [==============================] - 0s 1ms/step - loss: 39.3949\n",
            "Epoch 77/100\n",
            "31/31 [==============================] - 0s 1ms/step - loss: 39.2865\n",
            "Epoch 78/100\n",
            "31/31 [==============================] - 0s 1ms/step - loss: 39.4438\n",
            "Epoch 79/100\n",
            "31/31 [==============================] - 0s 1ms/step - loss: 39.3891\n",
            "Epoch 80/100\n",
            "31/31 [==============================] - 0s 1ms/step - loss: 41.0461\n",
            "Epoch 81/100\n",
            "31/31 [==============================] - 0s 1ms/step - loss: 39.5338\n",
            "Epoch 82/100\n",
            "31/31 [==============================] - 0s 1ms/step - loss: 40.2345\n",
            "Epoch 83/100\n",
            "31/31 [==============================] - 0s 1ms/step - loss: 40.4735\n",
            "Epoch 84/100\n",
            "31/31 [==============================] - 0s 1ms/step - loss: 39.8808\n",
            "Epoch 85/100\n",
            "31/31 [==============================] - 0s 1ms/step - loss: 39.9092\n",
            "Epoch 86/100\n",
            "31/31 [==============================] - 0s 1ms/step - loss: 39.3634\n",
            "Epoch 87/100\n",
            "31/31 [==============================] - 0s 1ms/step - loss: 39.2467\n",
            "Epoch 88/100\n",
            "31/31 [==============================] - 0s 1ms/step - loss: 38.8382\n",
            "Epoch 89/100\n",
            "31/31 [==============================] - 0s 1ms/step - loss: 41.3478\n",
            "Epoch 90/100\n",
            "31/31 [==============================] - 0s 1ms/step - loss: 39.4156\n",
            "Epoch 91/100\n",
            "31/31 [==============================] - 0s 1ms/step - loss: 39.3829\n",
            "Epoch 92/100\n",
            "31/31 [==============================] - 0s 1ms/step - loss: 39.5739\n",
            "Epoch 93/100\n",
            "31/31 [==============================] - 0s 1ms/step - loss: 39.3369\n",
            "Epoch 94/100\n",
            "31/31 [==============================] - 0s 1ms/step - loss: 38.6323\n",
            "Epoch 95/100\n",
            "31/31 [==============================] - 0s 1ms/step - loss: 39.1463\n",
            "Epoch 96/100\n",
            "31/31 [==============================] - 0s 2ms/step - loss: 40.0607\n",
            "Epoch 97/100\n",
            "31/31 [==============================] - 0s 1ms/step - loss: 38.7802\n",
            "Epoch 98/100\n",
            "31/31 [==============================] - 0s 1ms/step - loss: 39.9333\n",
            "Epoch 99/100\n",
            "31/31 [==============================] - 0s 1ms/step - loss: 39.8849\n",
            "Epoch 100/100\n",
            "31/31 [==============================] - 0s 1ms/step - loss: 38.0089\n"
          ]
        }
      ],
      "source": [
        "# Set the training parameters\n",
        "model_tune.compile(loss=\"mse\", optimizer=optimizer)\n",
        "\n",
        "# Train the model\n",
        "history = model_tune.fit(dataset, epochs=100)"
      ]
    },
    {
      "cell_type": "markdown",
      "metadata": {
        "id": "8W-zX3LCrZc2"
      },
      "source": [
        "You can plot the `loss` values by getting it from the [History](https://www.tensorflow.org/api_docs/python/tf/keras/callbacks/History) object returned by the `fit()` method. As you can see, the model is still trending downward after the training."
      ]
    },
    {
      "cell_type": "code",
      "execution_count": 21,
      "metadata": {
        "id": "iXBMO1HM9AHX",
        "colab": {
          "base_uri": "https://localhost:8080/",
          "height": 265
        },
        "outputId": "320f8f4c-387a-4c21-ac12-fc9ef9c26112"
      },
      "outputs": [
        {
          "output_type": "display_data",
          "data": {
            "text/plain": [
              "<Figure size 432x288 with 1 Axes>"
            ],
            "image/png": "[encoded data removed]"
          },
          "metadata": {
            "needs_background": "light"
          }
        }
      ],
      "source": [
        "# Plot the loss\n",
        "loss = history.history['loss']\n",
        "epochs = range(len(loss))\n",
        "plt.plot(epochs, loss, 'b', label='Training Loss')\n",
        "plt.show()"
      ]
    },
    {
      "cell_type": "code",
      "execution_count": 22,
      "metadata": {
        "id": "xakiRU7R7WAo",
        "colab": {
          "base_uri": "https://localhost:8080/",
          "height": 267
        },
        "outputId": "f6243504-281c-47c3-9ef5-85279f0fcd5d"
      },
      "outputs": [
        {
          "output_type": "display_data",
          "data": {
            "text/plain": [
              "<Figure size 432x288 with 1 Axes>"
            ],
            "image/png": "[encoded data removed]"
          },
          "metadata": {
            "needs_background": "light"
          }
        }
      ],
      "source": [
        "# Plot all but the first 10\n",
        "loss = history.history['loss']\n",
        "epochs = range(10, len(loss))\n",
        "plot_loss = loss[10:]\n",
        "plt.plot(epochs, plot_loss, 'b', label='Training Loss')\n",
        "plt.show()"
      ]
    },
    {
      "cell_type": "markdown",
      "metadata": {
        "id": "XxDbVYFusI3O"
      },
      "source": [
        "You can get the preictions again and overlay it on the validation set."
      ]
    },
    {
      "cell_type": "code",
      "execution_count": 23,
      "metadata": {
        "id": "mIi2fTzPTJxe",
        "colab": {
          "base_uri": "https://localhost:8080/",
          "height": 388
        },
        "outputId": "2ec4b9bb-be23-47d2-f216-27213420ba03"
      },
      "outputs": [
        {
          "output_type": "display_data",
          "data": {
            "text/plain": [
              "<Figure size 720x432 with 1 Axes>"
            ],
            "image/png": "[encoded data removed]"
          },
          "metadata": {
            "needs_background": "light"
          }
        }
      ],
      "source": [
        "# Initialize a list\n",
        "forecast = []\n",
        "\n",
        "# Reduce the original series\n",
        "forecast_series = series[split_time - window_size:]\n",
        "\n",
        "# Use the model to predict data points per window size\n",
        "for time in range(len(forecast_series) - window_size):\n",
        "  forecast.append(model_tune.predict(forecast_series[time:time + window_size][np.newaxis]))\n",
        "\n",
        "# Convert to a numpy array and drop single dimensional axes\n",
        "results = np.array(forecast).squeeze()\n",
        "\n",
        "# Plot the results\n",
        "plot_series(time_valid, (x_valid, results))"
      ]
    },
    {
      "cell_type": "markdown",
      "metadata": {
        "id": "KExPe7qJsTxk"
      },
      "source": [
        "Finally, you can compute the metrics and you should arrive at similar figures compared to the baseline. If it is much worse, then the model might have overfitted and you can use techniques you know to avoid it (e.g. adding dropout)."
      ]
    },
    {
      "cell_type": "code",
      "execution_count": 24,
      "metadata": {
        "id": "W-GPjL2wv0yc",
        "colab": {
          "base_uri": "https://localhost:8080/"
        },
        "outputId": "bfa721d2-cfed-4ebc-bc78-6a6ef04342bd"
      },
      "outputs": [
        {
          "output_type": "stream",
          "name": "stdout",
          "text": [
            "46.116077\n",
            "4.9547577\n"
          ]
        }
      ],
      "source": [
        "print(tf.keras.metrics.mean_squared_error(x_valid, results).numpy())\n",
        "print(tf.keras.metrics.mean_absolute_error(x_valid, results).numpy())"
      ]
    },
    {
      "cell_type": "markdown",
      "metadata": {
        "id": "U9ViZ1Mcs11C"
      },
      "source": [
        "## Wrap Up\n",
        "\n",
        "This concludes the exercise on using a deep neural network for forecasting. Along the way, you did some hyperparameter tuning, particularly on the learning rate. You will be using this technique as well in the next labs. Next week, you will be using recurrent neural networks to build your forecasting model. See you there and keep it up!"
      ]
    }
  ],
  "metadata": {
    "colab": {
      "collapsed_sections": [],
      "name": "C4_W2_Lab_3_deep_NN.ipynb",
      "provenance": []
    },
    "kernelspec": {
      "display_name": "Python 3",
      "language": "python",
      "name": "python3"
    },
    "language_info": {
      "codemirror_mode": {
        "name": "ipython",
        "version": 3
      },
      "file_extension": ".py",
      "mimetype": "text/x-python",
      "name": "python",
      "nbconvert_exporter": "python",
      "pygments_lexer": "ipython3",
      "version": "3.7.4"
    },
    "gpuClass": "standard"
  },
  "nbformat": 4,
  "nbformat_minor": 0
}