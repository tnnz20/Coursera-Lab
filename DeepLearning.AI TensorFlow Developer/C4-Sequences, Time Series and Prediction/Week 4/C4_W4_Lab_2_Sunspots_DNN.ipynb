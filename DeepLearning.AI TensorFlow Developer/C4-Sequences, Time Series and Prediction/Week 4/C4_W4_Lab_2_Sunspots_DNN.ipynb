{
  "cells": [
    {
      "cell_type": "markdown",
      "metadata": {
        "id": "8LAlILqbGkVW"
      },
      "source": [
        "<a href=\"https://colab.research.google.com/github/https-deeplearning-ai/tensorflow-1-public/blob/main/C4/W4/ungraded_labs/C4_W4_Lab_2_Sunspots_DNN.ipynb\" target=\"_parent\"><img src=\"https://colab.research.google.com/assets/colab-badge.svg\" alt=\"Open In Colab\"/></a>"
      ]
    },
    {
      "cell_type": "markdown",
      "metadata": {
        "id": "JQsk1BKwZrBh"
      },
      "source": [
        "# Ungraded Lab: Predicting Sunspots with Neural Networks (DNN only)\n",
        "\n",
        "In the remaining labs for this week, you will move away from synthetic time series and start building models for real world data. In particular, you will train on the [Sunspots](https://www.kaggle.com/datasets/robervalt/sunspots) dataset: a monthly record of sunspot numbers from January 1749 to July 2018. You will first build a deep neural network here composed of dense layers. This will act as your baseline so you can compare it to the next lab where you will use a more complex architecture.\n",
        "\n",
        "Let's begin!"
      ]
    },
    {
      "cell_type": "markdown",
      "metadata": {
        "id": "2JHlrB12aeFD"
      },
      "source": [
        "## Imports\n",
        "\n",
        "You will use the same imports as before with the addition of the [csv](https://docs.python.org/3/library/csv.html) module. You will need this to parse the CSV file containing the dataset."
      ]
    },
    {
      "cell_type": "code",
      "execution_count": 1,
      "metadata": {
        "id": "56XEQOGknrAk"
      },
      "outputs": [],
      "source": [
        "import tensorflow as tf\n",
        "import numpy as np\n",
        "import matplotlib.pyplot as plt\n",
        "import csv"
      ]
    },
    {
      "cell_type": "markdown",
      "metadata": {
        "id": "D-mNttnaagBH"
      },
      "source": [
        "## Utilities\n",
        "\n",
        "You will only have the `plot_series()` dataset here because you no longer need the synthetic data generation functions."
      ]
    },
    {
      "cell_type": "code",
      "execution_count": 2,
      "metadata": {
        "id": "sLl52leVp5wU"
      },
      "outputs": [],
      "source": [
        "def plot_series(x, y, format=\"-\", start=0, end=None, \n",
        "                title=None, xlabel=None, ylabel=None, legend=None ):\n",
        "    \"\"\"\n",
        "    Visualizes time series data\n",
        "\n",
        "    Args:\n",
        "      x (array of int) - contains values for the x-axis\n",
        "      y (array of int or tuple of arrays) - contains the values for the y-axis\n",
        "      format (string) - line style when plotting the graph\n",
        "      label (string) - tag for the line\n",
        "      start (int) - first time step to plot\n",
        "      end (int) - last time step to plot\n",
        "      title (string) - title of the plot\n",
        "      xlabel (string) - label for the x-axis\n",
        "      ylabel (string) - label for the y-axis\n",
        "      legend (list of strings) - legend for the plot\n",
        "    \"\"\"\n",
        "\n",
        "    # Setup dimensions of the graph figure\n",
        "    plt.figure(figsize=(10, 6))\n",
        "    \n",
        "    # Check if there are more than two series to plot\n",
        "    if type(y) is tuple:\n",
        "\n",
        "      # Loop over the y elements\n",
        "      for y_curr in y:\n",
        "\n",
        "        # Plot the x and current y values\n",
        "        plt.plot(x[start:end], y_curr[start:end], format)\n",
        "\n",
        "    else:\n",
        "      # Plot the x and y values\n",
        "      plt.plot(x[start:end], y[start:end], format)\n",
        "\n",
        "    # Label the x-axis\n",
        "    plt.xlabel(xlabel)\n",
        "\n",
        "    # Label the y-axis\n",
        "    plt.ylabel(ylabel)\n",
        "\n",
        "    # Set the legend\n",
        "    if legend:\n",
        "      plt.legend(legend)\n",
        "\n",
        "    # Set the title\n",
        "    plt.title(title)\n",
        "\n",
        "    # Overlay a grid on the graph\n",
        "    plt.grid(True)\n",
        "\n",
        "    # Draw the graph on screen\n",
        "    plt.show()"
      ]
    },
    {
      "cell_type": "markdown",
      "metadata": {
        "id": "dFJv45pDauS8"
      },
      "source": [
        "## Download and Preview the Dataset\n",
        "\n",
        "You can now download the dataset and inspect the contents. The link in class is from Laurence's repo but we also hosted it in the link below."
      ]
    },
    {
      "cell_type": "code",
      "execution_count": 3,
      "metadata": {
        "id": "YwI-si5xyUkQ",
        "colab": {
          "base_uri": "https://localhost:8080/"
        },
        "outputId": "99c8bd64-9bef-41ec-d467-0321aec80077"
      },
      "outputs": [
        {
          "output_type": "stream",
          "name": "stdout",
          "text": [
            "--2022-08-03 09:48:29--  https://storage.googleapis.com/tensorflow-1-public/course4/Sunspots.csv\n",
            "Resolving storage.googleapis.com (storage.googleapis.com)... 64.233.189.128, 108.177.97.128, 108.177.125.128, ...\n",
            "Connecting to storage.googleapis.com (storage.googleapis.com)|64.233.189.128|:443... connected.\n",
            "HTTP request sent, awaiting response... 200 OK\n",
            "Length: 70827 (69K) [text/csv]\n",
            "Saving to: ‘Sunspots.csv’\n",
            "\n",
            "\rSunspots.csv          0%[                    ]       0  --.-KB/s               \rSunspots.csv        100%[===================>]  69.17K  --.-KB/s    in 0.001s  \n",
            "\n",
            "2022-08-03 09:48:29 (130 MB/s) - ‘Sunspots.csv’ saved [70827/70827]\n",
            "\n"
          ]
        }
      ],
      "source": [
        "# Download the dataset\n",
        "!wget https://storage.googleapis.com/tensorflow-1-public/course4/Sunspots.csv"
      ]
    },
    {
      "cell_type": "markdown",
      "metadata": {
        "id": "c0fAiMytrwPJ"
      },
      "source": [
        "Running the cell below, you'll see that there are only three columns in the dataset:\n",
        "1. untitled column containing the month number\n",
        "2. Date which has the format `YYYY-MM-DD`\n",
        "3. Mean Total Sunspot Number"
      ]
    },
    {
      "cell_type": "code",
      "execution_count": 4,
      "metadata": {
        "id": "d5W2auXKrhVh",
        "colab": {
          "base_uri": "https://localhost:8080/"
        },
        "outputId": "0570f964-d02f-4de3-9747-0f1bddfc3508"
      },
      "outputs": [
        {
          "output_type": "stream",
          "name": "stdout",
          "text": [
            ",Date,Monthly Mean Total Sunspot Number\r\n",
            "0,1749-01-31,96.7\r\n",
            "1,1749-02-28,104.3\r\n",
            "2,1749-03-31,116.7\r\n",
            "3,1749-04-30,92.8\r\n",
            "4,1749-05-31,141.7\r\n",
            "5,1749-06-30,139.2\r\n",
            "6,1749-07-31,158.0\r\n",
            "7,1749-08-31,110.5\r\n",
            "8,1749-09-30,126.5\r\n"
          ]
        }
      ],
      "source": [
        "# Preview the dataset\n",
        "!head Sunspots.csv"
      ]
    },
    {
      "cell_type": "markdown",
      "metadata": {
        "id": "lbs-Y2SDsVaw"
      },
      "source": [
        "For this lab and the next, you will only need the month number and the mean total sunspot number. You will load those into memory and convert it to arrays that represents a time series."
      ]
    },
    {
      "cell_type": "code",
      "execution_count": 5,
      "metadata": {
        "id": "NcG9r1eClbTh",
        "colab": {
          "base_uri": "https://localhost:8080/",
          "height": 388
        },
        "outputId": "aa691ed1-da9b-4c1c-816e-0e3a01207ec6"
      },
      "outputs": [
        {
          "output_type": "display_data",
          "data": {
            "text/plain": [
              "<Figure size 720x432 with 1 Axes>"
            ],
            "image/png": "[encoded data removed]"
          },
          "metadata": {
            "needs_background": "light"
          }
        }
      ],
      "source": [
        "# Initialize lists\n",
        "time_step = []\n",
        "sunspots = []\n",
        "\n",
        "# Open CSV file\n",
        "with open('./Sunspots.csv') as csvfile:\n",
        "  \n",
        "  # Initialize reader\n",
        "  reader = csv.reader(csvfile, delimiter=',')\n",
        "  \n",
        "  # Skip the first line\n",
        "  next(reader)\n",
        "  \n",
        "  # Append row and sunspot number to lists\n",
        "  for row in reader:\n",
        "    time_step.append(int(row[0]))\n",
        "    sunspots.append(float(row[2]))\n",
        "\n",
        "# Convert lists to numpy arrays\n",
        "time = np.array(time_step)\n",
        "series = np.array(sunspots)\n",
        "\n",
        "# Preview the data\n",
        "plot_series(time, series, xlabel='Month', ylabel='Monthly Mean Total Sunspot Number')"
      ]
    },
    {
      "cell_type": "markdown",
      "metadata": {
        "id": "EUQE9RRoazC5"
      },
      "source": [
        "## Split the Dataset\n",
        "\n",
        "Next, you will split the dataset into training and validation sets. There are 3235 points in the dataset and you will use the first 3000 for training."
      ]
    },
    {
      "cell_type": "code",
      "execution_count": 6,
      "metadata": {
        "id": "L92YRw_IpCFG"
      },
      "outputs": [],
      "source": [
        "# Define the split time\n",
        "split_time = 3000\n",
        "\n",
        "# Get the train set \n",
        "time_train = time[:split_time]\n",
        "x_train = series[:split_time]\n",
        "\n",
        "# Get the validation set\n",
        "time_valid = time[split_time:]\n",
        "x_valid = series[split_time:]"
      ]
    },
    {
      "cell_type": "markdown",
      "metadata": {
        "id": "RbuIOrb3a093"
      },
      "source": [
        "## Prepare Features and Labels\n",
        "\n",
        "You can then prepare the dataset windows as before. The window size is set to 30 points (equal to 2.5 years) but feel free to change later on if you want to experiment."
      ]
    },
    {
      "cell_type": "code",
      "execution_count": 7,
      "metadata": {
        "id": "lJwUUZscnG38"
      },
      "outputs": [],
      "source": [
        "def windowed_dataset(series, window_size, batch_size, shuffle_buffer):\n",
        "    \"\"\"Generates dataset windows\n",
        "\n",
        "    Args:\n",
        "      series (array of float) - contains the values of the time series\n",
        "      window_size (int) - the number of time steps to include in the feature\n",
        "      batch_size (int) - the batch size\n",
        "      shuffle_buffer(int) - buffer size to use for the shuffle method\n",
        "\n",
        "    Returns:\n",
        "      dataset (TF Dataset) - TF Dataset containing time windows\n",
        "    \"\"\"\n",
        "  \n",
        "    # Generate a TF Dataset from the series values\n",
        "    dataset = tf.data.Dataset.from_tensor_slices(series)\n",
        "    \n",
        "    # Window the data but only take those with the specified size\n",
        "    dataset = dataset.window(window_size + 1, shift=1, drop_remainder=True)\n",
        "    \n",
        "    # Flatten the windows by putting its elements in a single batch\n",
        "    dataset = dataset.flat_map(lambda window: window.batch(window_size + 1))\n",
        "\n",
        "    # Create tuples with features and labels \n",
        "    dataset = dataset.map(lambda window: (window[:-1], window[-1]))\n",
        "\n",
        "    # Shuffle the windows\n",
        "    dataset = dataset.shuffle(shuffle_buffer)\n",
        "    \n",
        "    # Create batches of windows\n",
        "    dataset = dataset.batch(batch_size).prefetch(1)\n",
        "    \n",
        "    return dataset"
      ]
    },
    {
      "cell_type": "code",
      "execution_count": 8,
      "metadata": {
        "id": "9g5zSxZwZQt_"
      },
      "outputs": [],
      "source": [
        "# Parameters\n",
        "window_size = 30\n",
        "batch_size = 32\n",
        "shuffle_buffer_size = 1000\n",
        "\n",
        "# Generate the dataset windows\n",
        "train_set = windowed_dataset(x_train, window_size, batch_size, shuffle_buffer_size)"
      ]
    },
    {
      "cell_type": "markdown",
      "metadata": {
        "id": "_Lhpi42ta5yP"
      },
      "source": [
        "## Build the Model\n",
        "\n",
        "The model will be 3-layer dense network as shown below."
      ]
    },
    {
      "cell_type": "code",
      "execution_count": 9,
      "metadata": {
        "id": "AclfYY3Mn6Ph",
        "colab": {
          "base_uri": "https://localhost:8080/"
        },
        "outputId": "69fcba19-0994-49c4-e9b9-bd68bf57218f"
      },
      "outputs": [
        {
          "output_type": "stream",
          "name": "stdout",
          "text": [
            "Model: \"sequential\"\n",
            "_________________________________________________________________\n",
            " Layer (type)                Output Shape              Param #   \n",
            "=================================================================\n",
            " dense (Dense)               (None, 30)                930       \n",
            "                                                                 \n",
            " dense_1 (Dense)             (None, 10)                310       \n",
            "                                                                 \n",
            " dense_2 (Dense)             (None, 1)                 11        \n",
            "                                                                 \n",
            "=================================================================\n",
            "Total params: 1,251\n",
            "Trainable params: 1,251\n",
            "Non-trainable params: 0\n",
            "_________________________________________________________________\n"
          ]
        }
      ],
      "source": [
        "# Build the model\n",
        "model = tf.keras.models.Sequential([\n",
        "    tf.keras.layers.Dense(30, input_shape=[window_size], activation=\"relu\"), \n",
        "    tf.keras.layers.Dense(10, activation=\"relu\"),\n",
        "    tf.keras.layers.Dense(1)\n",
        "])\n",
        "\n",
        "# Print the model summary\n",
        "model.summary()"
      ]
    },
    {
      "cell_type": "markdown",
      "metadata": {
        "id": "uyT14hQOa97V"
      },
      "source": [
        "## Tune the Learning Rate\n",
        "\n",
        "You can pick a learning rate by running the same learning rate scheduler code from previous labs."
      ]
    },
    {
      "cell_type": "code",
      "execution_count": 10,
      "metadata": {
        "id": "GXiqsZQ1y4nD",
        "colab": {
          "base_uri": "https://localhost:8080/"
        },
        "outputId": "63204c12-b66b-4b40-cbcc-0bcfad5bc190"
      },
      "outputs": [
        {
          "output_type": "stream",
          "name": "stdout",
          "text": [
            "Epoch 1/100\n",
            "93/93 [==============================] - 2s 8ms/step - loss: 74.5785 - lr: 1.0000e-08\n",
            "Epoch 2/100\n",
            "93/93 [==============================] - 1s 4ms/step - loss: 73.3633 - lr: 1.1220e-08\n",
            "Epoch 3/100\n",
            "93/93 [==============================] - 1s 4ms/step - loss: 71.9895 - lr: 1.2589e-08\n",
            "Epoch 4/100\n",
            "93/93 [==============================] - 1s 5ms/step - loss: 70.4548 - lr: 1.4125e-08\n",
            "Epoch 5/100\n",
            "93/93 [==============================] - 1s 5ms/step - loss: 68.7392 - lr: 1.5849e-08\n",
            "Epoch 6/100\n",
            "93/93 [==============================] - 1s 8ms/step - loss: 66.8339 - lr: 1.7783e-08\n",
            "Epoch 7/100\n",
            "93/93 [==============================] - 1s 9ms/step - loss: 64.7442 - lr: 1.9953e-08\n",
            "Epoch 8/100\n",
            "93/93 [==============================] - 1s 10ms/step - loss: 62.4709 - lr: 2.2387e-08\n",
            "Epoch 9/100\n",
            "93/93 [==============================] - 1s 10ms/step - loss: 60.0400 - lr: 2.5119e-08\n",
            "Epoch 10/100\n",
            "93/93 [==============================] - 1s 11ms/step - loss: 57.5441 - lr: 2.8184e-08\n",
            "Epoch 11/100\n",
            "93/93 [==============================] - 1s 9ms/step - loss: 55.0370 - lr: 3.1623e-08\n",
            "Epoch 12/100\n",
            "93/93 [==============================] - 1s 9ms/step - loss: 52.6045 - lr: 3.5481e-08\n",
            "Epoch 13/100\n",
            "93/93 [==============================] - 1s 9ms/step - loss: 50.3649 - lr: 3.9811e-08\n",
            "Epoch 14/100\n",
            "93/93 [==============================] - 1s 8ms/step - loss: 48.3321 - lr: 4.4668e-08\n",
            "Epoch 15/100\n",
            "93/93 [==============================] - 1s 10ms/step - loss: 46.5714 - lr: 5.0119e-08\n",
            "Epoch 16/100\n",
            "93/93 [==============================] - 1s 8ms/step - loss: 45.1326 - lr: 5.6234e-08\n",
            "Epoch 17/100\n",
            "93/93 [==============================] - 1s 9ms/step - loss: 44.0333 - lr: 6.3096e-08\n",
            "Epoch 18/100\n",
            "93/93 [==============================] - 1s 9ms/step - loss: 43.1544 - lr: 7.0795e-08\n",
            "Epoch 19/100\n",
            "93/93 [==============================] - 1s 9ms/step - loss: 42.3557 - lr: 7.9433e-08\n",
            "Epoch 20/100\n",
            "93/93 [==============================] - 1s 4ms/step - loss: 41.5843 - lr: 8.9125e-08\n",
            "Epoch 21/100\n",
            "93/93 [==============================] - 1s 4ms/step - loss: 40.7905 - lr: 1.0000e-07\n",
            "Epoch 22/100\n",
            "93/93 [==============================] - 1s 4ms/step - loss: 39.9455 - lr: 1.1220e-07\n",
            "Epoch 23/100\n",
            "93/93 [==============================] - 1s 4ms/step - loss: 39.0523 - lr: 1.2589e-07\n",
            "Epoch 24/100\n",
            "93/93 [==============================] - 1s 4ms/step - loss: 38.1201 - lr: 1.4125e-07\n",
            "Epoch 25/100\n",
            "93/93 [==============================] - 1s 4ms/step - loss: 37.1263 - lr: 1.5849e-07\n",
            "Epoch 26/100\n",
            "93/93 [==============================] - 1s 4ms/step - loss: 36.0708 - lr: 1.7783e-07\n",
            "Epoch 27/100\n",
            "93/93 [==============================] - 0s 4ms/step - loss: 34.9411 - lr: 1.9953e-07\n",
            "Epoch 28/100\n",
            "93/93 [==============================] - 1s 4ms/step - loss: 33.7929 - lr: 2.2387e-07\n",
            "Epoch 29/100\n",
            "93/93 [==============================] - 1s 5ms/step - loss: 32.6647 - lr: 2.5119e-07\n",
            "Epoch 30/100\n",
            "93/93 [==============================] - 1s 4ms/step - loss: 31.5367 - lr: 2.8184e-07\n",
            "Epoch 31/100\n",
            "93/93 [==============================] - 1s 4ms/step - loss: 30.4202 - lr: 3.1623e-07\n",
            "Epoch 32/100\n",
            "93/93 [==============================] - 1s 4ms/step - loss: 29.3777 - lr: 3.5481e-07\n",
            "Epoch 33/100\n",
            "93/93 [==============================] - 1s 5ms/step - loss: 28.3524 - lr: 3.9811e-07\n",
            "Epoch 34/100\n",
            "93/93 [==============================] - 1s 4ms/step - loss: 27.3643 - lr: 4.4668e-07\n",
            "Epoch 35/100\n",
            "93/93 [==============================] - 1s 4ms/step - loss: 26.4598 - lr: 5.0119e-07\n",
            "Epoch 36/100\n",
            "93/93 [==============================] - 1s 5ms/step - loss: 25.6079 - lr: 5.6234e-07\n",
            "Epoch 37/100\n",
            "93/93 [==============================] - 1s 4ms/step - loss: 24.8257 - lr: 6.3096e-07\n",
            "Epoch 38/100\n",
            "93/93 [==============================] - 1s 5ms/step - loss: 24.1990 - lr: 7.0795e-07\n",
            "Epoch 39/100\n",
            "93/93 [==============================] - 1s 4ms/step - loss: 23.6097 - lr: 7.9433e-07\n",
            "Epoch 40/100\n",
            "93/93 [==============================] - 1s 4ms/step - loss: 23.1023 - lr: 8.9125e-07\n",
            "Epoch 41/100\n",
            "93/93 [==============================] - 1s 4ms/step - loss: 22.6277 - lr: 1.0000e-06\n",
            "Epoch 42/100\n",
            "93/93 [==============================] - 1s 4ms/step - loss: 22.2024 - lr: 1.1220e-06\n",
            "Epoch 43/100\n",
            "93/93 [==============================] - 1s 4ms/step - loss: 21.7920 - lr: 1.2589e-06\n",
            "Epoch 44/100\n",
            "93/93 [==============================] - 1s 4ms/step - loss: 21.4114 - lr: 1.4125e-06\n",
            "Epoch 45/100\n",
            "93/93 [==============================] - 1s 4ms/step - loss: 21.0692 - lr: 1.5849e-06\n",
            "Epoch 46/100\n",
            "93/93 [==============================] - 1s 4ms/step - loss: 20.7055 - lr: 1.7783e-06\n",
            "Epoch 47/100\n",
            "93/93 [==============================] - 1s 4ms/step - loss: 20.4444 - lr: 1.9953e-06\n",
            "Epoch 48/100\n",
            "93/93 [==============================] - 1s 4ms/step - loss: 20.2088 - lr: 2.2387e-06\n",
            "Epoch 49/100\n",
            "93/93 [==============================] - 0s 4ms/step - loss: 19.9645 - lr: 2.5119e-06\n",
            "Epoch 50/100\n",
            "93/93 [==============================] - 1s 5ms/step - loss: 19.7335 - lr: 2.8184e-06\n",
            "Epoch 51/100\n",
            "93/93 [==============================] - 1s 4ms/step - loss: 19.5694 - lr: 3.1623e-06\n",
            "Epoch 52/100\n",
            "93/93 [==============================] - 1s 4ms/step - loss: 19.3270 - lr: 3.5481e-06\n",
            "Epoch 53/100\n",
            "93/93 [==============================] - 1s 5ms/step - loss: 19.2215 - lr: 3.9811e-06\n",
            "Epoch 54/100\n",
            "93/93 [==============================] - 1s 4ms/step - loss: 19.0022 - lr: 4.4668e-06\n",
            "Epoch 55/100\n",
            "93/93 [==============================] - 1s 4ms/step - loss: 18.9093 - lr: 5.0119e-06\n",
            "Epoch 56/100\n",
            "93/93 [==============================] - 1s 4ms/step - loss: 18.6865 - lr: 5.6234e-06\n",
            "Epoch 57/100\n",
            "93/93 [==============================] - 1s 4ms/step - loss: 18.5454 - lr: 6.3096e-06\n",
            "Epoch 58/100\n",
            "93/93 [==============================] - 1s 5ms/step - loss: 18.3501 - lr: 7.0795e-06\n",
            "Epoch 59/100\n",
            "93/93 [==============================] - 1s 4ms/step - loss: 18.1861 - lr: 7.9433e-06\n",
            "Epoch 60/100\n",
            "93/93 [==============================] - 1s 4ms/step - loss: 18.1061 - lr: 8.9125e-06\n",
            "Epoch 61/100\n",
            "93/93 [==============================] - 1s 4ms/step - loss: 17.9213 - lr: 1.0000e-05\n",
            "Epoch 62/100\n",
            "93/93 [==============================] - 1s 4ms/step - loss: 17.8211 - lr: 1.1220e-05\n",
            "Epoch 63/100\n",
            "93/93 [==============================] - 1s 4ms/step - loss: 17.7447 - lr: 1.2589e-05\n",
            "Epoch 64/100\n",
            "93/93 [==============================] - 1s 4ms/step - loss: 17.9323 - lr: 1.4125e-05\n",
            "Epoch 65/100\n",
            "93/93 [==============================] - 1s 5ms/step - loss: 17.6358 - lr: 1.5849e-05\n",
            "Epoch 66/100\n",
            "93/93 [==============================] - 1s 4ms/step - loss: 17.8164 - lr: 1.7783e-05\n",
            "Epoch 67/100\n",
            "93/93 [==============================] - 1s 4ms/step - loss: 17.9166 - lr: 1.9953e-05\n",
            "Epoch 68/100\n",
            "93/93 [==============================] - 1s 4ms/step - loss: 17.5696 - lr: 2.2387e-05\n",
            "Epoch 69/100\n",
            "93/93 [==============================] - 1s 4ms/step - loss: 17.9346 - lr: 2.5119e-05\n",
            "Epoch 70/100\n",
            "93/93 [==============================] - 1s 4ms/step - loss: 17.5465 - lr: 2.8184e-05\n",
            "Epoch 71/100\n",
            "93/93 [==============================] - 1s 5ms/step - loss: 17.5871 - lr: 3.1623e-05\n",
            "Epoch 72/100\n",
            "93/93 [==============================] - 1s 4ms/step - loss: 18.0570 - lr: 3.5481e-05\n",
            "Epoch 73/100\n",
            "93/93 [==============================] - 1s 4ms/step - loss: 17.6679 - lr: 3.9811e-05\n",
            "Epoch 74/100\n",
            "93/93 [==============================] - 1s 4ms/step - loss: 17.4817 - lr: 4.4668e-05\n",
            "Epoch 75/100\n",
            "93/93 [==============================] - 1s 4ms/step - loss: 17.8752 - lr: 5.0119e-05\n",
            "Epoch 76/100\n",
            "93/93 [==============================] - 1s 4ms/step - loss: 18.2352 - lr: 5.6234e-05\n",
            "Epoch 77/100\n",
            "93/93 [==============================] - 1s 4ms/step - loss: 17.4928 - lr: 6.3096e-05\n",
            "Epoch 78/100\n",
            "93/93 [==============================] - 1s 4ms/step - loss: 17.5670 - lr: 7.0795e-05\n",
            "Epoch 79/100\n",
            "93/93 [==============================] - 1s 4ms/step - loss: 17.8542 - lr: 7.9433e-05\n",
            "Epoch 80/100\n",
            "93/93 [==============================] - 1s 4ms/step - loss: 17.5764 - lr: 8.9125e-05\n",
            "Epoch 81/100\n",
            "93/93 [==============================] - 1s 4ms/step - loss: 18.1579 - lr: 1.0000e-04\n",
            "Epoch 82/100\n",
            "93/93 [==============================] - 1s 5ms/step - loss: 17.9422 - lr: 1.1220e-04\n",
            "Epoch 83/100\n",
            "93/93 [==============================] - 1s 4ms/step - loss: 18.2544 - lr: 1.2589e-04\n",
            "Epoch 84/100\n",
            "93/93 [==============================] - 1s 5ms/step - loss: 18.3940 - lr: 1.4125e-04\n",
            "Epoch 85/100\n",
            "93/93 [==============================] - 1s 4ms/step - loss: 18.8765 - lr: 1.5849e-04\n",
            "Epoch 86/100\n",
            "93/93 [==============================] - 1s 4ms/step - loss: 18.3491 - lr: 1.7783e-04\n",
            "Epoch 87/100\n",
            "93/93 [==============================] - 1s 4ms/step - loss: 18.9869 - lr: 1.9953e-04\n",
            "Epoch 88/100\n",
            "93/93 [==============================] - 1s 4ms/step - loss: 18.7534 - lr: 2.2387e-04\n",
            "Epoch 89/100\n",
            "93/93 [==============================] - 1s 4ms/step - loss: 20.0838 - lr: 2.5119e-04\n",
            "Epoch 90/100\n",
            "93/93 [==============================] - 1s 4ms/step - loss: 19.7351 - lr: 2.8184e-04\n",
            "Epoch 91/100\n",
            "93/93 [==============================] - 1s 4ms/step - loss: 19.5161 - lr: 3.1623e-04\n",
            "Epoch 92/100\n",
            "93/93 [==============================] - 1s 4ms/step - loss: 19.1977 - lr: 3.5481e-04\n",
            "Epoch 93/100\n",
            "93/93 [==============================] - 1s 4ms/step - loss: 19.2286 - lr: 3.9811e-04\n",
            "Epoch 94/100\n",
            "93/93 [==============================] - 1s 4ms/step - loss: 19.4018 - lr: 4.4668e-04\n",
            "Epoch 95/100\n",
            "93/93 [==============================] - 1s 4ms/step - loss: 19.6335 - lr: 5.0119e-04\n",
            "Epoch 96/100\n",
            "93/93 [==============================] - 1s 5ms/step - loss: 22.9734 - lr: 5.6234e-04\n",
            "Epoch 97/100\n",
            "93/93 [==============================] - 1s 4ms/step - loss: 25.4505 - lr: 6.3096e-04\n",
            "Epoch 98/100\n",
            "93/93 [==============================] - 1s 5ms/step - loss: 24.4195 - lr: 7.0795e-04\n",
            "Epoch 99/100\n",
            "93/93 [==============================] - 1s 5ms/step - loss: 27.2638 - lr: 7.9433e-04\n",
            "Epoch 100/100\n",
            "93/93 [==============================] - 1s 4ms/step - loss: 29.3516 - lr: 8.9125e-04\n"
          ]
        }
      ],
      "source": [
        "# Set the learning rate scheduler\n",
        "lr_schedule = tf.keras.callbacks.LearningRateScheduler(\n",
        "    lambda epoch: 1e-8 * 10**(epoch / 20))\n",
        "\n",
        "# Initialize the optimizer\n",
        "optimizer = tf.keras.optimizers.SGD(momentum=0.9)\n",
        "\n",
        "# Set the training parameters\n",
        "model.compile(loss=tf.keras.losses.Huber(), optimizer=optimizer)\n",
        "\n",
        "# Train the model\n",
        "history = model.fit(train_set, epochs=100, callbacks=[lr_schedule])"
      ]
    },
    {
      "cell_type": "code",
      "execution_count": 11,
      "metadata": {
        "id": "xJFAB1NTzGJV",
        "colab": {
          "base_uri": "https://localhost:8080/",
          "height": 405
        },
        "outputId": "0ed4ac22-b35c-43d1-a007-5e000755bd80"
      },
      "outputs": [
        {
          "output_type": "execute_result",
          "data": {
            "text/plain": [
              "(1e-08, 0.001, 0.0, 100.0)"
            ]
          },
          "metadata": {},
          "execution_count": 11
        },
        {
          "output_type": "display_data",
          "data": {
            "text/plain": [
              "<Figure size 720x432 with 1 Axes>"
            ],
            "image/png": "[encoded data removed]"
          },
          "metadata": {
            "needs_background": "light"
          }
        }
      ],
      "source": [
        "# Define the learning rate array\n",
        "lrs = 1e-8 * (10 ** (np.arange(100) / 20))\n",
        "\n",
        "# Set the figure size\n",
        "plt.figure(figsize=(10, 6))\n",
        "\n",
        "# Set the grid\n",
        "plt.grid(True)\n",
        "\n",
        "# Plot the loss in log scale\n",
        "plt.semilogx(lrs, history.history[\"loss\"])\n",
        "\n",
        "# Increase the tickmarks size\n",
        "plt.tick_params('both', length=10, width=1, which='both')\n",
        "\n",
        "# Set the plot boundaries\n",
        "plt.axis([1e-8, 1e-3, 0, 100])"
      ]
    },
    {
      "cell_type": "markdown",
      "metadata": {
        "id": "oY4mnUpNbFdc"
      },
      "source": [
        "## Train the Model\n",
        "\n",
        "Once you've picked a learning rate, you can rebuild the model and start training."
      ]
    },
    {
      "cell_type": "code",
      "execution_count": 12,
      "metadata": {
        "id": "Ngna3zR4znJd"
      },
      "outputs": [],
      "source": [
        "# Reset states generated by Keras\n",
        "tf.keras.backend.clear_session()\n",
        "\n",
        "# Build the Model\n",
        "model = tf.keras.models.Sequential([\n",
        "    tf.keras.layers.Dense(30, input_shape=[window_size], activation=\"relu\"), \n",
        "    tf.keras.layers.Dense(10, activation=\"relu\"),\n",
        "    tf.keras.layers.Dense(1)\n",
        "])"
      ]
    },
    {
      "cell_type": "code",
      "execution_count": 13,
      "metadata": {
        "id": "7FKXvEYxzuoc",
        "colab": {
          "base_uri": "https://localhost:8080/"
        },
        "outputId": "e62b7046-3ee2-4153-891f-d32433a9bdf8"
      },
      "outputs": [
        {
          "output_type": "stream",
          "name": "stdout",
          "text": [
            "Epoch 1/100\n",
            "93/93 [==============================] - 1s 5ms/step - loss: 30.1276 - mae: 30.6227\n",
            "Epoch 2/100\n",
            "93/93 [==============================] - 1s 4ms/step - loss: 20.9894 - mae: 21.4832\n",
            "Epoch 3/100\n",
            "93/93 [==============================] - 1s 4ms/step - loss: 19.5205 - mae: 20.0150\n",
            "Epoch 4/100\n",
            "93/93 [==============================] - 1s 5ms/step - loss: 18.8833 - mae: 19.3753\n",
            "Epoch 5/100\n",
            "93/93 [==============================] - 1s 4ms/step - loss: 18.2708 - mae: 18.7627\n",
            "Epoch 6/100\n",
            "93/93 [==============================] - 1s 4ms/step - loss: 18.1026 - mae: 18.5946\n",
            "Epoch 7/100\n",
            "93/93 [==============================] - 1s 4ms/step - loss: 17.9445 - mae: 18.4355\n",
            "Epoch 8/100\n",
            "93/93 [==============================] - 1s 4ms/step - loss: 17.7934 - mae: 18.2852\n",
            "Epoch 9/100\n",
            "93/93 [==============================] - 1s 4ms/step - loss: 17.9468 - mae: 18.4390\n",
            "Epoch 10/100\n",
            "93/93 [==============================] - 1s 4ms/step - loss: 17.5444 - mae: 18.0360\n",
            "Epoch 11/100\n",
            "93/93 [==============================] - 1s 4ms/step - loss: 17.4996 - mae: 17.9910\n",
            "Epoch 12/100\n",
            "93/93 [==============================] - 1s 4ms/step - loss: 17.8747 - mae: 18.3663\n",
            "Epoch 13/100\n",
            "93/93 [==============================] - 1s 4ms/step - loss: 17.6444 - mae: 18.1367\n",
            "Epoch 14/100\n",
            "93/93 [==============================] - 1s 4ms/step - loss: 17.4511 - mae: 17.9432\n",
            "Epoch 15/100\n",
            "93/93 [==============================] - 1s 4ms/step - loss: 17.3700 - mae: 17.8634\n",
            "Epoch 16/100\n",
            "93/93 [==============================] - 1s 4ms/step - loss: 17.2318 - mae: 17.7232\n",
            "Epoch 17/100\n",
            "93/93 [==============================] - 1s 4ms/step - loss: 17.3008 - mae: 17.7927\n",
            "Epoch 18/100\n",
            "93/93 [==============================] - 1s 4ms/step - loss: 17.4957 - mae: 17.9884\n",
            "Epoch 19/100\n",
            "93/93 [==============================] - 1s 4ms/step - loss: 17.1994 - mae: 17.6904\n",
            "Epoch 20/100\n",
            "93/93 [==============================] - 1s 4ms/step - loss: 17.0843 - mae: 17.5755\n",
            "Epoch 21/100\n",
            "93/93 [==============================] - 1s 4ms/step - loss: 17.0092 - mae: 17.5018\n",
            "Epoch 22/100\n",
            "93/93 [==============================] - 1s 4ms/step - loss: 17.1009 - mae: 17.5931\n",
            "Epoch 23/100\n",
            "93/93 [==============================] - 1s 4ms/step - loss: 17.7896 - mae: 18.2813\n",
            "Epoch 24/100\n",
            "93/93 [==============================] - 1s 4ms/step - loss: 17.0776 - mae: 17.5705\n",
            "Epoch 25/100\n",
            "93/93 [==============================] - 1s 4ms/step - loss: 16.9604 - mae: 17.4526\n",
            "Epoch 26/100\n",
            "93/93 [==============================] - 1s 4ms/step - loss: 17.1850 - mae: 17.6770\n",
            "Epoch 27/100\n",
            "93/93 [==============================] - 1s 4ms/step - loss: 17.2127 - mae: 17.7040\n",
            "Epoch 28/100\n",
            "93/93 [==============================] - 1s 5ms/step - loss: 17.0164 - mae: 17.5084\n",
            "Epoch 29/100\n",
            "93/93 [==============================] - 1s 4ms/step - loss: 16.9036 - mae: 17.3946\n",
            "Epoch 30/100\n",
            "93/93 [==============================] - 1s 5ms/step - loss: 16.8461 - mae: 17.3380\n",
            "Epoch 31/100\n",
            "93/93 [==============================] - 1s 4ms/step - loss: 16.9912 - mae: 17.4826\n",
            "Epoch 32/100\n",
            "93/93 [==============================] - 1s 4ms/step - loss: 16.9183 - mae: 17.4107\n",
            "Epoch 33/100\n",
            "93/93 [==============================] - 1s 4ms/step - loss: 16.9199 - mae: 17.4122\n",
            "Epoch 34/100\n",
            "93/93 [==============================] - 1s 4ms/step - loss: 17.0344 - mae: 17.5262\n",
            "Epoch 35/100\n",
            "93/93 [==============================] - 1s 4ms/step - loss: 16.8944 - mae: 17.3862\n",
            "Epoch 36/100\n",
            "93/93 [==============================] - 1s 4ms/step - loss: 16.9338 - mae: 17.4257\n",
            "Epoch 37/100\n",
            "93/93 [==============================] - 1s 4ms/step - loss: 17.2460 - mae: 17.7370\n",
            "Epoch 38/100\n",
            "93/93 [==============================] - 1s 4ms/step - loss: 16.8634 - mae: 17.3545\n",
            "Epoch 39/100\n",
            "93/93 [==============================] - 1s 4ms/step - loss: 16.7661 - mae: 17.2569\n",
            "Epoch 40/100\n",
            "93/93 [==============================] - 1s 4ms/step - loss: 16.9243 - mae: 17.4148\n",
            "Epoch 41/100\n",
            "93/93 [==============================] - 1s 4ms/step - loss: 16.9182 - mae: 17.4100\n",
            "Epoch 42/100\n",
            "93/93 [==============================] - 1s 4ms/step - loss: 17.1653 - mae: 17.6562\n",
            "Epoch 43/100\n",
            "93/93 [==============================] - 1s 4ms/step - loss: 16.8153 - mae: 17.3075\n",
            "Epoch 44/100\n",
            "93/93 [==============================] - 1s 4ms/step - loss: 16.8098 - mae: 17.3027\n",
            "Epoch 45/100\n",
            "93/93 [==============================] - 1s 4ms/step - loss: 16.8784 - mae: 17.3693\n",
            "Epoch 46/100\n",
            "93/93 [==============================] - 1s 4ms/step - loss: 16.9065 - mae: 17.3977\n",
            "Epoch 47/100\n",
            "93/93 [==============================] - 1s 4ms/step - loss: 16.8428 - mae: 17.3339\n",
            "Epoch 48/100\n",
            "93/93 [==============================] - 0s 4ms/step - loss: 16.8123 - mae: 17.3041\n",
            "Epoch 49/100\n",
            "93/93 [==============================] - 1s 4ms/step - loss: 16.9810 - mae: 17.4720\n",
            "Epoch 50/100\n",
            "93/93 [==============================] - 1s 5ms/step - loss: 16.8093 - mae: 17.3011\n",
            "Epoch 51/100\n",
            "93/93 [==============================] - 1s 4ms/step - loss: 16.7074 - mae: 17.1991\n",
            "Epoch 52/100\n",
            "93/93 [==============================] - 1s 4ms/step - loss: 16.7952 - mae: 17.2865\n",
            "Epoch 53/100\n",
            "93/93 [==============================] - 1s 4ms/step - loss: 16.8970 - mae: 17.3881\n",
            "Epoch 54/100\n",
            "93/93 [==============================] - 1s 4ms/step - loss: 16.7148 - mae: 17.2064\n",
            "Epoch 55/100\n",
            "93/93 [==============================] - 1s 4ms/step - loss: 16.9096 - mae: 17.4010\n",
            "Epoch 56/100\n",
            "93/93 [==============================] - 1s 4ms/step - loss: 16.8517 - mae: 17.3429\n",
            "Epoch 57/100\n",
            "93/93 [==============================] - 1s 4ms/step - loss: 17.0087 - mae: 17.5002\n",
            "Epoch 58/100\n",
            "93/93 [==============================] - 1s 5ms/step - loss: 16.7923 - mae: 17.2836\n",
            "Epoch 59/100\n",
            "93/93 [==============================] - 1s 5ms/step - loss: 16.8062 - mae: 17.2974\n",
            "Epoch 60/100\n",
            "93/93 [==============================] - 1s 5ms/step - loss: 17.0080 - mae: 17.4994\n",
            "Epoch 61/100\n",
            "93/93 [==============================] - 1s 5ms/step - loss: 16.9326 - mae: 17.4231\n",
            "Epoch 62/100\n",
            "93/93 [==============================] - 1s 4ms/step - loss: 16.8239 - mae: 17.3147\n",
            "Epoch 63/100\n",
            "93/93 [==============================] - 1s 4ms/step - loss: 16.8659 - mae: 17.3563\n",
            "Epoch 64/100\n",
            "93/93 [==============================] - 1s 4ms/step - loss: 16.7197 - mae: 17.2118\n",
            "Epoch 65/100\n",
            "93/93 [==============================] - 1s 5ms/step - loss: 16.8343 - mae: 17.3245\n",
            "Epoch 66/100\n",
            "93/93 [==============================] - 1s 5ms/step - loss: 16.7492 - mae: 17.2391\n",
            "Epoch 67/100\n",
            "93/93 [==============================] - 1s 5ms/step - loss: 16.7843 - mae: 17.2752\n",
            "Epoch 68/100\n",
            "93/93 [==============================] - 1s 4ms/step - loss: 16.7921 - mae: 17.2835\n",
            "Epoch 69/100\n",
            "93/93 [==============================] - 1s 5ms/step - loss: 16.6810 - mae: 17.1720\n",
            "Epoch 70/100\n",
            "93/93 [==============================] - 1s 5ms/step - loss: 16.7976 - mae: 17.2877\n",
            "Epoch 71/100\n",
            "93/93 [==============================] - 1s 5ms/step - loss: 16.6989 - mae: 17.1906\n",
            "Epoch 72/100\n",
            "93/93 [==============================] - 1s 5ms/step - loss: 16.6875 - mae: 17.1771\n",
            "Epoch 73/100\n",
            "93/93 [==============================] - 1s 4ms/step - loss: 16.6635 - mae: 17.1557\n",
            "Epoch 74/100\n",
            "93/93 [==============================] - 1s 5ms/step - loss: 16.6624 - mae: 17.1544\n",
            "Epoch 75/100\n",
            "93/93 [==============================] - 1s 5ms/step - loss: 16.7050 - mae: 17.1957\n",
            "Epoch 76/100\n",
            "93/93 [==============================] - 1s 4ms/step - loss: 16.6071 - mae: 17.0980\n",
            "Epoch 77/100\n",
            "93/93 [==============================] - 1s 4ms/step - loss: 16.7050 - mae: 17.1964\n",
            "Epoch 78/100\n",
            "93/93 [==============================] - 1s 4ms/step - loss: 16.6835 - mae: 17.1759\n",
            "Epoch 79/100\n",
            "93/93 [==============================] - 1s 4ms/step - loss: 16.6399 - mae: 17.1313\n",
            "Epoch 80/100\n",
            "93/93 [==============================] - 1s 4ms/step - loss: 16.7903 - mae: 17.2821\n",
            "Epoch 81/100\n",
            "93/93 [==============================] - 1s 10ms/step - loss: 16.6575 - mae: 17.1482\n",
            "Epoch 82/100\n",
            "93/93 [==============================] - 1s 10ms/step - loss: 16.6372 - mae: 17.1287\n",
            "Epoch 83/100\n",
            "93/93 [==============================] - 1s 7ms/step - loss: 16.5554 - mae: 17.0468\n",
            "Epoch 84/100\n",
            "93/93 [==============================] - 1s 4ms/step - loss: 16.6731 - mae: 17.1641\n",
            "Epoch 85/100\n",
            "93/93 [==============================] - 1s 5ms/step - loss: 16.6445 - mae: 17.1357\n",
            "Epoch 86/100\n",
            "93/93 [==============================] - 1s 4ms/step - loss: 16.6288 - mae: 17.1206\n",
            "Epoch 87/100\n",
            "93/93 [==============================] - 1s 5ms/step - loss: 16.7242 - mae: 17.2154\n",
            "Epoch 88/100\n",
            "93/93 [==============================] - 1s 4ms/step - loss: 16.6663 - mae: 17.1562\n",
            "Epoch 89/100\n",
            "93/93 [==============================] - 1s 5ms/step - loss: 16.6159 - mae: 17.1069\n",
            "Epoch 90/100\n",
            "93/93 [==============================] - 1s 4ms/step - loss: 16.6653 - mae: 17.1558\n",
            "Epoch 91/100\n",
            "93/93 [==============================] - 1s 4ms/step - loss: 16.7456 - mae: 17.2372\n",
            "Epoch 92/100\n",
            "93/93 [==============================] - 1s 5ms/step - loss: 16.7516 - mae: 17.2422\n",
            "Epoch 93/100\n",
            "93/93 [==============================] - 1s 4ms/step - loss: 16.5871 - mae: 17.0772\n",
            "Epoch 94/100\n",
            "93/93 [==============================] - 1s 4ms/step - loss: 16.5038 - mae: 16.9955\n",
            "Epoch 95/100\n",
            "93/93 [==============================] - 1s 4ms/step - loss: 16.5420 - mae: 17.0325\n",
            "Epoch 96/100\n",
            "93/93 [==============================] - 1s 4ms/step - loss: 16.6480 - mae: 17.1390\n",
            "Epoch 97/100\n",
            "93/93 [==============================] - 1s 4ms/step - loss: 16.5199 - mae: 17.0109\n",
            "Epoch 98/100\n",
            "93/93 [==============================] - 1s 5ms/step - loss: 16.6448 - mae: 17.1345\n",
            "Epoch 99/100\n",
            "93/93 [==============================] - 1s 4ms/step - loss: 16.6273 - mae: 17.1179\n",
            "Epoch 100/100\n",
            "93/93 [==============================] - 1s 4ms/step - loss: 16.6248 - mae: 17.1165\n"
          ]
        }
      ],
      "source": [
        "# Set the learning rate\n",
        "learning_rate = 2e-5\n",
        "\n",
        "# Set the optimizer \n",
        "optimizer = tf.keras.optimizers.SGD(learning_rate=learning_rate, momentum=0.9)\n",
        "\n",
        "# Set the training parameters\n",
        "model.compile(loss=tf.keras.losses.Huber(),\n",
        "              optimizer=optimizer,\n",
        "              metrics=[\"mae\"])\n",
        "\n",
        "# Train the model\n",
        "history = model.fit(train_set,epochs=100)"
      ]
    },
    {
      "cell_type": "markdown",
      "metadata": {
        "id": "b1iV2t8ibIka"
      },
      "source": [
        "## Model Prediction\n",
        "\n",
        "Now see if the model generates good results. If you used the default parameters of this notebook, you should see the predictions follow the shape of the ground truth with an MAE of around 15. "
      ]
    },
    {
      "cell_type": "code",
      "execution_count": 14,
      "metadata": {
        "id": "djn06Tri2B6_"
      },
      "outputs": [],
      "source": [
        "def model_forecast(model, series, window_size, batch_size):\n",
        "    \"\"\"Uses an input model to generate predictions on data windows\n",
        "\n",
        "    Args:\n",
        "      model (TF Keras Model) - model that accepts data windows\n",
        "      series (array of float) - contains the values of the time series\n",
        "      window_size (int) - the number of time steps to include in the window\n",
        "      batch_size (int) - the batch size\n",
        "\n",
        "    Returns:\n",
        "      forecast (numpy array) - array containing predictions\n",
        "    \"\"\"\n",
        "\n",
        "    # Generate a TF Dataset from the series values\n",
        "    dataset = tf.data.Dataset.from_tensor_slices(series)\n",
        "\n",
        "    # Window the data but only take those with the specified size\n",
        "    dataset = dataset.window(window_size, shift=1, drop_remainder=True)\n",
        "\n",
        "    # Flatten the windows by putting its elements in a single batch\n",
        "    dataset = dataset.flat_map(lambda w: w.batch(window_size))\n",
        "    \n",
        "    # Create batches of windows\n",
        "    dataset = dataset.batch(batch_size).prefetch(1)\n",
        "    \n",
        "    # Get predictions on the entire dataset\n",
        "    forecast = model.predict(dataset)\n",
        "    \n",
        "    return forecast"
      ]
    },
    {
      "cell_type": "code",
      "execution_count": 15,
      "metadata": {
        "id": "GaC6NNMRp0lb",
        "colab": {
          "base_uri": "https://localhost:8080/",
          "height": 374
        },
        "outputId": "c07c7592-555e-4665-ad68-28991e2fcc24"
      },
      "outputs": [
        {
          "output_type": "display_data",
          "data": {
            "text/plain": [
              "<Figure size 720x432 with 1 Axes>"
            ],
            "image/png": "[encoded data removed]"
          },
          "metadata": {
            "needs_background": "light"
          }
        }
      ],
      "source": [
        "# Reduce the original series\n",
        "forecast_series = series[split_time-window_size:-1]\n",
        "\n",
        "# Use helper function to generate predictions\n",
        "forecast = model_forecast(model, forecast_series, window_size, batch_size)\n",
        "\n",
        "# Drop single dimensional axis\n",
        "results = forecast.squeeze()\n",
        "\n",
        "# Plot the results\n",
        "plot_series(time_valid, (x_valid, results))"
      ]
    },
    {
      "cell_type": "code",
      "execution_count": 16,
      "metadata": {
        "id": "13XrorC5wQoE",
        "colab": {
          "base_uri": "https://localhost:8080/"
        },
        "outputId": "80a9de84-ef23-4a35-db1e-f222492f6adf"
      },
      "outputs": [
        {
          "output_type": "stream",
          "name": "stdout",
          "text": [
            "15.272114\n"
          ]
        }
      ],
      "source": [
        "# Compute the MAE\n",
        "print(tf.keras.metrics.mean_absolute_error(x_valid, results).numpy())"
      ]
    },
    {
      "cell_type": "markdown",
      "metadata": {
        "id": "YqMGN9S5veN2"
      },
      "source": [
        "## Wrap Up\n",
        "\n",
        "In this lab, you built a relatively simple DNN to forecast sunspot numbers for a given month. We encourage you to tweak the parameters or train longer and see the best results you can get. In the next lab, you will build a more complex model and you evaluate if the added complexity translates to better or worse results."
      ]
    }
  ],
  "metadata": {
    "colab": {
      "collapsed_sections": [],
      "name": "C4_W4_Lab_2_Sunspots_DNN.ipynb",
      "provenance": []
    },
    "kernelspec": {
      "display_name": "Python 3",
      "language": "python",
      "name": "python3"
    },
    "language_info": {
      "codemirror_mode": {
        "name": "ipython",
        "version": 3
      },
      "file_extension": ".py",
      "mimetype": "text/x-python",
      "name": "python",
      "nbconvert_exporter": "python",
      "pygments_lexer": "ipython3",
      "version": "3.7.4"
    },
    "gpuClass": "standard"
  },
  "nbformat": 4,
  "nbformat_minor": 0
}